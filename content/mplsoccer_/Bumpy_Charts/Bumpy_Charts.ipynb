{
  "cells": [
    {
      "cell_type": "markdown",
      "metadata": {},
      "source": [
        "## *Setup required for Playground*\n",
        "\n",
        "The online playground requires a little bit of code to run first."
      ]
    },
    {
      "cell_type": "code",
      "execution_count": null,
      "metadata": {},
      "outputs": [],
      "source": [
        "%pip install requests\n",
        "# Patch requests to make it work in the browser\n",
        "import pyodide_http\n",
        "pyodide_http.patch_all()"
      ]
    },
    {
      "cell_type": "code",
      "execution_count": null,
      "metadata": {},
      "outputs": [],
      "source": [
        "%pip install mplsoccer highlight_text pandas"
      ]
    },
    {
      "cell_type": "markdown",
      "metadata": {},
      "source": [
        "Original notebook can be found [here](https://mplsoccer.readthedocs.io/en/latest/_downloads/d1fdddca141f1aab0658d2d5b234b69e/plot_bumpy.ipynb)"
      ]
    },
    {
      "cell_type": "code",
      "execution_count": null,
      "metadata": {
        "collapsed": false
      },
      "outputs": [],
      "source": [
        "%matplotlib inline"
      ]
    },
    {
      "cell_type": "markdown",
      "metadata": {},
      "source": [
        "\n# Bumpy Charts\n\n* Author: [slothfulwave612](https://twitter.com/slothfulwave612)\n\n* ``mplsoccer``, ``bumpy_chart`` module helps one to plot bumpy charts in a few lines of code.\n\n* Inspired By [CJ Mayes](https://public.tableau.com/profile/cj.mayes#!/ vizhome/PremierLeagueStandings201920/PREMIERLEAGUE201920)\n\n* Here we will show some examples of how to use ``mplsoccer`` to plot bumpy charts.\n"
      ]
    },
    {
      "cell_type": "code",
      "execution_count": null,
      "metadata": {
        "collapsed": false
      },
      "outputs": [],
      "source": [
        "import json\nfrom urllib.request import urlopen\n\nimport matplotlib.pyplot as plt\nimport numpy as np\nfrom PIL import Image\nfrom highlight_text import fig_text\n\nfrom mplsoccer import Bumpy, FontManager, add_image"
      ]
    },
    {
      "cell_type": "markdown",
      "metadata": {},
      "source": [
        "## Load some fonts\nWe will use mplsoccer's FontManager to load some fonts from Google Fonts.\nWe borrowed the FontManager from the excellent\n[ridge_map library](https://github.com/ColCarroll/ridge_map).\n\n"
      ]
    },
    {
      "cell_type": "code",
      "execution_count": null,
      "metadata": {
        "collapsed": false
      },
      "outputs": [],
      "source": [
        "font_normal = FontManager(\"https://raw.githubusercontent.com/google/fonts/main/apache/\"\n                          \"roboto/Roboto%5Bwdth,wght%5D.ttf\")\nfont_bold = FontManager(\"https://raw.githubusercontent.com/google/fonts/main/apache/\"\n                        \"robotoslab/RobotoSlab%5Bwght%5D.ttf\")"
      ]
    },
    {
      "cell_type": "markdown",
      "metadata": {},
      "source": [
        "## Load Files\nWe will using these images/data in our examples.\nYou can find all the images/data [here](https://github.com/andrewRowlinson/mplsoccer-assets).\n\n"
      ]
    },
    {
      "cell_type": "code",
      "execution_count": null,
      "metadata": {
        "collapsed": false
      },
      "outputs": [],
      "source": [
        "epl = Image.open(\n    urlopen(\"https://raw.githubusercontent.com/andrewRowlinson/mplsoccer-assets/main/epl.png\")\n)\n\nseason_dict = json.load(\n    urlopen(\"https://raw.githubusercontent.com/andrewRowlinson/mplsoccer-assets/main/epl.json\")\n)\n\nplayer_dict = json.load(\n    urlopen(\"https://raw.githubusercontent.com/andrewRowlinson/mplsoccer-assets/main/\"\n            \"percentile.json\")\n)"
      ]
    },
    {
      "cell_type": "markdown",
      "metadata": {},
      "source": [
        "## Making A Bumpy Chart\nA Bump Chart is a special form of a line plot.\nThis chart is well-suited for exploring changes in rank over time.\nUsing this chart, you can easily compare the position,\nperformance or rankings of multiple observations with\nrespect to each other rather than the actual values itself.\nWe are going to make use of the weekwise standing data for Premier League 2019/20.\n\n"
      ]
    },
    {
      "cell_type": "code",
      "execution_count": null,
      "metadata": {
        "collapsed": false
      },
      "outputs": [],
      "source": [
        "# match-week\nmatch_day = [\"Week \" + str(num) for num in range(1, 39)]\n\n# highlight dict --> team to highlight and their corresponding colors\nhighlight_dict = {\n    \"Liverpool\": \"crimson\",\n    \"Man City\": \"skyblue\",\n    \"Man Utd\": \"gold\"\n}\n\n# instantiate object\nbumpy = Bumpy(\n    scatter_color=\"#282A2C\", line_color=\"#252525\",  # scatter and line colors\n    rotate_xticks=90,  # rotate x-ticks by 90 degrees\n    ticklabel_size=17, label_size=30,  # ticklable and label font-size\n    scatter_primary='D',  # marker to be used\n    show_right=True,  # show position on the rightside\n    plot_labels=True,  # plot the labels\n    alignment_yvalue=0.1,  # y label alignment\n    alignment_xvalue=0.065  # x label alignment\n)\n\n# plot bumpy chart\nfig, ax = bumpy.plot(\n    x_list=match_day,  # match-day or match-week\n    y_list=np.linspace(1, 20, 20).astype(int),  # position value from 1 to 20\n    values=season_dict,  # values having positions for each team\n    secondary_alpha=0.5,   # alpha value for non-shaded lines/markers\n    highlight_dict=highlight_dict,  # team to be highlighted with their colors\n    figsize=(20, 16),  # size of the figure\n    x_label='Week', y_label='Position',  # label name\n    ylim=(-0.1, 23),  # y-axis limit\n    lw=2.5,   # linewidth of the connecting lines\n    fontproperties=font_normal.prop,   # fontproperties for ticklables/labels\n)\n\n# title and subtitle\nTITLE = \"Premier League 2019/20 week-wise standings:\"\nSUB_TITLE = \"A comparison between <Liverpool>, <Manchester City> and <Manchester United>\"\n\n# add title\nfig.text(0.09, 0.95, TITLE, size=29, color=\"#F2F2F2\", fontproperties=font_bold.prop)\n\n# add subtitle\nfig_text(\n    0.09, 0.94, SUB_TITLE, color=\"#F2F2F2\",\n    highlight_textprops=[{\"color\": 'crimson'}, {\"color\": 'skyblue'}, {\"color\": 'gold'}],\n    size=25, fig=fig, fontproperties=font_bold.prop\n)\n\n# add image\nfig = add_image(\n     epl,\n     fig,  # figure\n     0.02, 0.9,  # left and bottom dimensions\n     0.08, 0.08  # height and width values\n)\n\n# if space is left in the plot use this\nplt.tight_layout(pad=0.5)"
      ]
    },
    {
      "cell_type": "markdown",
      "metadata": {},
      "source": [
        "## Flip The y-axis\nIf you want to plot positions from the bottom, i.e. the 1st position will\nbe at the bottom and the 20th position will be at the top. You can do it easily.\nYou just have to pass ``upside_down=True`` inside ``plot`` function.\n\n"
      ]
    },
    {
      "cell_type": "code",
      "execution_count": null,
      "metadata": {
        "collapsed": false
      },
      "outputs": [],
      "source": [
        "# instantiate object\nbumpy = Bumpy(\n    scatter_color=\"#282A2C\", line_color=\"#252525\",  # scatter and line colors\n    rotate_xticks=90,  # rotate x-ticks by 90 degrees\n    ticklabel_size=17, label_size=30,  # ticklable and label font-size\n    scatter_primary='D',  # marker to be used\n    show_right=True,  # show position on the rightside\n    plot_labels=True,  # plot the labels\n    alignment_yvalue=0.1,  # y label alignment\n    alignment_xvalue=0.065,  # x label alignment\n)\n\n# plot bumpy chart\nfig, ax = bumpy.plot(\n    x_list=match_day,  # match-day or match-week\n    y_list=np.linspace(1, 20, 20).astype(int),  # position value from 1 to 20\n    values=season_dict,  # values having positions for each team\n    secondary_alpha=0.5,   # alpha value for non-shaded lines/markers\n    highlight_dict=highlight_dict,  # team to be highlighted with their colors\n    figsize=(20, 16),  # size of the figure\n    x_label='Week', y_label='Position',  # label name\n    ylim=(-0.1, 23),  # y-axis limit\n    lw=2.5,   # linewidth of the connecting lines\n    upside_down=True,    # <--- to flip the y-axis\n    fontproperties=font_normal.prop,   # fontproperties for ticklables/labels\n)\n\n# title and subtitle\nTITLE = \"Premier League 2019/20 week-wise standings:\"\nSUB_TITLE = \"A comparison between <Liverpool>, <Manchester City> and <Manchester United>\"\n\n# add title\nfig.text(0.09, 0.95, TITLE, size=29, color=\"#F2F2F2\", fontproperties=font_bold.prop)\n\n# add subtitle\nfig_text(\n    0.09, 0.94, SUB_TITLE, color=\"#F2F2F2\",\n    highlight_textprops=[{\"color\": 'crimson'}, {\"color\": 'skyblue'}, {\"color\": 'gold'}],\n    size=25, fig=fig, fontproperties=font_bold.prop\n)\n\n# add image\nfig = add_image(\n     epl,\n     fig,  # figure\n     0.02, 0.9,  # left and bottom dimensions\n     0.08, 0.08  # height and width values\n)\n\n# if space is left in the plot use this\nplt.tight_layout(pad=0.5)"
      ]
    },
    {
      "cell_type": "markdown",
      "metadata": {},
      "source": [
        "## Light Theme\nYou can use ``background_color``, ``scatter_color``, ``label_color``, and ``line_color`` arguments\nto change the whole theme of the plot. Below is the code demonstrating how to make a light-theme\nbumpy chart using ``mplsoccer``.\nBelow you can also use ``scatter_points``, ``scatter_primary``, and ``scatter_size``\narguments inside ``Bumpy`` method to change markers and their sizes.\n\n"
      ]
    },
    {
      "cell_type": "code",
      "execution_count": null,
      "metadata": {
        "collapsed": false
      },
      "outputs": [],
      "source": [
        "# highlight dict --> team to highlight and their corresponding colors\nhighlight_dict = {\n    \"Man Utd\": \"crimson\",\n    \"Chelsea\": \"blue\"\n}\n\n# instantiate object\nbumpy = Bumpy(\n    background_color=\"#F6F6F6\", scatter_color=\"#808080\",\n    label_color=\"#000000\", line_color=\"#C0C0C0\",\n    rotate_xticks=90,  # rotate x-ticks by 90 degrees\n    ticklabel_size=17, label_size=30,  # ticklable and label font-size\n    scatter_points='D',   # other markers\n    scatter_primary='o',  # marker to be used for teams\n    scatter_size=150,   # size of the marker\n    show_right=True,  # show position on the rightside\n    plot_labels=True,  # plot the labels\n    alignment_yvalue=0.1,  # y label alignment\n    alignment_xvalue=0.065  # x label alignment\n)\n\n# plot bumpy chart\nfig, ax = bumpy.plot(\n    x_list=match_day,  # match-day or match-week\n    y_list=np.linspace(1, 20, 20).astype(int),  # position value from 1 to 20\n    values=season_dict,  # values having positions for each team\n    secondary_alpha=0.2,   # alpha value for non-shaded lines/markers\n    highlight_dict=highlight_dict,  # team to be highlighted with their colors\n    figsize=(20, 16),  # size of the figure\n    x_label='Week', y_label='Position',  # label name\n    ylim=(-0.1, 23),  # y-axis limit\n    lw=2.5,   # linewidth of the connecting lines\n    fontproperties=font_normal.prop,   # fontproperties for ticklabels/labels\n)\n\n# title and subtitle\nTITLE = \"Premier League 2019/20 week-wise standings:\"\nSUB_TITLE = \"A comparison between <Manchester United> and <Chelsea>\"\n\n# add title\nfig.text(0.03, 0.95, TITLE, size=29, color=\"#222222\", fontproperties=font_bold.prop)\n\n# add subtitle\nfig_text(\n    0.03, 0.94, SUB_TITLE, color=\"#222222\",\n    highlight_textprops=[{\"color\": 'crimson'}, {\"color\": 'blue'}],\n    size=25, fig=fig, fontproperties=font_bold.prop\n)\n\n# if space is left in the plot use this\nplt.tight_layout(pad=0.5)"
      ]
    },
    {
      "cell_type": "markdown",
      "metadata": {},
      "source": [
        "## Player Percentile Rank Viz\nHere we will create a bumpy-chart that will compare two players based on their percentile rank.\n\n"
      ]
    },
    {
      "cell_type": "code",
      "execution_count": null,
      "metadata": {
        "collapsed": false
      },
      "outputs": [],
      "source": [
        "# attributes and highlight dict\nattribute = [\n    \"xA\", \"Passes\\nInto Pen\", \"Passes\\nInto Final 1/3\", \"Progressive\\nPass Distance\",\n    \"Pass\\nReceive%\", \"Progressive\\nCarry Distance\"\n]\nhighlight_dict = {\n    \"Cristi\u00e1n Zapata\": \"crimson\",\n    \"Francesco Acerbi\": \"cornflowerblue\"\n}\n\n# instantiate object\nbumpy = Bumpy(\n    rotate_xticks=0, ticklabel_size=23, label_size=28, scatter=\"value\",\n    show_right=True, alignment_yvalue=0.15, alignment_xvalue=0.06\n)\n\n# plot bumpy chart\nfig, ax = bumpy.plot(\n    x_list=attribute, y_list=np.linspace(1, 100, 11).astype(int), values=player_dict,\n    secondary_alpha=0.05, highlight_dict=highlight_dict,\n    figsize=(20, 12),\n    x_label=\"Attributes\", y_label=\"Percentile Rank\", ylim=(0.5, 12),\n    upside_down=True,\n    fontfamily=\"Liberation Serif\"\n)\n\n# title and subtitle\nTITLE = \"Comparison Between <Cristi\u00e1n Zapata> and <Francesco Acerbi>\"\n\n# add title\nfig_text(\n    0.02, 0.98, TITLE, color=\"#F2F2F2\",\n    highlight_textprops=[{\"color\": 'crimson'}, {\"color\": 'cornflowerblue'}],\n    size=34, fig=fig, fontfamily=\"Liberation Serif\"\n)\n# if space is left in the plot use this\nplt.tight_layout(pad=0.5)"
      ]
    }
  ],
  "metadata": {
    "kernelspec": {
      "display_name": "Python 3",
      "language": "python",
      "name": "python3"
    },
    "language_info": {
      "codemirror_mode": {
        "name": "ipython",
        "version": 3
      },
      "file_extension": ".py",
      "mimetype": "text/x-python",
      "name": "python",
      "nbconvert_exporter": "python",
      "pygments_lexer": "ipython3",
      "version": "3.11.0"
    }
  },
  "nbformat": 4,
  "nbformat_minor": 0
}
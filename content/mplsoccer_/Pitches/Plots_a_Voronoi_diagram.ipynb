{
  "cells": [
    {
      "cell_type": "markdown",
      "metadata": {},
      "source": [
        "## *Setup required for Playground*\n",
        "\n",
        "The online playground requires a little bit of code to run first."
      ]
    },
    {
      "cell_type": "code",
      "execution_count": null,
      "metadata": {},
      "outputs": [],
      "source": [
        "%pip install requests\n",
        "# Patch requests to make it work in the browser\n",
        "import pyodide_http\n",
        "pyodide_http.patch_all()"
      ]
    },
    {
      "cell_type": "code",
      "execution_count": null,
      "metadata": {},
      "outputs": [],
      "source": [
        "%pip install mplsoccer highlight_text pandas"
      ]
    },
    {
      "cell_type": "markdown",
      "metadata": {},
      "source": [
        "Original notebook can be found [here](https://mplsoccer.readthedocs.io/en/latest/_downloads/3853088cdf80d16218241d886eff7c42/plot_voronoi.ipynb)"
      ]
    },
    {
      "cell_type": "code",
      "execution_count": null,
      "metadata": {
        "collapsed": false
      },
      "outputs": [],
      "source": [
        "%matplotlib inline"
      ]
    },
    {
      "cell_type": "markdown",
      "metadata": {},
      "source": [
        "\n# Plots a Voronoi diagram\n\nThis example shows how to plot a Voronoi diagram for a freeze frame.\n"
      ]
    },
    {
      "cell_type": "code",
      "execution_count": null,
      "metadata": {
        "collapsed": false
      },
      "outputs": [],
      "source": [
        "import matplotlib.pyplot as plt\nfrom mplsoccer import Pitch, Sbopen\nimport numpy as np\n\n# get freeze frame data for game 3788741\nparser = Sbopen()\nframes, visible = parser.frame(3788741)"
      ]
    },
    {
      "cell_type": "markdown",
      "metadata": {},
      "source": [
        "Subset a shot\n\n"
      ]
    },
    {
      "cell_type": "code",
      "execution_count": null,
      "metadata": {
        "collapsed": false
      },
      "outputs": [],
      "source": [
        "frame_idx = 50\nframe_id = visible.iloc[50].id\n\nvisible_area = np.array(visible.iloc[frame_idx].visible_area).reshape(-1, 2)\nplayer_position_data = frames[frames.id == frame_id]\n\nteammate_locs = player_position_data[player_position_data.teammate]\nopponent_locs = player_position_data[~player_position_data.teammate]"
      ]
    },
    {
      "cell_type": "markdown",
      "metadata": {},
      "source": [
        "Plotting\n\n"
      ]
    },
    {
      "cell_type": "code",
      "execution_count": null,
      "metadata": {
        "collapsed": false
      },
      "outputs": [],
      "source": [
        "# draw plot\np = Pitch(pitch_type='statsbomb')\nfig, ax = p.draw(figsize=(12,8))\n\n# Plot Voronoi\nteam1, team2 = p.voronoi(player_position_data.x, player_position_data.y,\n                         player_position_data.teammate)\nt1 = p.polygon(team1, ax=ax, fc='orange', ec='white', lw=3, alpha=0.4)\nt2 = p.polygon(team2, ax=ax, fc='dodgerblue', ec='white', lw=3, alpha=0.4)\n\n# Plot players\nsc1 = p.scatter(teammate_locs.x, teammate_locs.y, c='orange', s=80, ec='k', ax=ax)\nsc2 = p.scatter(opponent_locs.x, opponent_locs.y, c='dodgerblue', s=80, ec='k', ax=ax)\n\n# Plot the visible area\nvisible = p.polygon([visible_area], color='None', ec='k', linestyle='--', lw=2, ax=ax)\n\n# clip each player to the visible area\nfor p1 in t1:\n    p1.set_clip_path(visible[0])\nfor p2 in t2:\n    p2.set_clip_path(visible[0])\n\nplt.show()  # If you are using a Jupyter notebook you do not need this line"
      ]
    }
  ],
  "metadata": {
    "kernelspec": {
      "display_name": "Python 3",
      "language": "python",
      "name": "python3"
    },
    "language_info": {
      "codemirror_mode": {
        "name": "ipython",
        "version": 3
      },
      "file_extension": ".py",
      "mimetype": "text/x-python",
      "name": "python",
      "nbconvert_exporter": "python",
      "pygments_lexer": "ipython3",
      "version": "3.11.0"
    }
  },
  "nbformat": 4,
  "nbformat_minor": 0
}
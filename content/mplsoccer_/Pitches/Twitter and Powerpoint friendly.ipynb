{
  "cells": [
    {
      "cell_type": "markdown",
      "metadata": {},
      "source": [
        "## *Setup required for Playground*\n",
        "\n",
        "The online playground requires a little bit of code to run first."
      ]
    },
    {
      "cell_type": "code",
      "execution_count": null,
      "metadata": {},
      "outputs": [],
      "source": [
        "%pip install mplsoccer highlight_text pandas requests"
      ]
    },
    {
      "cell_type": "code",
      "execution_count": null,
      "metadata": {},
      "outputs": [],
      "source": [
        "# Patch requests to make it work in the browser",
        "import pyodide_http\n",
        "pyodide_http.patch_all()"
      ]
    },
    {
      "cell_type": "markdown",
      "metadata": {},
      "source": [
        "Original notebook can be found [here](https://mplsoccer.readthedocs.io/en/latest/_downloads/c92cd2de3d1ed404648ae74511d8f5df/plot_twitter_powerpoint.ipynb)"
      ]
    },
    {
      "cell_type": "code",
      "execution_count": null,
      "metadata": {
        "collapsed": false
      },
      "outputs": [],
      "source": [
        "%matplotlib inline"
      ]
    },
    {
      "cell_type": "markdown",
      "metadata": {},
      "source": [
        "\n# Twitter and Powerpoint friendly\n\nIn these examples, we aim to size the pitches so that they are not cropped\nby Twitter and fit exactly in a Powerpoint slide (16:9 aspect ratio).\n\nI am not sure if this is good or bad for increasing your social media reach.\nIt could increase likes/retweets by making the media more accessible. On\nthe other hand the algorithms might pick up engagement from people clicking to\nenlarge cropped photos.\n\nFor Twitter, the following aspect ratios prevent images getting cropped (width then height):\n\n* A single image: ``16 by 9``\n\n* Two images: ``7 by 8``\n\n* One ``7 by 8`` and two ``7 by 4``\n\n* Four images: ``7 by 4``\n"
      ]
    },
    {
      "cell_type": "code",
      "execution_count": null,
      "metadata": {
        "collapsed": false
      },
      "outputs": [],
      "source": [
        "import matplotlib.pyplot as plt\n\nfrom mplsoccer import Pitch, VerticalPitch"
      ]
    },
    {
      "cell_type": "markdown",
      "metadata": {},
      "source": [
        "## 16 by 9 horizontal\nI created a function to calculate the maximum dimensions you can get away with while\nhaving a set figure size. Let's use this to create the largest pitch possible\nwith a 16:9 figure aspect ratio.\n\n"
      ]
    },
    {
      "cell_type": "code",
      "execution_count": null,
      "metadata": {
        "collapsed": false
      },
      "outputs": [],
      "source": [
        "FIGWIDTH = 16\nFIGHEIGHT = 9\nNROWS = 1\nNCOLS = 1\n# here we want the maximum side in proportion to the figure dimensions\n# (height in this case) to take up all of the image\nMAX_GRID = 1\n\n# pitch with minimal padding (2 each side)\npitch = Pitch(pad_top=2, pad_bottom=2, pad_left=2, pad_right=2, pitch_color='#22312b')\n\n# calculate the maximum grid_height/ width\nGRID_WIDTH, GRID_HEIGHT = pitch.grid_dimensions(figwidth=FIGWIDTH, figheight=FIGHEIGHT,\n                                                nrows=NROWS, ncols=NCOLS,\n                                                max_grid=MAX_GRID, space=0)\n\n# plot using the mplsoccer grid function\nfig, ax = pitch.grid(figheight=FIGHEIGHT, grid_width=GRID_WIDTH, grid_height=GRID_HEIGHT,\n                     title_height=0, endnote_height=0)\nfig.set_facecolor('#22312b')"
      ]
    },
    {
      "cell_type": "markdown",
      "metadata": {},
      "source": [
        "## 16 by 9 horizontal grass\nNow let's get the largest pitch possible for a 16:9 figure but with grassy stripes.\nSee [Caley Graphics](https://twitter.com/Caley_graphics) for some inspiration\non how you might add titles on the pitch.\n\n"
      ]
    },
    {
      "cell_type": "code",
      "execution_count": null,
      "metadata": {
        "collapsed": false
      },
      "outputs": [],
      "source": [
        "FIGWIDTH = 16\nFIGHEIGHT = 9\nNROWS = 1\nNCOLS = 1\nMAX_GRID = 1\n\n# here we setup the padding to get a 16:9 aspect ratio for the axis\n# note 80 is the StatsBomb width and 120 is the StatsBomb length\n# this will extend the (axis) grassy effect to the figure edges\nPAD_TOP = 2\nPAD_BOTTOM = 2\nPAD_SIDES = (((80 + PAD_BOTTOM + PAD_TOP) * FIGWIDTH / FIGHEIGHT) - 120) / 2\npitch = Pitch(pad_top=PAD_TOP, pad_bottom=PAD_BOTTOM,\n              pad_left=PAD_SIDES, pad_right=PAD_SIDES,\n              pitch_color='grass', stripe=True, line_color='white')\n\n# calculate the maximum grid_height/ width\nGRID_WIDTH, GRID_HEIGHT = pitch.grid_dimensions(figwidth=FIGWIDTH, figheight=FIGHEIGHT,\n                                                nrows=NROWS, ncols=NCOLS,\n                                                max_grid=1, space=0)\n# plot\nfig, ax = pitch.grid(figheight=FIGHEIGHT, grid_width=GRID_WIDTH, grid_height=GRID_HEIGHT,\n                     title_height=0, endnote_height=0)"
      ]
    },
    {
      "cell_type": "markdown",
      "metadata": {},
      "source": [
        "## 16 by 9: three vertical pitches\nThree vertical pitches fits nicely in the 16:9 aspect ratio.\nHere we plot with a title and endnote axis too.\n\n"
      ]
    },
    {
      "cell_type": "code",
      "execution_count": null,
      "metadata": {
        "collapsed": false
      },
      "outputs": [],
      "source": [
        "FIGWIDTH = 16\nFIGHEIGHT = 9\nNROWS = 1\nNCOLS = 3\nSPACE = 0.09\nMAX_GRID = 0.95\n\npitch = VerticalPitch(pad_top=1, pad_bottom=1,\n                      pad_left=1, pad_right=1,\n                      pitch_color='grass', stripe=True, line_color='white')\n\nGRID_WIDTH, GRID_HEIGHT = pitch.grid_dimensions(figwidth=FIGWIDTH, figheight=FIGHEIGHT,\n                                                nrows=NROWS, ncols=NCOLS,\n                                                max_grid=MAX_GRID, space=SPACE)\n\nTITLE_HEIGHT = 0.1\nENDNOTE_HEIGHT = MAX_GRID - (GRID_HEIGHT + TITLE_HEIGHT)\n\nfig, ax = pitch.grid(figheight=FIGHEIGHT, grid_width=GRID_WIDTH, grid_height=GRID_HEIGHT,\n                     space=SPACE, ncols=NCOLS, nrows=NROWS, title_height=TITLE_HEIGHT,\n                     endnote_height=ENDNOTE_HEIGHT, axis=True)"
      ]
    },
    {
      "cell_type": "markdown",
      "metadata": {},
      "source": [
        "## 16 by 9: 2 cropped half-pitches\nHere we plot two half pitches side-by-side that are cropped so 15 units are taken\noff each side. This is how I would do game xG comparisons.\n\n"
      ]
    },
    {
      "cell_type": "code",
      "execution_count": null,
      "metadata": {
        "collapsed": false
      },
      "outputs": [],
      "source": [
        "FIGWIDTH = 16\nFIGHEIGHT = 9\nNROWS = 1\nNCOLS = 2\nSPACE = 0.05\nMAX_GRID = 0.95\n\npitch = VerticalPitch(pad_top=3, pad_bottom=-15,\n                      pad_left=-15, pad_right=-15, linewidth=1, half=True,\n                      pitch_color='grass', stripe=True, line_color='white')\n\nGRID_WIDTH, GRID_HEIGHT = pitch.grid_dimensions(figwidth=FIGWIDTH, figheight=FIGHEIGHT,\n                                                nrows=NROWS, ncols=NCOLS,\n                                                max_grid=MAX_GRID, space=SPACE)\nTITLE_HEIGHT = 0.08\nENDNOTE_HEIGHT = 0.04\n\nfig, ax = pitch.grid(figheight=FIGHEIGHT, grid_width=GRID_WIDTH, grid_height=GRID_HEIGHT,\n                     space=SPACE, ncols=NCOLS, nrows=NROWS, title_height=TITLE_HEIGHT,\n                     endnote_height=ENDNOTE_HEIGHT, axis=True)"
      ]
    },
    {
      "cell_type": "markdown",
      "metadata": {},
      "source": [
        "## 16 by 9: team of pitches\nHere we plot 15 pitches (11 players + 3 subs + 1 pitch for the whole team).\n\n"
      ]
    },
    {
      "cell_type": "code",
      "execution_count": null,
      "metadata": {
        "collapsed": false
      },
      "outputs": [],
      "source": [
        "FIGWIDTH = 16\nFIGHEIGHT = 9\nNROWS = 3\nNCOLS = 5\nSPACE = 0.1\nMAX_GRID = 0.98\n\npitch = Pitch(pad_top=1, pad_bottom=1,\n              pad_left=1, pad_right=1, linewidth=1,\n              pitch_color='grass', stripe=True, line_color='white')\n\nGRID_WIDTH, GRID_HEIGHT = pitch.grid_dimensions(figwidth=FIGWIDTH, figheight=FIGHEIGHT,\n                                                nrows=NROWS, ncols=NCOLS,\n                                                max_grid=MAX_GRID, space=SPACE)\n\nTITLE_HEIGHT = 0.15\nENDNOTE_HEIGHT = 0.05\n\nfig, ax = pitch.grid(figheight=FIGHEIGHT, grid_width=GRID_WIDTH,\n                     grid_height=GRID_HEIGHT, space=SPACE,\n                     ncols=NCOLS, nrows=NROWS, title_height=TITLE_HEIGHT,\n                     endnote_height=ENDNOTE_HEIGHT, axis=True)"
      ]
    },
    {
      "cell_type": "markdown",
      "metadata": {},
      "source": [
        "## 7 by 8\nMost of the Twitter aspect ratios are around 1.5 - 1.8 with the exception of\nthe 7 by 8 aspect ratio. This isn't a great aspect ratio for pitches, but seems\nto work okay for one vertical pitch (with a bit of extra space either side).\n\n"
      ]
    },
    {
      "cell_type": "code",
      "execution_count": null,
      "metadata": {
        "collapsed": false
      },
      "outputs": [],
      "source": [
        "FIGWIDTH = 7\nFIGHEIGHT = 8\nNROWS = 1\nNCOLS = 1\nSPACE = 0\nMAX_GRID = 1\n\n# here we setup the padding to get a 16:9 aspect ratio for the axis\n# note 80 is the StatsBomb width and 120 is the StatsBomb length\n# this will extend the (axis) grassy effect to the figure edges\nPAD_TOP = 2\nPAD_BOTTOM = 2\nPAD_SIDES = ((120 + PAD_TOP + PAD_BOTTOM) * FIGWIDTH / FIGHEIGHT - 80) / 2\npitch = VerticalPitch(pad_top=PAD_TOP, pad_bottom=PAD_BOTTOM,\n                      pad_left=PAD_SIDES, pad_right=PAD_SIDES,\n                      pitch_color='grass', stripe=True, line_color='white')\n\nGRID_WIDTH, GRID_HEIGHT = pitch.grid_dimensions(figwidth=FIGWIDTH, figheight=FIGHEIGHT,\n                                                nrows=NROWS, ncols=NCOLS,\n                                                max_grid=MAX_GRID, space=SPACE)\nTITLE_HEIGHT = 0\nENDNOTE_HEIGHT = 0\n\nfig, ax = pitch.grid(figheight=FIGHEIGHT, grid_width=GRID_WIDTH,\n                     grid_height=GRID_HEIGHT, space=SPACE,\n                     ncols=NCOLS, nrows=NROWS, title_height=TITLE_HEIGHT,\n                     endnote_height=ENDNOTE_HEIGHT, axis=True)\n\nplt.show()  # If you are using a Jupyter notebook you do not need this line"
      ]
    }
  ],
  "metadata": {
    "kernelspec": {
      "display_name": "Python 3",
      "language": "python",
      "name": "python3"
    },
    "language_info": {
      "codemirror_mode": {
        "name": "ipython",
        "version": 3
      },
      "file_extension": ".py",
      "mimetype": "text/x-python",
      "name": "python",
      "nbconvert_exporter": "python",
      "pygments_lexer": "ipython3",
      "version": "3.11.0"
    }
  },
  "nbformat": 4,
  "nbformat_minor": 0
}
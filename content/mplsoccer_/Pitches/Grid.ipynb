{
  "cells": [
    {
      "cell_type": "markdown",
      "metadata": {},
      "source": [
        "## *Setup required for Playground*\n",
        "\n",
        "The online playground requires a little bit of code to run first."
      ]
    },
    {
      "cell_type": "code",
      "execution_count": null,
      "metadata": {},
      "outputs": [],
      "source": [
        "%pip install requests\n",
        "# Patch requests to make it work in the browser\n",
        "import pyodide_http\n",
        "pyodide_http.patch_all()"
      ]
    },
    {
      "cell_type": "code",
      "execution_count": null,
      "metadata": {},
      "outputs": [],
      "source": [
        "%pip install mplsoccer highlight_text pandas"
      ]
    },
    {
      "cell_type": "markdown",
      "metadata": {},
      "source": [
        "Original notebook can be found [here](https://mplsoccer.readthedocs.io/en/latest/_downloads/762cafeba876a8c59dc776e2d8dc88ab/plot_grid.ipynb)"
      ]
    },
    {
      "cell_type": "code",
      "execution_count": null,
      "metadata": {
        "collapsed": false
      },
      "outputs": [],
      "source": [
        "%matplotlib inline"
      ]
    },
    {
      "cell_type": "markdown",
      "metadata": {},
      "source": [
        "\n# Grid\n\nThe grid method provides a convenient way to plot multiple pitches in the same figure.\nUnfortunately, it is often hard to control the space between pitches through\nMatplotlib's plt.subplots (via the Pitch's draw method).\nYou have to use trial and error to get a figure looking right.\n\nThe grid method makes your life easier; you can fix the space between pitches.\nIt then automatically calculates the pitch placement and the correct figure width.\nI also added the option of including a title_ax and endnote_ax, which align to the pitch sides.\n\nThis example takes you through the basics of how the grid method works and then\nshows a more complicated example copied\nfrom [Brad (@DymondFormation)](https://twitter.com/DymondFormation) and using\nthe [highlight_text package](https://github.com/znstrider/highlight_text)\nby [@danzn1](https://twitter.com/danzn1).\n"
      ]
    },
    {
      "cell_type": "code",
      "execution_count": null,
      "metadata": {
        "collapsed": false
      },
      "outputs": [],
      "source": [
        "from urllib.request import urlopen\nimport warnings\n\nimport cmasher as cmr\nimport matplotlib.pyplot as plt\nimport numpy as np\nfrom PIL import Image\nfrom highlight_text import ax_text\n\nfrom mplsoccer import Pitch, VerticalPitch, add_image, FontManager, Sbopen"
      ]
    },
    {
      "cell_type": "markdown",
      "metadata": {},
      "source": [
        "## Single Pitch\nYou can also use grid to plot a single pitch with an endnote and title axis.\nThe defaults setup a pitch with a 2.5%\n(of the figure height/ width) border around the sides.\n\n"
      ]
    },
    {
      "cell_type": "code",
      "execution_count": null,
      "metadata": {
        "collapsed": false
      },
      "outputs": [],
      "source": [
        "pitch = Pitch()\nfig, axs = pitch.grid()"
      ]
    },
    {
      "cell_type": "markdown",
      "metadata": {},
      "source": [
        "## Multiple Pitches side by side\nNext up let's plot 3 pitches side-by-side.\n\n"
      ]
    },
    {
      "cell_type": "code",
      "execution_count": null,
      "metadata": {
        "collapsed": false
      },
      "outputs": [],
      "source": [
        "pitch = VerticalPitch()\nfig, axs = pitch.grid(figheight=15, ncols=3)"
      ]
    },
    {
      "cell_type": "markdown",
      "metadata": {},
      "source": [
        "## Grid of Pitches\nHere's how to plot a grid of pitches\n\n"
      ]
    },
    {
      "cell_type": "code",
      "execution_count": null,
      "metadata": {
        "collapsed": false
      },
      "outputs": [],
      "source": [
        "pitch = Pitch(linewidth=4)\nfig, axs = pitch.grid(nrows=3, ncols=4,  # number of rows/ columns\n                      figheight=25,  # the figure height in inches\n                      bottom=0.025,  # starts 2.5% in from the figure bottom\n                      # grid takes up 83% of the figure height\n                      # I calculated this so most of the figure is pitches\n                      # 1 - (bottom + endnote_height + endnote_space +\n                      # title_height + title_space) - 0.025 [space at top]\n                      grid_height=0.83,\n                      # reduced the amount of the figure height reserved\n                      # for the ax_endnote and ax_title since it is in\n                      # fractions of the figure height and the figure height\n                      # has increased. e.g. now the title_height is\n                      # 8% of the figheight (25).\n                      grid_width=0.95,  # the grid takes up 95% of the figwidth\n                      # 5% of the grid_height is the space between pitches.\n                      space=0.05,\n                      endnote_height=0.02, endnote_space=0.01,\n                      title_height=0.08, title_space=0.01)"
      ]
    },
    {
      "cell_type": "markdown",
      "metadata": {},
      "source": [
        "## Removing the endnote/title\nYou can remove the endnote/title axis by setting the endnote_height/ title_height\nto zero.\n\n"
      ]
    },
    {
      "cell_type": "code",
      "execution_count": null,
      "metadata": {
        "collapsed": false
      },
      "outputs": [],
      "source": [
        "pitch = Pitch(linewidth=4)\nfig, axs = pitch.grid(nrows=3, ncols=4,  # number of rows/ columns\n                      figheight=25,  # the figure height in inches\n                      bottom=0.025,  # starts 2.5% in from the figure bottom\n                      # increased the grid_height as no title/ endnote\n                      # now it takes up 95% of the figheight\n                      grid_height=0.95,\n                      grid_width=0.95,  # the grid takes up 95% of the figwidth\n                      # 6% of the grid_height is the space between pitches.\n                      space=0.06,\n                      # set the endnote/title height to zero so\n                      # they are not plotted. note this automatically\n                      # sets the endnote/title space to zero\n                      # so the grid starts at the bottom/left location\n                      endnote_height=0, title_height=0)"
      ]
    },
    {
      "cell_type": "markdown",
      "metadata": {},
      "source": [
        "## Pass maps\nThe following example plots pass maps for each player on a team.\nThe plot design is copied from\n[Brad (@DymondFormation)](https://twitter.com/DymondFormation).\n\nFirst we need to get the StatsBomb events, tactics, and lineup data\n\n"
      ]
    },
    {
      "cell_type": "code",
      "execution_count": null,
      "metadata": {
        "collapsed": false
      },
      "outputs": [],
      "source": [
        "parser = Sbopen()\nevents, related, freeze, tactics = parser.event(15946)\nlineup = parser.lineup(15946)"
      ]
    },
    {
      "cell_type": "markdown",
      "metadata": {},
      "source": [
        "Add on the subbed on/ off times to the lineup dataframe\n\n"
      ]
    },
    {
      "cell_type": "code",
      "execution_count": null,
      "metadata": {
        "collapsed": false
      },
      "outputs": [],
      "source": [
        "# dataframe with player_id and when they were subbed off\ntime_off = events.loc[(events.type_name == 'Substitution'),\n                      ['player_id', 'minute']]\ntime_off.rename({'minute': 'off'}, axis='columns', inplace=True)\n# dataframe with player_id and when they were subbed on\ntime_on = events.loc[(events.type_name == 'Substitution'),\n                     ['substitution_replacement_id', 'minute']]\ntime_on.rename({'substitution_replacement_id': 'player_id',\n                'minute': 'on'}, axis='columns', inplace=True)\nplayers_on = time_on.player_id\n# merge on times subbed on/off\nlineup = lineup.merge(time_on, on='player_id', how='left')\nlineup = lineup.merge(time_off, on='player_id', how='left')"
      ]
    },
    {
      "cell_type": "markdown",
      "metadata": {},
      "source": [
        "Filter the lineup to include players who played and add on the first position they played\n\n"
      ]
    },
    {
      "cell_type": "code",
      "execution_count": null,
      "metadata": {
        "collapsed": false
      },
      "outputs": [],
      "source": [
        "# filter the tactics lineup for the starting xi\nstarting_ids = events[events.type_name == 'Starting XI'].id\nstarting_xi = tactics[tactics.id.isin(starting_ids)]\nstarting_players = starting_xi.player_id\n\n# filter the lineup for players that actually played\nmask_played = ((lineup.on.notnull()) | (lineup.off.notnull()) |\n               (lineup.player_id.isin(starting_players)))\nlineup = lineup[mask_played].copy()\n\n# get the first position for each player and add this to the lineup dataframe\nplayer_positions = (events[['player_id', 'position_id']]\n                    .dropna(how='any', axis='rows')\n                    .drop_duplicates('player_id', keep='first'))\nlineup = lineup.merge(player_positions, how='left', on='player_id')\n\n# add on the position abbreviation\nformation_dict = {1: 'GK', 2: 'RB', 3: 'RCB', 4: 'CB', 5: 'LCB', 6: 'LB', 7: 'RWB',\n                  8: 'LWB', 9: 'RDM', 10: 'CDM', 11: 'LDM', 12: 'RM', 13: 'RCM',\n                  14: 'CM', 15: 'LCM', 16: 'LM', 17: 'RW', 18: 'RAM', 19: 'CAM',\n                  20: 'LAM', 21: 'LW', 22: 'RCF', 23: 'ST', 24: 'LCF', 25: 'SS'}\nlineup['position_abbreviation'] = lineup.position_id.map(formation_dict)\n\n# sort the dataframe so the players are\n# in the order of their position (if started), otherwise in the order they came on\nlineup['start'] = lineup.player_id.isin(starting_players)\nlineup.sort_values(['team_name', 'start', 'on', 'position_id'],\n                   ascending=[True, False, True, True], inplace=True)"
      ]
    },
    {
      "cell_type": "markdown",
      "metadata": {},
      "source": [
        "Filter the lineup/ events to one team and exclude some set pieces\n\n"
      ]
    },
    {
      "cell_type": "code",
      "execution_count": null,
      "metadata": {
        "collapsed": false
      },
      "outputs": [],
      "source": [
        "# filter the lineup for Barcelona players\n# if you want the other team set team = team2\nteam1, team2 = lineup.team_name.unique()  # Barcelona (team1), Deportivo Alav\u00e9s (team2)\nteam = team1\nlineup_team = lineup[lineup.team_name == team].copy()\n\n# filter the events to exclude some set pieces\nset_pieces = ['Throw-in', 'Free Kick', 'Corner', 'Kick Off', 'Goal Kick']\n# for the team pass map\npass_receipts = events[(events.team_name == team) & (events.type_name == 'Ball Receipt')].copy()\n# for the player pass maps\npasses_excl_throw = events[(events.team_name == team) & (events.type_name == 'Pass') &\n                           (events.sub_type_name != 'Throw-in')].copy()\n\n# identify how many players played and how many subs were used\n# we will use this in the loop for only plotting pass maps for as\n# many players who played\nnum_players = len(lineup_team)\nnum_sub = num_players - 11"
      ]
    },
    {
      "cell_type": "markdown",
      "metadata": {},
      "source": [
        "Setup the pitch, arrows, and get some images\n\n"
      ]
    },
    {
      "cell_type": "code",
      "execution_count": null,
      "metadata": {
        "collapsed": false
      },
      "outputs": [],
      "source": [
        "# add padding to the top so we can plot the titles, and raise the pitch lines\npitch = Pitch(pad_top=10, line_zorder=2)\n\n# arrow properties for the sub on/off\ngreen_arrow = dict(arrowstyle='simple, head_width=0.7',\n                   connectionstyle=\"arc3,rad=-0.8\", fc=\"green\", ec=\"green\")\nred_arrow = dict(arrowstyle='simple, head_width=0.7',\n                 connectionstyle=\"arc3,rad=-0.8\", fc=\"red\", ec=\"red\")\n\n# a fontmanager object for using a google font\nfm_scada = FontManager('https://raw.githubusercontent.com/googlefonts/scada/main/fonts/ttf/'\n                       'Scada-Regular.ttf')\n\n# Load the Club/ Statsbomb logos\n# these are the property of the respective clubs/ StatsBomb.\nBARCA_LOGO_URL = ('https://upload.wikimedia.org/wikipedia/en/thumb/4/47/'\n                  'FC_Barcelona_%28crest%29.svg/142px-FC_Barcelona_%28crest%29.svg.png')\nDEPORTIVO_LOGO_URL = ('https://upload.wikimedia.org/wikipedia/en/thumb/f/f8/'\n                      'Deportivo_Alaves_logo_%282020%29.svg/'\n                      '300px-Deportivo_Alaves_logo_%282020%29.svg.png')\nSB_LOGO_URL = ('https://raw.githubusercontent.com/statsbomb/open-data/'\n               'master/img/SB%20-%20Icon%20Lockup%20-%20Colour%20positive.png')\nbarca_logo = Image.open(urlopen(BARCA_LOGO_URL))\ndeportivo_logo = Image.open(urlopen(DEPORTIVO_LOGO_URL))\nsb_logo = Image.open(urlopen(SB_LOGO_URL))"
      ]
    },
    {
      "cell_type": "markdown",
      "metadata": {},
      "source": [
        "Plotting the Pass Maps\n\n"
      ]
    },
    {
      "cell_type": "code",
      "execution_count": null,
      "metadata": {
        "collapsed": false
      },
      "outputs": [],
      "source": [
        "# filtering out some highlight_text warnings - the warnings aren't correct as the\n# text fits inside the axes.\nwarnings.simplefilter(\"ignore\", UserWarning)\n\n# plot the 5 * 3 grid\nfig, axs = pitch.grid(nrows=5, ncols=3, figheight=30,\n                      endnote_height=0.03, endnote_space=0,\n                      # Turn off the endnote/title axis. I usually do this after\n                      # I am happy with the chart layout and text placement\n                      axis=False,\n                      title_height=0.08, grid_height=0.84)\n# cycle through the grid axes and plot the player pass maps\nfor idx, ax in enumerate(axs['pitch'].flat):\n    # only plot the pass maps up to the total number of players\n    if idx < num_players:\n        # filter the complete/incomplete passes for each player (excudes throw-ins)\n        lineup_player = lineup_team.iloc[idx]\n        player_id = lineup_player.player_id\n        player_pass = passes_excl_throw[passes_excl_throw.player_id == player_id]\n        complete_pass = player_pass[player_pass.outcome_name.isnull()]\n        incomplete_pass = player_pass[player_pass.outcome_name.notnull()]\n\n        # plot the arrows\n        pitch.arrows(complete_pass.x, complete_pass.y,\n                     complete_pass.end_x, complete_pass.end_y,\n                     color='#56ae6c', width=2, headwidth=4, headlength=6, ax=ax)\n        pitch.arrows(incomplete_pass.x, incomplete_pass.y,\n                     incomplete_pass.end_x, incomplete_pass.end_y,\n                     color='#7065bb', width=2, headwidth=4, headlength=6, ax=ax)\n\n        # plot the title for each player axis\n        # here we use f-strings to combine the variables from the dataframe and text\n        # we plot the title at x=0, y=-5\n        # this is the left hand-side of the pitch (x=0) and between\n        # top of the y-axis (y=0) and the top of the padding (y=-10, remember pad_top = 10)\n        # note that the StatsBomb y-axis is inverted, so you may need\n        # to change this if you use another pitch_type (e.g. 'uefa').\n        # We also use the highlight-text package to highlight complete_pass green\n        # so put <> around the number of completed passes.\n        total_pass = len(complete_pass) + len(incomplete_pass)\n        annotation_string = (f'{lineup_player.position_abbreviation} | '\n                             f'{lineup_player.player_name} | '\n                             f'<{len(complete_pass)}>/{total_pass} | '\n                             f'{round(100 * len(complete_pass)/total_pass, 1)}%')\n        ax_text(0, -5, annotation_string, ha='left', va='center', fontsize=13,\n                fontproperties=fm_scada.prop,  # using the fontmanager for the google font\n                highlight_textprops=[{\"color\": '#56ae6c'}], ax=ax)\n\n        # add information for subsitutions on/off and arrows\n        if not np.isnan(lineup_team.iloc[idx].off):\n            ax.text(116, -10, str(lineup_team.iloc[idx].off.astype(int)), fontsize=20,\n                    fontproperties=fm_scada.prop,\n                    ha='center', va='center')\n            ax.annotate('', (120, -2), (112, -2), arrowprops=red_arrow)\n        if not np.isnan(lineup_team.iloc[idx].on):\n            ax.text(104, -10, str(lineup_team.iloc[idx].on.astype(int)), fontsize=20,\n                    fontproperties=fm_scada.prop,\n                    ha='center', va='center')\n            ax.annotate('', (108, -2), (100, -2), arrowprops=green_arrow)\n\n# plot on the last Pass Map\n# (note ax=ax as we have cycled through to the last axes in the loop)\npitch.kdeplot(x=pass_receipts.x, y=pass_receipts.y, ax=ax,\n              cmap=cmr.lavender,\n              levels=100,\n              thresh=0, fill=True)\nax.text(0, -5, f'{team}: Pass Receipt Heatmap', ha='left', va='center',\n        fontsize=20, fontproperties=fm_scada.prop)\n\n# remove unused axes (if any)\nfor ax in axs['pitch'].flat[11 + num_sub:-1]:\n    ax.remove()\n\n# endnote text\naxs['endnote'].text(0, 0.5, 'The format is copied from @DymondFormation',\n                    fontsize=20, fontproperties=fm_scada.prop, va='center', ha='left')\n# to get the left position to align with the pitches I plotted it once with a random\n# left position (e.g. 0.5) and then used the following code\n# bbox_sb = ax_sb_logo.get_position()\n# bbox_endnote = axs['endnote'].get_position()\n# left = bbox_endnote.x1 - bbox_sb.width\nax_sb_logo = add_image(sb_logo, fig, left=0.701126,\n                       # set the bottom and height to align with the endnote\n                       bottom=axs['endnote'].get_position().y0,\n                       height=axs['endnote'].get_position().height)\n\n# title text\naxs['title'].text(0.5, 0.65, f'{team1} Pass Maps vs {team2}', fontsize=40,\n                  fontproperties=fm_scada.prop, va='center', ha='center')\nSUB_TEXT = ('Player Pass Maps: exclude throw-ins only\\n'\n            'Team heatmap: includes all attempted pass receipts')\naxs['title'].text(0.5, 0.35, SUB_TEXT, fontsize=20,\n                  fontproperties=fm_scada.prop, va='center', ha='center')\n# plot logos (same height as the title_ax)\n# set the barca logo to align with the left/bottom of the title axes\nax_barca_logo = add_image(barca_logo, fig,\n                          left=axs['title'].get_position().x0,\n                          bottom=axs['title'].get_position().y0,\n                          height=axs['title'].get_position().height)\n# set the deportivo logo to align with the right/bottom of the title axes\n# to get the left position to align with the pitches I plotted it once with a random\n# left position (e.g. 0.5) and then used the following code\n# bbox_logo = ax_deportivo_logo.get_position()\n# bbox_title = axs['title'].get_position()\n# left = bbox_title.x1 - bbox_logo.width\nax_deportivo_logo = add_image(deportivo_logo, fig, left=0.8521,\n                              bottom=axs['title'].get_position().y0,\n                              height=axs['title'].get_position().height)\n# setting this example to the gallery thumbnail\n# sphinx_gallery_thumbnail_path = 'gallery/pitch_plots/images/sphx_glr_plot_grid_005'\n\nplt.show()  # If you are using a Jupyter notebook you do not need this line"
      ]
    }
  ],
  "metadata": {
    "kernelspec": {
      "display_name": "Python 3",
      "language": "python",
      "name": "python3"
    },
    "language_info": {
      "codemirror_mode": {
        "name": "ipython",
        "version": 3
      },
      "file_extension": ".py",
      "mimetype": "text/x-python",
      "name": "python",
      "nbconvert_exporter": "python",
      "pygments_lexer": "ipython3",
      "version": "3.11.0"
    }
  },
  "nbformat": 4,
  "nbformat_minor": 0
}
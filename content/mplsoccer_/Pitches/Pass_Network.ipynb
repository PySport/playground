{
  "cells": [
    {
      "cell_type": "markdown",
      "metadata": {},
      "source": [
        "## *Setup required for Playground*\n",
        "\n",
        "The online playground requires a little bit of code to run first."
      ]
    },
    {
      "cell_type": "code",
      "execution_count": null,
      "metadata": {},
      "outputs": [],
      "source": [
        "%pip install requests\n",
        "# Patch requests to make it work in the browser\n",
        "import pyodide_http\n",
        "pyodide_http.patch_all()"
      ]
    },
    {
      "cell_type": "code",
      "execution_count": null,
      "metadata": {},
      "outputs": [],
      "source": [
        "%pip install mplsoccer==1.1.12 highlight_text pandas"
      ]
    },
    {
      "cell_type": "markdown",
      "metadata": {},
      "source": [
        "Original notebook can be found [here](https://mplsoccer.readthedocs.io/en/latest/_downloads/b5dd7d59985569f0bc51075b0da56436/plot_pass_network.ipynb)"
      ]
    },
    {
      "cell_type": "markdown",
      "metadata": {},
      "source": [
        "\n# Pass Network\n\nThis example shows how to plot passes between players in a set formation.\nThis is written by [@DymondFormation](https://twitter.com/DymondFormation)\n"
      ]
    },
    {
      "cell_type": "code",
      "execution_count": null,
      "metadata": {
        "collapsed": false
      },
      "outputs": [],
      "source": [
        "import numpy as np\nimport pandas as pd\nimport matplotlib.pyplot as plt\nfrom matplotlib.colors import to_rgba\n\nfrom mplsoccer import Pitch, FontManager, Sbopen"
      ]
    },
    {
      "cell_type": "markdown",
      "metadata": {},
      "source": [
        "Set team and match info, and get event and tactics dataframes for the defined match_id\n\n"
      ]
    },
    {
      "cell_type": "code",
      "execution_count": null,
      "metadata": {
        "collapsed": false
      },
      "outputs": [],
      "source": [
        "parser = Sbopen()\nevents, related, freeze, players = parser.event(15946)\nTEAM = 'Barcelona'\nOPPONENT = 'versus Alav\u00e9s (A), 2018/19 La Liga'"
      ]
    },
    {
      "cell_type": "markdown",
      "metadata": {},
      "source": [
        "Adding on the last tactics id and formation for the team for each event\n\n"
      ]
    },
    {
      "cell_type": "code",
      "execution_count": null,
      "metadata": {
        "collapsed": false
      },
      "outputs": [],
      "source": [
        "events.loc[events.tactics_formation.notnull(), 'tactics_id'] = events.loc[\n    events.tactics_formation.notnull(), 'id']\nevents[['tactics_id', 'tactics_formation']] = events.groupby('team_name')[[\n    'tactics_id', 'tactics_formation']].ffill()"
      ]
    },
    {
      "cell_type": "markdown",
      "metadata": {},
      "source": [
        "Add the abbreviated player position to the players dataframe\n\n"
      ]
    },
    {
      "cell_type": "code",
      "execution_count": null,
      "metadata": {
        "collapsed": false
      },
      "outputs": [],
      "source": [
        "formation_dict = {1: 'GK', 2: 'RB', 3: 'RCB', 4: 'CB', 5: 'LCB', 6: 'LB', 7: 'RWB',\n                  8: 'LWB', 9: 'RDM', 10: 'CDM', 11: 'LDM', 12: 'RM', 13: 'RCM',\n                  14: 'CM', 15: 'LCM', 16: 'LM', 17: 'RW', 18: 'RAM', 19: 'CAM',\n                  20: 'LAM', 21: 'LW', 22: 'RCF', 23: 'ST', 24: 'LCF', 25: 'SS'}\nplayers['position_abbreviation'] = players.position_id.map(formation_dict)"
      ]
    },
    {
      "cell_type": "markdown",
      "metadata": {},
      "source": [
        "Add on the subsitutions to the players dataframe, i.e. where players are subbed on\nbut the formation doesn't change\n\n"
      ]
    },
    {
      "cell_type": "code",
      "execution_count": null,
      "metadata": {
        "collapsed": false
      },
      "outputs": [],
      "source": [
        "sub = events.loc[events.type_name == 'Substitution',\n                 ['tactics_id', 'player_id', 'substitution_replacement_id',\n                  'substitution_replacement_name']]\nplayers_sub = players.merge(sub.rename({'tactics_id': 'id'}, axis='columns'),\n                            on=['id', 'player_id'], how='inner', validate='1:1')\nplayers_sub = (players_sub[['id', 'substitution_replacement_id', 'position_abbreviation']]\n               .rename({'substitution_replacement_id': 'player_id'}, axis='columns'))\nplayers = pd.concat([players, players_sub])\nplayers.rename({'id': 'tactics_id'}, axis='columns', inplace=True)\nplayers = players[['tactics_id', 'player_id', 'position_abbreviation']]"
      ]
    },
    {
      "cell_type": "markdown",
      "metadata": {},
      "source": [
        "Add player position information to the events dataframe\n\n"
      ]
    },
    {
      "cell_type": "code",
      "execution_count": null,
      "metadata": {
        "collapsed": false
      },
      "outputs": [],
      "source": [
        "# add on the position the player was playing in the formation to the events dataframe\nevents = events.merge(players, on=['tactics_id', 'player_id'], how='left', validate='m:1')\n# add on the position the receipient was playing in the formation to the events dataframe\nevents = events.merge(players.rename({'player_id': 'pass_recipient_id'},\n                                     axis='columns'), on=['tactics_id', 'pass_recipient_id'],\n                      how='left', validate='m:1', suffixes=['', '_receipt'])"
      ]
    },
    {
      "cell_type": "markdown",
      "metadata": {},
      "source": [
        "Show the formations used in the match\n\n"
      ]
    },
    {
      "cell_type": "code",
      "execution_count": null,
      "metadata": {
        "collapsed": false
      },
      "outputs": [],
      "source": [
        "events.groupby('team_name').tactics_formation.unique()"
      ]
    },
    {
      "cell_type": "markdown",
      "metadata": {},
      "source": [
        "Filter passes by chosen formation, then group all passes and receipts to\ncalculate avg x, avg y, count of events for each slot in the formation\n\n"
      ]
    },
    {
      "cell_type": "code",
      "execution_count": null,
      "metadata": {
        "collapsed": false
      },
      "outputs": [],
      "source": [
        "FORMATION = '433'\npass_cols = ['id', 'position_abbreviation', 'position_abbreviation_receipt']\npasses_formation = events.loc[(events.team_name == TEAM) & (events.type_name == 'Pass') &\n                              (events.tactics_formation == FORMATION) &\n                              (events.position_abbreviation_receipt.notnull()), pass_cols].copy()\nlocation_cols = ['position_abbreviation', 'x', 'y']\nlocation_formation = events.loc[(events.team_name == TEAM) &\n                                (events.type_name.isin(['Pass', 'Ball Receipt'])) &\n                                (events.tactics_formation == FORMATION), location_cols].copy()\n\n# average locations\naverage_locs_and_count = (location_formation.groupby('position_abbreviation')\n                          .agg({'x': ['mean'], 'y': ['mean', 'count']}))\naverage_locs_and_count.columns = ['x', 'y', 'count']\n\n# calculate the number of passes between each position (using min/ max so we get passes both ways)\npasses_formation['pos_max'] = (passes_formation[['position_abbreviation',\n                                                'position_abbreviation_receipt']]\n                               .max(axis='columns'))\npasses_formation['pos_min'] = (passes_formation[['position_abbreviation',\n                                                'position_abbreviation_receipt']]\n                               .min(axis='columns'))\npasses_between = passes_formation.groupby(['pos_min', 'pos_max']).id.count().reset_index()\npasses_between.rename({'id': 'pass_count'}, axis='columns', inplace=True)\n\n# add on the location of each player so we have the start and end positions of the lines\npasses_between = passes_between.merge(average_locs_and_count, left_on='pos_min', right_index=True)\npasses_between = passes_between.merge(average_locs_and_count, left_on='pos_max', right_index=True,\n                                      suffixes=['', '_end'])"
      ]
    },
    {
      "cell_type": "markdown",
      "metadata": {},
      "source": [
        "Calculate the line width and marker sizes relative to the largest counts\n\n"
      ]
    },
    {
      "cell_type": "code",
      "execution_count": null,
      "metadata": {
        "collapsed": false
      },
      "outputs": [],
      "source": [
        "MAX_LINE_WIDTH = 18\nMAX_MARKER_SIZE = 3000\npasses_between['width'] = (passes_between.pass_count / passes_between.pass_count.max() *\n                           MAX_LINE_WIDTH)\naverage_locs_and_count['marker_size'] = (average_locs_and_count['count']\n                                         / average_locs_and_count['count'].max() * MAX_MARKER_SIZE)"
      ]
    },
    {
      "cell_type": "markdown",
      "metadata": {},
      "source": [
        "Set color to make the lines more transparent when fewer passes are made\n\n"
      ]
    },
    {
      "cell_type": "code",
      "execution_count": null,
      "metadata": {
        "collapsed": false
      },
      "outputs": [],
      "source": [
        "MIN_TRANSPARENCY = 0.3\ncolor = np.array(to_rgba('white'))\ncolor = np.tile(color, (len(passes_between), 1))\nc_transparency = passes_between.pass_count / passes_between.pass_count.max()\nc_transparency = (c_transparency * (1 - MIN_TRANSPARENCY)) + MIN_TRANSPARENCY\ncolor[:, 3] = c_transparency"
      ]
    },
    {
      "cell_type": "markdown",
      "metadata": {},
      "source": [
        "Plotting\n\n"
      ]
    },
    {
      "cell_type": "code",
      "execution_count": null,
      "metadata": {
        "collapsed": false
      },
      "outputs": [],
      "source": [
        "pitch = Pitch(pitch_type='statsbomb', pitch_color='#22312b', line_color='#c7d5cc')\nfig, ax = pitch.draw(figsize=(16, 11), constrained_layout=True, tight_layout=False)\nfig.set_facecolor(\"#22312b\")\npass_lines = pitch.lines(passes_between.x, passes_between.y,\n                         passes_between.x_end, passes_between.y_end, lw=passes_between.width,\n                         color=color, zorder=1, ax=ax)\npass_nodes = pitch.scatter(average_locs_and_count.x, average_locs_and_count.y,\n                           s=average_locs_and_count.marker_size,\n                           color='red', edgecolors='black', linewidth=1, alpha=1, ax=ax)\nfor index, row in average_locs_and_count.iterrows():\n    pitch.annotate(row.name, xy=(row.x, row.y), c='white', va='center',\n                   ha='center', size=16, weight='bold', ax=ax)"
      ]
    },
    {
      "cell_type": "markdown",
      "metadata": {},
      "source": [
        "Plot the chart again with a title.\nWe will use mplsoccer's grid function to plot a pitch with a title and endnote axes.\n\n"
      ]
    },
    {
      "cell_type": "code",
      "execution_count": null,
      "metadata": {
        "collapsed": false
      },
      "outputs": [],
      "source": [
        "fig, axs = pitch.grid(figheight=10, title_height=0.08, endnote_space=0,\n                      # Turn off the endnote/title axis. I usually do this after\n                      # I am happy with the chart layout and text placement\n                      axis=False,\n                      title_space=0, grid_height=0.82, endnote_height=0.05)\nfig.set_facecolor(\"#22312b\")\npass_lines = pitch.lines(passes_between.x, passes_between.y,\n                         passes_between.x_end, passes_between.y_end, lw=passes_between.width,\n                         color=color, zorder=1, ax=axs['pitch'])\npass_nodes = pitch.scatter(average_locs_and_count.x, average_locs_and_count.y,\n                           s=average_locs_and_count.marker_size,\n                           color='red', edgecolors='black', linewidth=1, alpha=1, ax=axs['pitch'])\nfor index, row in average_locs_and_count.iterrows():\n    pitch.annotate(row.name, xy=(row.x, row.y), c='white', va='center',\n                   ha='center', size=16, weight='bold', ax=axs['pitch'])\n\n# Load a custom font.\nURL = 'https://raw.githubusercontent.com/googlefonts/roboto/main/src/hinted/Roboto-Regular.ttf'\nrobotto_regular = FontManager(URL)\n\n# endnote /title\naxs['endnote'].text(1, 0.5, '@your_twitter_handle', color='#c7d5cc',\n                    va='center', ha='right', fontsize=15,\n                    fontproperties=robotto_regular.prop)\nTITLE_TEXT = f'{TEAM}, {FORMATION} formation'\naxs['title'].text(0.5, 0.7, TITLE_TEXT, color='#c7d5cc',\n                  va='center', ha='center', fontproperties=robotto_regular.prop, fontsize=30)\naxs['title'].text(0.5, 0.25, OPPONENT, color='#c7d5cc',\n                  va='center', ha='center', fontproperties=robotto_regular.prop, fontsize=18)\n\n# sphinx_gallery_thumbnail_path = 'gallery/pitch_plots/images/sphx_glr_plot_pass_network_002.png'\n\nplt.show()  # If you are using a Jupyter notebook you do not need this line"
      ]
    },
    {
      "cell_type": "markdown",
      "metadata": {},
      "source": [
        "## Alternative Passing Network Theme\n\nThe theme below is inspired by [@SergioMinuto90](https://twitter.com/SergioMinuto90) \nand his [friends of tracking tutorial on passing networks](https://github.com/Friends-of-Tracking-Data-FoTD/passing-networks-in-python).\n\n"
      ]
    },
    {
      "cell_type": "markdown",
      "metadata": {},
      "source": [
        "Import the path_effects module for the text stroke\n\n"
      ]
    },
    {
      "cell_type": "code",
      "execution_count": null,
      "metadata": {
        "collapsed": false
      },
      "outputs": [],
      "source": [
        "import matplotlib.patheffects as path_effects"
      ]
    },
    {
      "cell_type": "markdown",
      "metadata": {},
      "source": [
        "Get oswald font\n\n"
      ]
    },
    {
      "cell_type": "code",
      "execution_count": null,
      "metadata": {
        "collapsed": false
      },
      "outputs": [],
      "source": [
        "URL = \"https://raw.githubusercontent.com/google/fonts/main/ofl/oswald/Oswald%5Bwght%5D.ttf\"\noswald_regular = FontManager(URL)"
      ]
    },
    {
      "cell_type": "markdown",
      "metadata": {},
      "source": [
        "Plot the chart with a title\n\n"
      ]
    },
    {
      "cell_type": "code",
      "execution_count": null,
      "metadata": {
        "collapsed": false
      },
      "outputs": [],
      "source": [
        "pitch = Pitch(\n    pitch_type=\"statsbomb\", pitch_color=\"white\", line_color=\"black\", linewidth=1,\n)\nfig, axs = pitch.grid(\n    figheight=10,\n    title_height=0.08,\n    endnote_space=0,\n    # Turn off the endnote/title axis. I usually do this after\n    # I am happy with the chart layout and text placement\n    axis=False,\n    title_space=0,\n    grid_height=0.82,\n    endnote_height=0.01,\n)\nfig.set_facecolor(\"white\")\npass_lines = pitch.lines(\n    passes_between.x,\n    passes_between.y,\n    passes_between.x_end,\n    passes_between.y_end,\n    lw=passes_between.width,\n    color=\"#BF616A\",\n    zorder=1,\n    ax=axs[\"pitch\"],\n)\npass_nodes = pitch.scatter(\n    average_locs_and_count.x,\n    average_locs_and_count.y,\n    s=average_locs_and_count.marker_size,\n    color=\"#BF616A\",\n    edgecolors=\"black\",\n    linewidth=0.5,\n    alpha=1,\n    ax=axs[\"pitch\"],\n)\npass_nodes_internal = pitch.scatter(\n    average_locs_and_count.x,\n    average_locs_and_count.y,\n    s=average_locs_and_count.marker_size / 2,\n    color=\"white\",\n    edgecolors=\"black\",\n    linewidth=0.5,\n    alpha=1,\n    ax=axs[\"pitch\"],\n)\nfor index, row in average_locs_and_count.iterrows():\n    text = pitch.annotate(\n        row.name,\n        xy=(row.x, row.y),\n        c=\"black\",\n        va=\"center\",\n        ha=\"center\",\n        size=15,\n        weight=\"bold\",\n        ax=axs[\"pitch\"],\n        fontproperties=oswald_regular.prop,\n    )\n    text.set_path_effects([path_effects.withStroke(linewidth=1, foreground=\"white\")])\n\naxs[\"endnote\"].text(\n    1,\n    1,\n    \"@your_twitter_handle\",\n    color=\"black\",\n    va=\"center\",\n    ha=\"right\",\n    fontsize=15,\n    fontproperties=oswald_regular.prop,\n)\nTITLE_TEXT = f\"{TEAM}, {FORMATION} formation\"\naxs[\"title\"].text(\n    0.5,\n    0.7,\n    TITLE_TEXT,\n    color=\"black\",\n    va=\"center\",\n    ha=\"center\",\n    fontproperties=oswald_regular.prop,\n    fontsize=30,\n)\naxs[\"title\"].text(\n    0.5,\n    0.15,\n    OPPONENT,\n    color=\"black\",\n    va=\"center\",\n    ha=\"center\",\n    fontproperties=oswald_regular.prop,\n    fontsize=18,\n)\n\nplt.show()  # If you are using a Jupyter notebook you do not need this line"
      ]
    }
  ],
  "metadata": {
    "kernelspec": {
      "display_name": "Python 3",
      "language": "python",
      "name": "python3"
    },
    "language_info": {
      "codemirror_mode": {
        "name": "ipython",
        "version": 3
      },
      "file_extension": ".py",
      "mimetype": "text/x-python",
      "name": "python",
      "nbconvert_exporter": "python",
      "pygments_lexer": "ipython3",
      "version": "3.11.8"
    }
  },
  "nbformat": 4,
  "nbformat_minor": 0
}
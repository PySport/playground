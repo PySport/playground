{
  "cells": [
    {
      "cell_type": "markdown",
      "metadata": {},
      "source": [
        "## *Setup required for Playground*\n",
        "\n",
        "The online playground requires a little bit of code to run first."
      ]
    },
    {
      "cell_type": "code",
      "execution_count": null,
      "metadata": {},
      "outputs": [],
      "source": [
        "%pip install mplsoccer highlight_text pandas requests"
      ]
    },
    {
      "cell_type": "code",
      "execution_count": null,
      "metadata": {},
      "outputs": [],
      "source": [
        "# Patch requests to make it work in the browser\n",
        "import pyodide_http\n",
        "pyodide_http.patch_all()"
      ]
    },
    {
      "cell_type": "markdown",
      "metadata": {},
      "source": [
        "Original notebook can be found [here](https://mplsoccer.readthedocs.io/en/latest/_downloads/38762a4d6b50cf3928f0ad232c0c465c/plot_delaunay.ipynb)"
      ]
    },
    {
      "cell_type": "code",
      "execution_count": null,
      "metadata": {
        "collapsed": false
      },
      "outputs": [],
      "source": [
        "%matplotlib inline"
      ]
    },
    {
      "cell_type": "markdown",
      "metadata": {},
      "source": [
        "\n# Plots Delaunay Tessellation of Players\n\nThis example shows how to plot the delaunay tesellation for a shot freeze frame\n\nAdded by [Matthew Williamson](https://twitter.com/photomattic)\n"
      ]
    },
    {
      "cell_type": "code",
      "execution_count": null,
      "metadata": {
        "collapsed": false
      },
      "outputs": [],
      "source": [
        "import matplotlib.pyplot as plt\nimport numpy as np\nimport pandas as pd\n\nfrom mplsoccer import VerticalPitch, Sbopen\n\n# get event and freeze frame data for game 7478\nparser = Sbopen()\ndf_event, related, df_freeze, tactics = parser.event(7478)"
      ]
    },
    {
      "cell_type": "markdown",
      "metadata": {},
      "source": [
        "Subset a shot\n\n"
      ]
    },
    {
      "cell_type": "code",
      "execution_count": null,
      "metadata": {
        "collapsed": false
      },
      "outputs": [],
      "source": [
        "SHOT_ID = '8bb8bbc2-68a6-4c01-93de-53a194e7a1cf'\ndf_freeze_frame = df_freeze[df_freeze.id == SHOT_ID].copy()\ndf_shot_event = df_event[df_event.id == SHOT_ID].dropna(axis=1, how='all').copy()"
      ]
    },
    {
      "cell_type": "markdown",
      "metadata": {},
      "source": [
        "Location dataset\n\n"
      ]
    },
    {
      "cell_type": "code",
      "execution_count": null,
      "metadata": {
        "collapsed": false
      },
      "outputs": [],
      "source": [
        "df = pd.concat([df_shot_event[['x', 'y']], df_freeze_frame[['x', 'y']]])\n\nx = df.x.values\ny = df.y.values\nteams = np.concatenate([[True], df_freeze_frame.teammate.values])"
      ]
    },
    {
      "cell_type": "markdown",
      "metadata": {},
      "source": [
        "Plotting\n\n"
      ]
    },
    {
      "cell_type": "code",
      "execution_count": null,
      "metadata": {
        "collapsed": false
      },
      "outputs": [],
      "source": [
        "# draw plot\npitch = VerticalPitch(half=True, pitch_color='w', line_color='k')\nfig, ax = pitch.draw(figsize=(8, 6.2))\n\n# Get positions of Team B - which we'll use for plotting\nteam_b_x = x[~teams]\nteam_b_y = y[~teams]\n\n# Plot triangles\nt1 = pitch.triplot(team_b_x, team_b_y, ax=ax, color='dimgrey', linewidth=2)\n\n# Plot players\nsc1 = pitch.scatter(x[teams], y[teams], ax=ax, c='#c34c45', s=150, zorder=10)\nsc2 = pitch.scatter(team_b_x, team_b_y, ax=ax, c='#6f63c5', s=150, zorder=10)\n\nplt.show()  # If you are using a Jupyter notebook you do not need this line"
      ]
    }
  ],
  "metadata": {
    "kernelspec": {
      "display_name": "Python 3",
      "language": "python",
      "name": "python3"
    },
    "language_info": {
      "codemirror_mode": {
        "name": "ipython",
        "version": 3
      },
      "file_extension": ".py",
      "mimetype": "text/x-python",
      "name": "python",
      "nbconvert_exporter": "python",
      "pygments_lexer": "ipython3",
      "version": "3.11.0"
    }
  },
  "nbformat": 4,
  "nbformat_minor": 0
}
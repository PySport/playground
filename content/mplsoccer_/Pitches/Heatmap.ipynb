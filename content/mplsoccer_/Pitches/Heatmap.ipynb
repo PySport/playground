{
  "cells": [
    {
      "cell_type": "markdown",
      "metadata": {},
      "source": [
        "## *Setup required for Playground*\n",
        "\n",
        "The online playground requires a little bit of code to run first."
      ]
    },
    {
      "cell_type": "code",
      "execution_count": null,
      "metadata": {},
      "outputs": [],
      "source": [
        "%pip install requests\n",
        "# Patch requests to make it work in the browser\n",
        "import pyodide_http\n",
        "pyodide_http.patch_all()"
      ]
    },
    {
      "cell_type": "code",
      "execution_count": null,
      "metadata": {},
      "outputs": [],
      "source": [
        "%pip install mplsoccer==1.1.12 highlight_text pandas"
      ]
    },
    {
      "cell_type": "markdown",
      "metadata": {},
      "source": [
        "Original notebook can be found [here](https://mplsoccer.readthedocs.io/en/latest/_downloads/e8683151f194be858d6f02006bb60eac/plot_heatmap.ipynb)"
      ]
    },
    {
      "cell_type": "markdown",
      "metadata": {},
      "source": [
        "\n# Heatmap\n\nThis example shows how to plot all pressure events from three matches as a heatmap.\n"
      ]
    },
    {
      "cell_type": "code",
      "execution_count": null,
      "metadata": {
        "collapsed": false
      },
      "outputs": [],
      "source": [
        "import matplotlib.patheffects as path_effects\nimport matplotlib.pyplot as plt\nimport numpy as np\nimport pandas as pd\nfrom matplotlib.colors import LinearSegmentedColormap\nfrom scipy.ndimage import gaussian_filter\n\nfrom mplsoccer import Pitch, VerticalPitch, FontManager, Sbopen\n\n# get data\nparser = Sbopen()\nmatch_files = [19789, 19794, 19805]\ndf = pd.concat([parser.event(file)[0] for file in match_files])  # 0 index is the event file\n\n# filter chelsea pressure and pass events\nmask_chelsea_pressure = (df.team_name == 'Chelsea FCW') & (df.type_name == 'Pressure')\ndf_pressure = df.loc[mask_chelsea_pressure, ['x', 'y']]\nmask_chelsea_pressure = (df.team_name == 'Chelsea FCW') & (df.type_name == 'Pass')\ndf_pass = df.loc[mask_chelsea_pressure, ['x', 'y', 'end_x', 'end_y']]"
      ]
    },
    {
      "cell_type": "markdown",
      "metadata": {},
      "source": [
        "## Plot a gaussian smoothed heatmap\n\n"
      ]
    },
    {
      "cell_type": "code",
      "execution_count": null,
      "metadata": {
        "collapsed": false
      },
      "outputs": [],
      "source": [
        "# Tom Decroos, author of `matplotsoccer <https://github.com/TomDecroos/matplotsoccer>`_,\n# asked whether it was possible to plot a Gaussian smoothed heatmap,\n# which are available in matplotsoccer. Here is an example demonstrating this.\n\n# setup pitch\npitch = Pitch(pitch_type='statsbomb', line_zorder=2,\n              pitch_color='#22312b', line_color='#efefef')\n# draw\nfig, ax = pitch.draw(figsize=(6.6, 4.125))\nfig.set_facecolor('#22312b')\nbin_statistic = pitch.bin_statistic(df_pressure.x, df_pressure.y, statistic='count', bins=(25, 25))\nbin_statistic['statistic'] = gaussian_filter(bin_statistic['statistic'], 1)\npcm = pitch.heatmap(bin_statistic, ax=ax, cmap='hot', edgecolors='#22312b')\n# Add the colorbar and format off-white\ncbar = fig.colorbar(pcm, ax=ax, shrink=0.6)\ncbar.outline.set_edgecolor('#efefef')\ncbar.ax.yaxis.set_tick_params(color='#efefef')\nticks = plt.setp(plt.getp(cbar.ax.axes, 'yticklabels'), color='#efefef')"
      ]
    },
    {
      "cell_type": "markdown",
      "metadata": {},
      "source": [
        "Load some fonts, path effects, and a custom colormap\n\n"
      ]
    },
    {
      "cell_type": "code",
      "execution_count": null,
      "metadata": {
        "collapsed": false
      },
      "outputs": [],
      "source": [
        "# fontmanager for google font (robotto)\nrobotto_regular = FontManager()\n\n# path effects\npath_eff = [path_effects.Stroke(linewidth=1.5, foreground='black'),\n            path_effects.Normal()]\n\n# see the custom colormaps example for more ideas on setting colormaps\npearl_earring_cmap = LinearSegmentedColormap.from_list(\"Pearl Earring - 10 colors\",\n                                                       ['#15242e', '#4393c4'], N=10)"
      ]
    },
    {
      "cell_type": "markdown",
      "metadata": {},
      "source": [
        "## Plot the chart again with a title\nWe will use mplsoccer's grid function to plot a pitch with a title and endnote axes.\n\n"
      ]
    },
    {
      "cell_type": "code",
      "execution_count": null,
      "metadata": {
        "collapsed": false
      },
      "outputs": [],
      "source": [
        "fig, axs = pitch.grid(endnote_height=0.03, endnote_space=0,\n                      # leave some space for the colorbar\n                      grid_width=0.88, left=0.025,\n                      title_height=0.06, title_space=0,\n                      # Turn off the endnote/title axis. I usually do this after\n                      # I am happy with the chart layout and text placement\n                      axis=False,\n                      grid_height=0.86)\nfig.set_facecolor('#22312b')\n\n# plot heatmap\nbin_statistic = pitch.bin_statistic(df_pressure.x, df_pressure.y, statistic='count', bins=(25, 25))\nbin_statistic['statistic'] = gaussian_filter(bin_statistic['statistic'], 1)\npcm = pitch.heatmap(bin_statistic, ax=axs['pitch'], cmap='hot', edgecolors='#22312b')\n\n# add cbar\nax_cbar = fig.add_axes((0.915, 0.093, 0.03, 0.786))\ncbar = plt.colorbar(pcm, cax=ax_cbar)\ncbar.outline.set_edgecolor('#efefef')\ncbar.ax.yaxis.set_tick_params(color='#efefef')\nplt.setp(plt.getp(cbar.ax.axes, 'yticklabels'), color='#efefef')\nfor label in cbar.ax.get_yticklabels():\n    label.set_fontproperties(robotto_regular.prop)\n    label.set_fontsize(15)\n\n# endnote and title\naxs['endnote'].text(1, 0.5, '@your_twitter_handle', va='center', ha='right', fontsize=15,\n                    fontproperties=robotto_regular.prop, color='#dee6ea')\nax_title = axs['title'].text(0.5, 0.5, \"Pressure applied by Chelsea FC Women\", color='white',\n                             va='center', ha='center', path_effects=path_eff,\n                             fontproperties=robotto_regular.prop, fontsize=30)"
      ]
    },
    {
      "cell_type": "markdown",
      "metadata": {},
      "source": [
        "## Plot heatmap with larger cells\nHere is another example plotting heatmaps with larger bins (6 across by 5 down)\nwith no smoothing.\n\n"
      ]
    },
    {
      "cell_type": "code",
      "execution_count": null,
      "metadata": {
        "collapsed": false
      },
      "outputs": [],
      "source": [
        "pitch = VerticalPitch(pitch_type='statsbomb', line_zorder=2, pitch_color='#f4edf0')\nfig, ax = pitch.draw(figsize=(4.125, 6))\nfig.set_facecolor('#f4edf0')\nbin_statistic = pitch.bin_statistic(df_pressure.x, df_pressure.y, statistic='count', bins=(6, 5), normalize=True)\npitch.heatmap(bin_statistic, ax=ax, cmap='Reds', edgecolor='#f9f9f9')\nlabels = pitch.label_heatmap(bin_statistic, color='#f4edf0', fontsize=18,\n                             ax=ax, ha='center', va='center',\n                             str_format='{:.0%}', path_effects=path_eff)"
      ]
    },
    {
      "cell_type": "markdown",
      "metadata": {},
      "source": [
        "## Plot heatmap with defined bins\nHere is another example, which use pitch locations instead of a tuple for the bins.\nWe will create a heatmap for\n[zone 14](https://spielverlagerung.com/glossary/pitch-zones/zone-14/),\n\n"
      ]
    },
    {
      "cell_type": "code",
      "execution_count": null,
      "metadata": {
        "collapsed": false
      },
      "outputs": [],
      "source": [
        "pitch = VerticalPitch(pitch_type='statsbomb', line_zorder=2, pitch_color='#f4edf0')\nfig, ax = pitch.draw(figsize=(4.125, 6))\nfig.set_facecolor('#f4edf0')\nbin_x = np.linspace(pitch.dim.left, pitch.dim.right, num=7)\nbin_y = np.sort(np.array([pitch.dim.bottom, pitch.dim.six_yard_bottom,\n                          pitch.dim.six_yard_top, pitch.dim.top]))\nbin_statistic = pitch.bin_statistic(df_pressure.x, df_pressure.y, statistic='count',\n                                    bins=(bin_x, bin_y), normalize=True)\npitch.heatmap(bin_statistic, ax=ax, cmap='Reds', edgecolor='#f9f9f9')\nlabels2 = pitch.label_heatmap(bin_statistic, color='#f4edf0', fontsize=18,\n                              ax=ax, ha='center', va='center',\n                              str_format='{:.0%}', path_effects=path_eff)"
      ]
    },
    {
      "cell_type": "markdown",
      "metadata": {},
      "source": [
        "## Plot the chart again with a title\nWe will use mplsoccer's grid function to plot a pitch with a title and endnote axes.\n\n"
      ]
    },
    {
      "cell_type": "code",
      "execution_count": null,
      "metadata": {
        "collapsed": false
      },
      "outputs": [],
      "source": [
        "pitch = VerticalPitch(pitch_type='statsbomb', line_zorder=2, pitch_color='#1e4259')\nfig, axs = pitch.grid(endnote_height=0.03, endnote_space=0,\n                      title_height=0.08, title_space=0,\n                      # Turn off the endnote/title axis. I usually do this after\n                      # I am happy with the chart layout and text placement\n                      axis=False,\n                      grid_height=0.84)\nfig.set_facecolor('#1e4259')\n\nbin_x = np.linspace(pitch.dim.left, pitch.dim.right, num=7)\nbin_y = np.sort(np.array([pitch.dim.bottom, pitch.dim.six_yard_bottom,\n                          pitch.dim.six_yard_top, pitch.dim.top]))\nbin_statistic = pitch.bin_statistic(df_pressure.x, df_pressure.y, statistic='count',\n                                    bins=(bin_x, bin_y), normalize=True)\npitch.heatmap(bin_statistic, ax=axs['pitch'], cmap=pearl_earring_cmap, edgecolor='#f9f9f9')\nlabels3 = pitch.label_heatmap(bin_statistic, color='#dee6ea', fontsize=18,\n                              ax=axs['pitch'], ha='center', va='center',\n                              str_format='{:.0%}', path_effects=path_eff)\n\n# endnote and title\nendnote_text = axs['endnote'].text(1, 0.5, '@your_twitter_handle',\n                                   va='center', ha='right', fontsize=15,\n                                   fontproperties=robotto_regular.prop, color='#dee6ea')\ntitle_text = axs['title'].text(0.5, 0.5, \"Pressure applied by\\n Chelsea FC Women\",\n                               color='#dee6ea', va='center', ha='center', path_effects=path_eff,\n                               fontproperties=robotto_regular.prop, fontsize=25)"
      ]
    },
    {
      "cell_type": "markdown",
      "metadata": {},
      "source": [
        "## Get bin numbers\nWe can also use the bin_statistic method to get the binnumbers. For example,\nto identify which cell each pass or pressure event was located in. In this example,\nwe use bin_statistic to get both the start and end location cells for the passes.\nWe then identify passes that began in one cell and ended in another cell close to\nthe goal. Note that the bin numbers are zero indexed so the first cell on the left\nis zero and the first cell at the bottom is zero. Any event that happened outside\nthe pitch for a dimension is given the value -1.\n\n"
      ]
    },
    {
      "cell_type": "code",
      "execution_count": null,
      "metadata": {
        "collapsed": false
      },
      "outputs": [],
      "source": [
        "pitch = Pitch(line_zorder=2)\nfig, ax = pitch.draw()\nbin_statistic = pitch.bin_statistic(df_pass.x, df_pass.y, bins=(6, 5))\nbin_statistic_end = pitch.bin_statistic(df_pass.end_x, df_pass.end_y, bins=(6, 5))\n\n# let's get a mask for all passes that started in one grid cell and ended in another\nmask_start = np.logical_and(bin_statistic['binnumber'][0] == 4,  # xs 5th box from left (zero indexed)\n                            bin_statistic['binnumber'][1] == 1)  # ys 2nd from bottom (zero indexed)\nmask_end = np.logical_and(bin_statistic_end['binnumber'][0] == 5,  # xs 6th box from left (zero indexed)\n                          bin_statistic_end['binnumber'][1] == 2)  # ys 3rd box from bottom (zero indexed)\nmask = np.logical_and(mask_start, mask_end)\n\n# plot the passes that started in one grid cell and ended in another\npitch.scatter(df_pass.x[mask], df_pass.y[mask], ax=ax, fc='hotpink',\n              marker='o', s=100, ec='darkslategrey', lw=3, alpha=0.6, zorder=4)\npitch.arrows(df_pass.x[mask], df_pass.y[mask], df_pass.end_x[mask], df_pass.end_y[mask],\n             ax=ax, zorder=10, color='midnightblue')\n\n# plot all of the starting locations as a heatmap\npitch.heatmap(bin_statistic, ax=ax, cmap='Reds', edgecolor='#f9f9f9', alpha=0.5)\n\nplt.show()  # If you are using a Jupyter notebook you do not need this line"
      ]
    }
  ],
  "metadata": {
    "kernelspec": {
      "display_name": "Python 3",
      "language": "python",
      "name": "python3"
    },
    "language_info": {
      "codemirror_mode": {
        "name": "ipython",
        "version": 3
      },
      "file_extension": ".py",
      "mimetype": "text/x-python",
      "name": "python",
      "nbconvert_exporter": "python",
      "pygments_lexer": "ipython3",
      "version": "3.11.8"
    }
  },
  "nbformat": 4,
  "nbformat_minor": 0
}
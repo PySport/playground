{
  "cells": [
    {
      "cell_type": "markdown",
      "metadata": {},
      "source": [
        "## *Setup required for Playground*\n",
        "\n",
        "The online playground requires a little bit of code to run first."
      ]
    },
    {
      "cell_type": "code",
      "execution_count": null,
      "metadata": {},
      "outputs": [],
      "source": [
        "import micropip\n",
        "await micropip.install('pyodide-http')\n",
        "await micropip.install('mplsoccer')\n",
        "await micropip.install('highlight_text')\n",
        "await micropip.install('pandas')\n",
        "await micropip.install('requests')\n",
        "\n",
        "import pyodide_http\n",
        "pyodide_http.patch_all()"
      ]
    },
    {
      "cell_type": "markdown",
      "metadata": {},
      "source": [
        "Original notebook can be found [here](https://mplsoccer.readthedocs.io/en/latest/_downloads/131b55c53c442f0d01110c77c5293b9a/plot_lines.ipynb)"
      ]
    },
    {
      "cell_type": "code",
      "execution_count": null,
      "metadata": {
        "collapsed": false
      },
      "outputs": [],
      "source": [
        "%matplotlib inline"
      ]
    },
    {
      "cell_type": "markdown",
      "metadata": {},
      "source": [
        "\n# Pass plot using lines\n\nThis example shows how to plot all passes from a team in a match as lines.\n"
      ]
    },
    {
      "cell_type": "code",
      "execution_count": null,
      "metadata": {
        "collapsed": false
      },
      "outputs": [],
      "source": [
        "import matplotlib.pyplot as plt\nfrom matplotlib import rcParams\n\nfrom mplsoccer import Pitch, VerticalPitch, FontManager, Sbopen\n\nrcParams['text.color'] = '#c7d5cc'  # set the default text color\n\n# get event dataframe for game 7478\nparser = Sbopen()\ndf, related, freeze, tactics = parser.event(7478)"
      ]
    },
    {
      "cell_type": "markdown",
      "metadata": {},
      "source": [
        "Boolean mask for filtering the dataset by team\n\n"
      ]
    },
    {
      "cell_type": "code",
      "execution_count": null,
      "metadata": {
        "collapsed": false
      },
      "outputs": [],
      "source": [
        "team1, team2 = df.team_name.unique()\nmask_team1 = (df.type_name == 'Pass') & (df.team_name == team1)"
      ]
    },
    {
      "cell_type": "markdown",
      "metadata": {},
      "source": [
        "Filter dataset to only include one teams passes and get boolean mask for the completed passes\n\n"
      ]
    },
    {
      "cell_type": "code",
      "execution_count": null,
      "metadata": {
        "collapsed": false
      },
      "outputs": [],
      "source": [
        "df_pass = df.loc[mask_team1, ['x', 'y', 'end_x', 'end_y', 'outcome_name']]\nmask_complete = df_pass.outcome_name.isnull()"
      ]
    },
    {
      "cell_type": "markdown",
      "metadata": {},
      "source": [
        "View the pass dataframe.\n\n"
      ]
    },
    {
      "cell_type": "code",
      "execution_count": null,
      "metadata": {
        "collapsed": false
      },
      "outputs": [],
      "source": [
        "df_pass.head()"
      ]
    },
    {
      "cell_type": "markdown",
      "metadata": {},
      "source": [
        "Plotting\n\n"
      ]
    },
    {
      "cell_type": "code",
      "execution_count": null,
      "metadata": {
        "collapsed": false
      },
      "outputs": [],
      "source": [
        "# Setup the pitch\npitch = Pitch(pitch_type='statsbomb', pitch_color='#22312b', line_color='#c7d5cc')\nfig, ax = pitch.draw(figsize=(16, 11), constrained_layout=False, tight_layout=True)\nfig.set_facecolor('#22312b')\n\n# Plot the completed passes\nlc1 = pitch.lines(df_pass[mask_complete].x, df_pass[mask_complete].y,\n                  df_pass[mask_complete].end_x, df_pass[mask_complete].end_y,\n                  lw=5, transparent=True, comet=True, label='completed passes',\n                  color='#ad993c', ax=ax)\n\n# Plot the other passes\nlc2 = pitch.lines(df_pass[~mask_complete].x, df_pass[~mask_complete].y,\n                  df_pass[~mask_complete].end_x, df_pass[~mask_complete].end_y,\n                  lw=5, transparent=True, comet=True, label='other passes',\n                  color='#ba4f45', ax=ax)\n\n# Plot the legend\nax.legend(facecolor='#22312b', edgecolor='None', fontsize=20, loc='upper left', handlelength=4)\n\n# Set the title\nax_title = ax.set_title(f'{team1} passes vs {team2}', fontsize=30)"
      ]
    },
    {
      "cell_type": "markdown",
      "metadata": {},
      "source": [
        "Plotting with grid.\nWe will use mplsoccer's grid function to plot a pitch with a title and endnote axes.\n\n"
      ]
    },
    {
      "cell_type": "code",
      "execution_count": null,
      "metadata": {
        "collapsed": false
      },
      "outputs": [],
      "source": [
        "fig, axs = pitch.grid(endnote_height=0.03, endnote_space=0, figheight=12,\n                      title_height=0.06, title_space=0,\n                      # Turn off the endnote/title axis. I usually do this after\n                      # I am happy with the chart layout and text placement\n                      axis=False,\n                      grid_height=0.86)\nfig.set_facecolor('#22312b')\n\n# Plot the completed passes\nlc1 = pitch.lines(df_pass[mask_complete].x, df_pass[mask_complete].y,\n                  df_pass[mask_complete].end_x, df_pass[mask_complete].end_y,\n                  lw=5, transparent=True, comet=True, label='completed passes',\n                  color='#ad993c', ax=axs['pitch'])\n\n# Plot the other passes\nlc2 = pitch.lines(df_pass[~mask_complete].x, df_pass[~mask_complete].y,\n                  df_pass[~mask_complete].end_x, df_pass[~mask_complete].end_y,\n                  lw=5, transparent=True, comet=True, label='other passes',\n                  color='#ba4f45', ax=axs['pitch'])\n\n# fontmanager for google font (robotto)\nrobotto_regular = FontManager()\n\n# setup the legend\nlegend = axs['pitch'].legend(facecolor='#22312b', handlelength=5, edgecolor='None',\n                             prop=robotto_regular.prop, loc='upper left')\nfor text in legend.get_texts():\n    text.set_fontsize(25)\n\n# endnote and title\naxs['endnote'].text(1, 0.5, '@your_twitter_handle', va='center', ha='right', fontsize=20,\n                    fontproperties=robotto_regular.prop, color='#dee6ea')\nax_title = axs['title'].text(0.5, 0.5, f'{team1} passes vs {team2}', color='#dee6ea',\n                             va='center', ha='center',\n                             fontproperties=robotto_regular.prop, fontsize=25)"
      ]
    },
    {
      "cell_type": "markdown",
      "metadata": {},
      "source": [
        "Filter datasets to only include passes leading to shots, and goals\n\n"
      ]
    },
    {
      "cell_type": "code",
      "execution_count": null,
      "metadata": {
        "collapsed": false
      },
      "outputs": [],
      "source": [
        "TEAM1 = 'OL Reign'\nTEAM2 = 'Houston Dash'\ndf_pass = df.loc[(df.pass_assisted_shot_id.notnull()) & (df.team_name == TEAM1),\n                 ['x', 'y', 'end_x', 'end_y', 'pass_assisted_shot_id']]\n\ndf_shot = (df.loc[(df.type_name == 'Shot') & (df.team_name == TEAM1),\n                  ['id', 'outcome_name', 'shot_statsbomb_xg']]\n           .rename({'id': 'pass_assisted_shot_id'}, axis=1))\n\ndf_pass = df_pass.merge(df_shot, how='left').drop('pass_assisted_shot_id', axis=1)\n\nmask_goal = df_pass.outcome_name == 'Goal'"
      ]
    },
    {
      "cell_type": "markdown",
      "metadata": {},
      "source": [
        "This example shows how to plot all passes leading to shots from a team using a colormap (cmap).\n\n"
      ]
    },
    {
      "cell_type": "code",
      "execution_count": null,
      "metadata": {
        "collapsed": false
      },
      "outputs": [],
      "source": [
        "# Setup the pitch\npitch = VerticalPitch(pitch_type='statsbomb', pitch_color='#22312b', line_color='#c7d5cc',\n                      half=True, pad_top=2)\nfig, axs = pitch.grid(endnote_height=0.03, endnote_space=0, figheight=12,\n                      title_height=0.08, title_space=0, axis=False,\n                      grid_height=0.82)\nfig.set_facecolor('#22312b')\n\n# Plot the completed passes\npitch.lines(df_pass.x, df_pass.y, df_pass.end_x, df_pass.end_y,\n            lw=10, transparent=True, comet=True, cmap='jet',\n            label='pass leading to shot', ax=axs['pitch'])\n\n# Plot the goals\npitch.scatter(df_pass[mask_goal].end_x, df_pass[mask_goal].end_y, s=700,\n              marker='football', edgecolors='black', c='white', zorder=2,\n              label='goal', ax=axs['pitch'])\npitch.scatter(df_pass[~mask_goal].end_x, df_pass[~mask_goal].end_y,\n              edgecolors='white', c='#22312b', s=700, zorder=2,\n              label='shot', ax=axs['pitch'])\n\n# endnote and title\naxs['endnote'].text(1, 0.5, '@your_twitter_handle', va='center', ha='right', fontsize=25,\n                    fontproperties=robotto_regular.prop, color='#dee6ea')\naxs['title'].text(0.5, 0.5, f'{TEAM1} passes leading to shots \\n vs {TEAM2}', color='#dee6ea',\n                  va='center', ha='center',\n                  fontproperties=robotto_regular.prop, fontsize=25)\n\n# set legend\nlegend = axs['pitch'].legend(facecolor='#22312b', edgecolor='None',\n                             loc='lower center', handlelength=4)\nfor text in legend.get_texts():\n    text.set_fontproperties(robotto_regular.prop)\n    text.set_fontsize(25)\n\nplt.show()  # If you are using a Jupyter notebook you do not need this line"
      ]
    }
  ],
  "metadata": {
    "kernelspec": {
      "display_name": "Python 3",
      "language": "python",
      "name": "python3"
    },
    "language_info": {
      "codemirror_mode": {
        "name": "ipython",
        "version": 3
      },
      "file_extension": ".py",
      "mimetype": "text/x-python",
      "name": "python",
      "nbconvert_exporter": "python",
      "pygments_lexer": "ipython3",
      "version": "3.10.6"
    }
  },
  "nbformat": 4,
  "nbformat_minor": 0
}
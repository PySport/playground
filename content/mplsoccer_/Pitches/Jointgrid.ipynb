{
  "cells": [
    {
      "cell_type": "markdown",
      "metadata": {},
      "source": [
        "## *Setup required for Playground*\n",
        "\n",
        "The online playground requires a little bit of code to run first."
      ]
    },
    {
      "cell_type": "code",
      "execution_count": null,
      "metadata": {},
      "outputs": [],
      "source": [
        "%pip install requests\n",
        "# Patch requests to make it work in the browser\n",
        "import pyodide_http\n",
        "pyodide_http.patch_all()"
      ]
    },
    {
      "cell_type": "code",
      "execution_count": null,
      "metadata": {},
      "outputs": [],
      "source": [
        "%pip install mplsoccer highlight_text pandas"
      ]
    },
    {
      "cell_type": "markdown",
      "metadata": {},
      "source": [
        "Original notebook can be found [here](https://mplsoccer.readthedocs.io/en/latest/_downloads/13f9324ebbf3559a01523772246e6ab6/plot_jointgrid.ipynb)"
      ]
    },
    {
      "cell_type": "code",
      "execution_count": null,
      "metadata": {
        "collapsed": false
      },
      "outputs": [],
      "source": [
        "%matplotlib inline"
      ]
    },
    {
      "cell_type": "markdown",
      "metadata": {},
      "source": [
        "\n# Jointgrid\n\nInspired by the Seaborn jointgrid and [@n_mondon](https://twitter.com/n_mondon) charts,\njointgrid gives a handy way to put marginal axis on each side of the pitch.\n"
      ]
    },
    {
      "cell_type": "code",
      "execution_count": null,
      "metadata": {
        "collapsed": false
      },
      "outputs": [],
      "source": [
        "import numpy as np\nimport pandas as pd\nimport seaborn as sns\nfrom matplotlib.cm import get_cmap\nimport matplotlib.pyplot as plt\n\nfrom mplsoccer import Pitch, VerticalPitch, Sbopen, FontManager\n\n# get data for a Sevilla versus Barcelona match with a high amount of shots\nparser = Sbopen()\ndf, related, freeze, tactics = parser.event(9860)\n\n# setup the mplsoccer StatsBomb Pitches\n# note not much padding around the pitch so the marginal axis are tight to the pitch\n# if you are using a different goal type you will need to increase the padding to see the goals\npitch = Pitch(pad_top=0.05, pad_right=0.05, pad_bottom=0.05, pad_left=0.05, line_zorder=2)\nvertical_pitch = VerticalPitch(half=True, pad_top=0.05, pad_right=0.05, pad_bottom=0.05,\n                               pad_left=0.05, line_zorder=2)\n\n# setup a mplsoccer FontManager to download google fonts (Roboto-Regular / SigmarOne-Regular)\nfm = FontManager()\nfm_rubik = FontManager('https://raw.githubusercontent.com/google/fonts/main/ofl/rubikmonoone/'\n                       'RubikMonoOne-Regular.ttf')"
      ]
    },
    {
      "cell_type": "markdown",
      "metadata": {},
      "source": [
        "Subset the shots for each team and move Barcelona's shots to the other side of the pitch.\n\n"
      ]
    },
    {
      "cell_type": "code",
      "execution_count": null,
      "metadata": {
        "collapsed": false
      },
      "outputs": [],
      "source": [
        "# subset the shots\ndf_shots = df[df.type_name == 'Shot'].copy()\n\n# subset the shots for each team\nteam1, team2 = df_shots.team_name.unique()\ndf_team1 = df_shots[df_shots.team_name == team1].copy()\ndf_team2 = df_shots[df_shots.team_name == team2].copy()\n\n# Usually in football, the data is collected so the attacking direction is left to right.\n# We can shift the coordinates via: new_x_coordinate = right_side - old_x_coordinate\n# This is helpful for having one team shots on the left of the pitch and the other on the right\ndf_team1['x'] = pitch.dim.right - df_team1.x"
      ]
    },
    {
      "cell_type": "markdown",
      "metadata": {},
      "source": [
        "## Plotting a standard shot map with step charts\n\n"
      ]
    },
    {
      "cell_type": "code",
      "execution_count": null,
      "metadata": {
        "collapsed": false
      },
      "outputs": [],
      "source": [
        "fig, axs = pitch.jointgrid(figheight=10,  # the figure is 10 inches high\n                           left=None,  # joint grid center-aligned\n                           bottom=0.075,  # grid starts 7.5% in from the bottom of the figure\n                           marginal=0.1,  # marginal axes heights are 10% of grid height\n                           space=0,  # 0% of the grid height reserved for space between axes\n                           grid_width=0.9,  # the grid width takes up 90% of the figure width\n                           title_height=0,  # plot without a title axes\n                           axis=False,  # turn off title/ endnote/ marginal axes\n                           endnote_height=0,  # plot without an endnote axes\n                           grid_height=0.8)  # grid takes up 80% of the figure height\n# we plot a usual scatter plot but the scatter size is based on expected goals\n# note that the size is the expected goals * 700\n# so any shots with an expected goals = 1 would take a size of 700 (points**2)\nsc_team1 = pitch.scatter(df_team1.x, df_team1.y, s=df_team1.shot_statsbomb_xg * 700,\n                         ec='black', color='#ba495c', ax=axs['pitch'])\nsc_team2 = pitch.scatter(df_team2.x, df_team2.y, s=df_team2.shot_statsbomb_xg * 700,\n                         ec='black', color='#697cd4', ax=axs['pitch'])\n# (step) histograms on each of the left, top, and right marginal axes\nteam1_hist_y = sns.histplot(y=df_team1.y, ax=axs['left'], element='step', color='#ba495c')\nteam1_hist_x = sns.histplot(x=df_team1.x, ax=axs['top'], element='step', color='#ba495c')\nteam2_hist_x = sns.histplot(x=df_team2.x, ax=axs['top'], element='step', color='#697cd4')\nteam2_hist_y = sns.histplot(y=df_team2.y, ax=axs['right'], element='step', color='#697cd4')\ntxt1 = axs['pitch'].text(x=15, y=70, s=team1, fontproperties=fm.prop, color='#ba495c',\n                         ha='center', va='center', fontsize=30)\ntxt2 = axs['pitch'].text(x=105, y=70, s=team2, fontproperties=fm.prop, color='#697cd4',\n                         ha='center', va='center', fontsize=30)"
      ]
    },
    {
      "cell_type": "markdown",
      "metadata": {},
      "source": [
        "## Plotting a standard shot map with rug plots\n\n"
      ]
    },
    {
      "cell_type": "code",
      "execution_count": null,
      "metadata": {
        "collapsed": false
      },
      "outputs": [],
      "source": [
        "# decreased the marginal height as rug plots are only lines,\n# we don't need as much space taken up by the marginal axes\nfig, axs = pitch.jointgrid(figheight=10, left=None, bottom=0.075, marginal=0.02,\n                           axis=False,  # turn off title/ endnote/ marginal axes\n                           # plot without title/ endnote axes\n                           endnote_height=0, title_height=0)\nsc_team1 = pitch.scatter(df_team1.x, df_team1.y, s=df_team1.shot_statsbomb_xg * 700,\n                         ec='black', color='#ba495c', ax=axs['pitch'])\nsc_team2 = pitch.scatter(df_team2.x, df_team2.y, s=df_team2.shot_statsbomb_xg * 700,\n                         ec='black', color='#697cd4', ax=axs['pitch'])\n# note height=1 means that the whole of the marginal axes are taken up by the rugplots\nteam1_rug_y = sns.rugplot(y=df_team1.y, ax=axs['left'], color='#ba495c', height=1)\nteam1_rug_y = sns.rugplot(y=df_team2.y, ax=axs['right'], color='#697cd4', height=1)\nteam1_rug_x = sns.rugplot(x=df_team1.x, ax=axs['top'], color='#ba495c', height=1)\nteam2_rug_x = sns.rugplot(x=df_team2.x, ax=axs['top'], color='#697cd4', height=1)\ntxt1 = axs['pitch'].text(x=15, y=70, s=team1, fontproperties=fm.prop, color='#ba495c',\n                         ha='center', va='center', fontsize=30)\ntxt2 = axs['pitch'].text(x=105, y=70, s=team2, fontproperties=fm.prop, color='#697cd4',\n                         ha='center', va='center', fontsize=30)"
      ]
    },
    {
      "cell_type": "markdown",
      "metadata": {},
      "source": [
        "Get more shot data for additional games\n\n"
      ]
    },
    {
      "cell_type": "code",
      "execution_count": null,
      "metadata": {
        "collapsed": false
      },
      "outputs": [],
      "source": [
        "# sevilla versus barcelona 2014/2015 to 2019/2020\nmatch_files = [265835, 266142, 265839, 266989, 266280, 9673, 9860, 16029, 16190, 303473, 303674]\ndf = pd.concat([parser.event(file)[0] for file in match_files])  # 0 index is the event file\n\n# subset the shots\ndf_shots = df[df.type_name == 'Shot'].copy()\n\n# subset the shots for each team\nteam1, team2 = df_shots.team_name.unique()\ndf_team1 = df_shots[df_shots.team_name == team1].copy().reset_index(drop=True)\ndf_team2 = df_shots[df_shots.team_name == team2].copy().reset_index(drop=True)\n\n# move the team1 coordinate to the left hand side\ndf_team1['x'] = pitch.dim.right - df_team1.x"
      ]
    },
    {
      "cell_type": "markdown",
      "metadata": {},
      "source": [
        "Get colors\nWe are using Reds and Blues colormaps below and select a color just over half\nway (60%) through the colormap for use in the charts.\n\n"
      ]
    },
    {
      "cell_type": "code",
      "execution_count": null,
      "metadata": {
        "collapsed": false
      },
      "outputs": [],
      "source": [
        "red = get_cmap('Reds')(np.linspace(0, 1, 100))[60]\nblue = get_cmap('Blues')(np.linspace(0, 1, 100))[60]"
      ]
    },
    {
      "cell_type": "markdown",
      "metadata": {},
      "source": [
        "## Hexbin shot map with kdeplot marginal axes\n\n"
      ]
    },
    {
      "cell_type": "code",
      "execution_count": null,
      "metadata": {
        "collapsed": false
      },
      "outputs": [],
      "source": [
        "fig, axs = pitch.jointgrid(figheight=10, left=None, bottom=0.075, grid_height=0.8,\n                           axis=False,  # turn off title/ endnote/ marginal axes\n                           # plot without endnote/ title axes\n                           endnote_height=0, title_height=0)\n# plot the hexbins\nhex1 = pitch.hexbin(df_team1.x, df_team1.y, ax=axs['pitch'],\n                    edgecolors=pitch.line_color, cmap='Reds')\nhex2 = pitch.hexbin(df_team2.x, df_team2.y, ax=axs['pitch'],\n                    edgecolors=pitch.line_color, cmap='Blues')\n# normalize the values so the colors depend on the minimum/ value for both teams\n# this ensures that darker colors mean more shots relative to both teams\nvmin = min(hex1.get_array().min(), hex2.get_array().min())\nvmax = max(hex1.get_array().max(), hex2.get_array().max())\nhex1.set_clim(vmin=vmin, vmax=vmax)\nhex2.set_clim(vmin=vmin, vmax=vmax)\n# plot kdeplots on the marginals\nteam1_hist_y = sns.kdeplot(y=df_team1.y, ax=axs['left'], color=red, fill=True)\nteam1_hist_x = sns.kdeplot(x=df_team1.x, ax=axs['top'], color=red, fill=True)\nteam2_hist_x = sns.kdeplot(x=df_team2.x, ax=axs['top'], color=blue, fill=True)\nteam2_hist_y = sns.kdeplot(y=df_team2.y, ax=axs['right'], color=blue, fill=True)\ntxt1 = axs['pitch'].text(x=15, y=70, s=team1, fontproperties=fm.prop, color=red,\n                         ha='center', va='center', fontsize=30)\ntxt2 = axs['pitch'].text(x=105, y=70, s=team2, fontproperties=fm.prop, color=blue,\n                         ha='center', va='center', fontsize=30)"
      ]
    },
    {
      "cell_type": "markdown",
      "metadata": {},
      "source": [
        "## Heatmap shot map with histogram/ kdeplot on the marginal axes\n\n"
      ]
    },
    {
      "cell_type": "code",
      "execution_count": null,
      "metadata": {
        "collapsed": false
      },
      "outputs": [],
      "source": [
        "fig, axs = pitch.jointgrid(figheight=10, left=None, bottom=0.075, grid_height=0.8,\n                           axis=False,  # turn off title/ endnote/ marginal axes\n                           # plot without endnote/ title axes\n                           title_height=0, endnote_height=0)\nbs1 = pitch.bin_statistic(df_team1.x, df_team1.y, bins=(18, 12))\nbs2 = pitch.bin_statistic(df_team2.x, df_team2.y, bins=(18, 12))\n# get the min/ max values for normalizing across both teams\nvmax = max(bs2['statistic'].max(), bs1['statistic'].max())\nvmin = max(bs2['statistic'].min(), bs1['statistic'].min())\n# set values where zero shots to nan values so it does not show up in the heatmap\n# i.e. zero values take the background color\nbs1['statistic'][bs1['statistic'] == 0] = np.nan\nbs2['statistic'][bs2['statistic'] == 0] = np.nan\n# set the vmin/ vmax so the colors depend on the minimum/maximum value for both teams\nhm1 = pitch.heatmap(bs1, ax=axs['pitch'], cmap='Reds', vmin=vmin, vmax=vmax, edgecolor='#f9f9f9')\nhm2 = pitch.heatmap(bs2, ax=axs['pitch'], cmap='Blues', vmin=vmin, vmax=vmax, edgecolor='#f9f9f9')\n# histograms with kdeplot\nteam1_hist_y = sns.histplot(y=df_team1.y, ax=axs['left'], color=red, linewidth=1, kde=True)\nteam1_hist_x = sns.histplot(x=df_team1.x, ax=axs['top'], color=red, linewidth=1, kde=True)\nteam2_hist_x = sns.histplot(x=df_team2.x, ax=axs['top'], color=blue, linewidth=1, kde=True)\nteam2_hist_y = sns.histplot(y=df_team2.y, ax=axs['right'], color=blue, linewidth=1, kde=True)\ntxt1 = axs['pitch'].text(x=15, y=70, s=team1, fontproperties=fm.prop, color=red,\n                         ha='center', va='center', fontsize=30)\ntxt2 = axs['pitch'].text(x=105, y=70, s=team2, fontproperties=fm.prop, color=blue,\n                         ha='center', va='center', fontsize=30)"
      ]
    },
    {
      "cell_type": "markdown",
      "metadata": {},
      "source": [
        "## Kdeplot shot map with kdeplot on the marginal axes\n\n"
      ]
    },
    {
      "cell_type": "code",
      "execution_count": null,
      "metadata": {
        "collapsed": false
      },
      "outputs": [],
      "source": [
        "fig, axs = pitch.jointgrid(figheight=10, left=None, bottom=0.075, grid_height=0.8,\n                           axis=False,  # turn off title/ endnote/ marginal axes\n                           # plot without endnote/ title axes\n                           title_height=0, endnote_height=0)\n# increase number of levels for a smoother looking heatmap\nkde1 = pitch.kdeplot(df_team1.x, df_team1.y, ax=axs['pitch'], cmap='Reds', levels=75, fill=True)\nkde2 = pitch.kdeplot(df_team2.x, df_team2.y, ax=axs['pitch'], cmap='Blues', levels=75, fill=True)\n# kdeplot on marginal axes\nteam1_hist_y = sns.kdeplot(y=df_team1.y, ax=axs['left'], color=red, fill=True)\nteam1_hist_x = sns.kdeplot(x=df_team1.x, ax=axs['top'], color=red, fill=True)\nteam2_hist_x = sns.kdeplot(x=df_team2.x, ax=axs['top'], color=blue, fill=True)\nteam2_hist_y = sns.kdeplot(y=df_team2.y, ax=axs['right'], color=blue, fill=True)\ntxt1 = axs['pitch'].text(x=15, y=70, s=team1, fontproperties=fm.prop, color=red,\n                         ha='center', va='center', fontsize=30)\ntxt2 = axs['pitch'].text(x=105, y=70, s=team2, fontproperties=fm.prop, color=blue,\n                         ha='center', va='center', fontsize=30)"
      ]
    },
    {
      "cell_type": "markdown",
      "metadata": {},
      "source": [
        "## Vertical shot map with kdeplot marginals\nThe jointgrid is flexible. You can filter the marginal axes with\nax_left, ax_top, ax_left, ax_right. Here we set the bottom and right\nmarginal axes to display for a single team.\n\n"
      ]
    },
    {
      "cell_type": "code",
      "execution_count": null,
      "metadata": {
        "collapsed": false
      },
      "outputs": [],
      "source": [
        "fig, axs = vertical_pitch.jointgrid(figheight=10, left=None, bottom=0.15,\n                                    grid_height=0.7, marginal=0.1,\n                                    # plot without endnote/ title axes\n                                    endnote_height=0, title_height=0,\n                                    axis=False,  # turn off title/ endnote/ marginal axes\n                                    # here we filter out the left and top marginal axes\n                                    ax_top=False, ax_bottom=True,\n                                    ax_left=False, ax_right=True)\n# typical shot map where the scatter points vary by the expected goals value\n# using alpha for transparency as there are a lot of shots stacked around the six-yard box\nsc_team2 = vertical_pitch.scatter(df_team2.x, df_team2.y, s=df_team2.shot_statsbomb_xg * 700,\n                                  alpha=0.5, ec='black', color='#697cd4', ax=axs['pitch'])\n# kdeplots on the marginals\n# remember to flip the coordinates y=x, x=y for the marginals when using vertical orientation\nteam2_hist_x = sns.kdeplot(y=df_team2.x, ax=axs['right'], color='#697cd4', fill=True)\nteam2_hist_y = sns.kdeplot(x=df_team2.y, ax=axs['bottom'], color='#697cd4', fill=True)\ntxt1 = axs['pitch'].text(x=40, y=80, s=team2, fontproperties=fm_rubik.prop, color=pitch.line_color,\n                         ha='center', va='center', fontsize=60)"
      ]
    },
    {
      "cell_type": "markdown",
      "metadata": {},
      "source": [
        "## Crop the pitch\nThe jointgrid also works with arbritary padding.\nSo you can crop the pitc and still have the marginal axes to plot on.\n\n"
      ]
    },
    {
      "cell_type": "code",
      "execution_count": null,
      "metadata": {
        "collapsed": false
      },
      "outputs": [],
      "source": [
        "vertical_pitch = VerticalPitch(half=True,\n                               # here we remove some of the pitch on the left/ right/ bottom\n                               pad_top=0.05, pad_right=-15, pad_bottom=-20, pad_left=-15,\n                               goal_type='line')\n\nfig, axs = vertical_pitch.jointgrid(figheight=10, left=None, bottom=0.15,\n                                    grid_height=0.7, marginal=0.1,\n                                    # plot without an endnote/ title axes\n                                    title_height=0, endnote_height=0,\n                                    axis=False,  # turn off title/ endnote/ marginal axes\n                                    # here we filter out the left and top marginal axes\n                                    ax_top=False, ax_bottom=True,\n                                    ax_left=False, ax_right=True)\n# typical shot map where the scatter points vary by the expected goals value\n# using alpha for transparency as there are a lot of shots stacked around the six-yard box\nsc_team2 = vertical_pitch.scatter(df_team2.x, df_team2.y, s=df_team2.shot_statsbomb_xg * 700,\n                                  alpha=0.5, ec='black', color='#697cd4', ax=axs['pitch'])\n# kdeplots on the marginals\n# remember to flip the coordinates y=x, x=y for the marginals when using vertical orientation\nteam2_hist_x = sns.kdeplot(y=df_team2.x, ax=axs['right'], color='#697cd4', fill=True)\nteam2_hist_y = sns.kdeplot(x=df_team2.y, ax=axs['bottom'], color='#697cd4', fill=True)\ntxt1 = axs['pitch'].text(x=40, y=85, s=team2, fontproperties=fm_rubik.prop, color=pitch.line_color,\n                         ha='center', va='center', fontsize=60)"
      ]
    },
    {
      "cell_type": "markdown",
      "metadata": {},
      "source": [
        "## Add a title and endnote\nThe jointgrid also has an option to plot an endnote and a title axes.\n\n"
      ]
    },
    {
      "cell_type": "code",
      "execution_count": null,
      "metadata": {
        "collapsed": false
      },
      "outputs": [],
      "source": [
        "vertical_pitch = VerticalPitch(half=True,\n                               # here we remove some of the pitch on the left/ right/ bottom\n                               pad_top=0.05, pad_right=-15, pad_bottom=-20, pad_left=-15,\n                               goal_type='line')\n\nfig, axs = vertical_pitch.jointgrid(figheight=10, left=None, bottom=None,  # center aligned\n                                    grid_width=0.95, marginal=0.1,\n                                    # setting up the heights/space so it takes up 95% of the figure\n                                    grid_height=0.80,\n                                    title_height=0.1, endnote_height=0.03,\n                                    title_space=0.01, endnote_space=0.01,\n                                    axis=False,  # turn off title/ endnote/ marginal axes\n                                    # here we filter out the left and top marginal axes\n                                    ax_top=False, ax_bottom=True,\n                                    ax_left=False, ax_right=True)\n# typical shot map where the scatter points vary by the expected goals value\n# using alpha for transparency as there are a lot of shots stacked around the six-yard box\nsc_team2 = vertical_pitch.scatter(df_team2.x, df_team2.y, s=df_team2.shot_statsbomb_xg * 700,\n                                  alpha=0.5, ec='black', color='#697cd4', ax=axs['pitch'])\n# kdeplots on the marginals\n# remember to flip the coordinates y=x, x=y for the marginals when using vertical orientation\nteam2_hist_x = sns.kdeplot(y=df_team2.x, ax=axs['right'], color='#697cd4', fill=True)\nteam2_hist_y = sns.kdeplot(x=df_team2.y, ax=axs['bottom'], color='#697cd4', fill=True)\ntxt1 = axs['pitch'].text(x=40, y=85, s=team2, fontproperties=fm_rubik.prop, color=pitch.line_color,\n                         ha='center', va='center', fontsize=60)\n\n# titles and endnote\naxs['title'].text(0.5, 0.7, \"Sevilla's shots versus Barcelona\", color=pitch.line_color,\n                  fontproperties=fm_rubik.prop, fontsize=18, ha='center', va='center')\naxs['title'].text(0.5, 0.3, \"2014/15 to 2019/20\", color=pitch.line_color,\n                  fontproperties=fm_rubik.prop, fontsize=12, ha='center', va='center')\naxs['endnote'].text(1, 0.5, '@your_amazing_tag', ha='right', va='center',\n                    color=pitch.line_color, fontproperties=fm_rubik.prop)\n\nplt.show()  # If you are using a Jupyter notebook you do not need this line"
      ]
    }
  ],
  "metadata": {
    "kernelspec": {
      "display_name": "Python 3",
      "language": "python",
      "name": "python3"
    },
    "language_info": {
      "codemirror_mode": {
        "name": "ipython",
        "version": 3
      },
      "file_extension": ".py",
      "mimetype": "text/x-python",
      "name": "python",
      "nbconvert_exporter": "python",
      "pygments_lexer": "ipython3",
      "version": "3.11.0"
    }
  },
  "nbformat": 4,
  "nbformat_minor": 0
}
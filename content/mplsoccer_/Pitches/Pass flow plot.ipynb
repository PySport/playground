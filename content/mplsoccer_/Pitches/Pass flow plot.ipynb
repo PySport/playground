{
  "cells": [
    {
      "cell_type": "markdown",
      "metadata": {},
      "source": [
        "## *Setup required for Playground*\n",
        "\n",
        "The online playground requires a little bit of code to run first."
      ]
    },
    {
      "cell_type": "code",
      "execution_count": null,
      "metadata": {},
      "outputs": [],
      "source": [
        "import micropip\n",
        "await micropip.install('pyodide-http==0.0.6')\n",
        "await micropip.install('mplsoccer')\n",
        "await micropip.install('highlight_text')\n",
        "await micropip.install('pandas')\n",
        "await micropip.install('requests')\n",
        "\n",
        "import pyodide_http\n",
        "pyodide_http.patch_all()"
      ]
    },
    {
      "cell_type": "markdown",
      "metadata": {},
      "source": [
        "Original notebook can be found [here](https://mplsoccer.readthedocs.io/en/latest/_downloads/dcd5f1d4b5998de1876889c31cf68c65/plot_flow.ipynb)"
      ]
    },
    {
      "cell_type": "code",
      "execution_count": null,
      "metadata": {
        "collapsed": false
      },
      "outputs": [],
      "source": [
        "%matplotlib inline"
      ]
    },
    {
      "cell_type": "markdown",
      "metadata": {},
      "source": [
        "\n# Pass flow plot\n\nThis example shows how to plot the passes from a team as a pass flow plot.\n"
      ]
    },
    {
      "cell_type": "code",
      "execution_count": null,
      "metadata": {
        "collapsed": false
      },
      "outputs": [],
      "source": [
        "from matplotlib import rcParams\nimport matplotlib.pyplot as plt\nfrom matplotlib.colors import LinearSegmentedColormap\n\nfrom mplsoccer import Pitch, FontManager, Sbopen\n\nrcParams['text.color'] = '#c7d5cc'  # set the default text color\n\n# get event dataframe for game 7478\nparser = Sbopen()\ndf, related, freeze, tactics = parser.event(7478)"
      ]
    },
    {
      "cell_type": "markdown",
      "metadata": {},
      "source": [
        "Boolean mask for filtering the dataset by team\n\n"
      ]
    },
    {
      "cell_type": "code",
      "execution_count": null,
      "metadata": {
        "collapsed": false
      },
      "outputs": [],
      "source": [
        "team1, team2 = df.team_name.unique()\nmask_team1 = (df.type_name == 'Pass') & (df.team_name == team1)"
      ]
    },
    {
      "cell_type": "markdown",
      "metadata": {},
      "source": [
        "Filter dataset to only include one teams passes and get boolean mask for the completed passes\n\n"
      ]
    },
    {
      "cell_type": "code",
      "execution_count": null,
      "metadata": {
        "collapsed": false
      },
      "outputs": [],
      "source": [
        "df_pass = df.loc[mask_team1, ['x', 'y', 'end_x', 'end_y', 'outcome_name']]\nmask_complete = df_pass.outcome_name.isnull()"
      ]
    },
    {
      "cell_type": "markdown",
      "metadata": {},
      "source": [
        "Setup the pitch and number of bins\n\n"
      ]
    },
    {
      "cell_type": "code",
      "execution_count": null,
      "metadata": {
        "collapsed": false
      },
      "outputs": [],
      "source": [
        "pitch = Pitch(pitch_type='statsbomb',  line_zorder=2, line_color='#c7d5cc', pitch_color='#22312b')\nbins = (6, 4)"
      ]
    },
    {
      "cell_type": "markdown",
      "metadata": {},
      "source": [
        "Plotting using a single color and length\n\n"
      ]
    },
    {
      "cell_type": "code",
      "execution_count": null,
      "metadata": {
        "collapsed": false
      },
      "outputs": [],
      "source": [
        "fig, ax = pitch.draw(figsize=(16, 11), constrained_layout=True, tight_layout=False)\nfig.set_facecolor('#22312b')\n# plot the heatmap - darker colors = more passes originating from that square\nbs_heatmap = pitch.bin_statistic(df_pass.x, df_pass.y, statistic='count', bins=bins)\nhm = pitch.heatmap(bs_heatmap, ax=ax, cmap='Blues')\n# plot the pass flow map with a single color ('black') and length of the arrow (5)\nfm = pitch.flow(df_pass.x, df_pass.y, df_pass.end_x, df_pass.end_y,\n                color='black', arrow_type='same',\n                arrow_length=5, bins=bins, ax=ax)\nax_title = ax.set_title(f'{team1} pass flow map vs {team2}', fontsize=30, pad=-20)"
      ]
    },
    {
      "cell_type": "markdown",
      "metadata": {},
      "source": [
        "Plotting using a cmap and scaled arrows\n\n"
      ]
    },
    {
      "cell_type": "code",
      "execution_count": null,
      "metadata": {
        "collapsed": false
      },
      "outputs": [],
      "source": [
        "fig, ax = pitch.draw(figsize=(16, 11), constrained_layout=True, tight_layout=False)\nfig.set_facecolor('#22312b')\n# plot the heatmap - darker colors = more passes originating from that square\nbs_heatmap = pitch.bin_statistic(df_pass.x, df_pass.y, statistic='count', bins=bins)\nhm = pitch.heatmap(bs_heatmap, ax=ax, cmap='Reds')\n# plot the pass flow map with a custom color map and the arrows scaled by the average pass length\n# the longer the arrow the greater the average pass length in the cell\ngrey = LinearSegmentedColormap.from_list('custom cmap', ['#DADADA', 'black'])\nfm = pitch.flow(df_pass.x, df_pass.y, df_pass.end_x, df_pass.end_y, cmap=grey,\n                arrow_type='scale', arrow_length=15, bins=bins, ax=ax)\nax_title = ax.set_title(f'{team1} pass flow map vs {team2}', fontsize=30, pad=-20)"
      ]
    },
    {
      "cell_type": "markdown",
      "metadata": {},
      "source": [
        "Plotting with arrow lengths equal to average distance\n\n"
      ]
    },
    {
      "cell_type": "code",
      "execution_count": null,
      "metadata": {
        "collapsed": false
      },
      "outputs": [],
      "source": [
        "fig, ax = pitch.draw(figsize=(16, 11), constrained_layout=True, tight_layout=False)\nfig.set_facecolor('#22312b')\n# plot the heatmap - darker colors = more passes originating from that square\nbs_heatmap = pitch.bin_statistic(df_pass.x, df_pass.y, statistic='count', bins=bins)\nhm = pitch.heatmap(bs_heatmap, ax=ax, cmap='Greens')\n# plot the pass flow map with a single color and the\n# arrow length equal to the average distance in the cell\nfm = pitch.flow(df_pass.x, df_pass.y, df_pass.end_x, df_pass.end_y, color='black',\n                arrow_type='average', bins=bins, ax=ax)\nax_title = ax.set_title(f'{team1} pass flow map vs {team2}', fontsize=30, pad=-20)"
      ]
    },
    {
      "cell_type": "markdown",
      "metadata": {},
      "source": [
        "Plotting with an endnote/title\n\n"
      ]
    },
    {
      "cell_type": "code",
      "execution_count": null,
      "metadata": {
        "collapsed": false
      },
      "outputs": [],
      "source": [
        "# We will use mplsoccer's grid function to plot a pitch with a title axis.\npitch = Pitch(pitch_type='statsbomb', pad_bottom=1, pad_top=1,\n              pad_left=1, pad_right=1,\n              line_zorder=2, line_color='#c7d5cc', pitch_color='#22312b')\nfig, axs = pitch.grid(figheight=8, endnote_height=0.03, endnote_space=0,\n                      title_height=0.1, title_space=0, grid_height=0.82,\n                      # Turn off the endnote/title axis. I usually do this after\n                      # I am happy with the chart layout and text placement\n                      axis=False)\nfig.set_facecolor('#22312b')\n\n# plot the heatmap - darker colors = more passes originating from that square\nbs_heatmap = pitch.bin_statistic(df_pass.x, df_pass.y, statistic='count', bins=bins)\nhm = pitch.heatmap(bs_heatmap, ax=axs['pitch'], cmap='Blues')\n# plot the pass flow map with a single color ('black') and length of the arrow (5)\nfm = pitch.flow(df_pass.x, df_pass.y, df_pass.end_x, df_pass.end_y,\n                color='black', arrow_type='same',\n                arrow_length=5, bins=bins, ax=axs['pitch'])\n\n# title / endnote\nfont = FontManager()  # default is loading robotto font from google fonts\naxs['title'].text(0.5, 0.5, f'{team1} pass flow map vs {team2}',\n                  fontsize=25, fontproperties=font.prop, va='center', ha='center')\naxs['endnote'].text(1, 0.5, '@your_amazing_tag',\n                    fontsize=18, fontproperties=font.prop, va='center', ha='right')\n\nplt.show()  # If you are using a Jupyter notebook you do not need this line"
      ]
    }
  ],
  "metadata": {
    "kernelspec": {
      "display_name": "Python 3",
      "language": "python",
      "name": "python3"
    },
    "language_info": {
      "codemirror_mode": {
        "name": "ipython",
        "version": 3
      },
      "file_extension": ".py",
      "mimetype": "text/x-python",
      "name": "python",
      "nbconvert_exporter": "python",
      "pygments_lexer": "ipython3",
      "version": "3.10.6"
    }
  },
  "nbformat": 4,
  "nbformat_minor": 0
}
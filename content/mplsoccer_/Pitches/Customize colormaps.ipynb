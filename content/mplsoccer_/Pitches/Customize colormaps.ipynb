{
  "cells": [
    {
      "cell_type": "markdown",
      "metadata": {},
      "source": [
        "## *Setup required for Playground*\n",
        "\n",
        "The online playground requires a little bit of code to run first."
      ]
    },
    {
      "cell_type": "code",
      "execution_count": null,
      "metadata": {},
      "outputs": [],
      "source": [
        "import micropip\n",
        "await micropip.install('pyodide-http==0.0.6')\n",
        "await micropip.install('mplsoccer')\n",
        "await micropip.install('highlight_text')\n",
        "await micropip.install('pandas')\n",
        "await micropip.install('requests')\n",
        "\n",
        "import pyodide_http\n",
        "pyodide_http.patch_all()"
      ]
    },
    {
      "cell_type": "markdown",
      "metadata": {},
      "source": [
        "Original notebook can be found [here](https://mplsoccer.readthedocs.io/en/latest/_downloads/3bbe3fd973b50cdb1850d1e4af2ee609/plot_cmap.ipynb)"
      ]
    },
    {
      "cell_type": "code",
      "execution_count": null,
      "metadata": {
        "collapsed": false
      },
      "outputs": [],
      "source": [
        "%matplotlib inline"
      ]
    },
    {
      "cell_type": "markdown",
      "metadata": {},
      "source": [
        "\n# Customize colormaps\n\nThis example shows how to use cmasher colormaps and\nalso how to make a custom colormap (cmap) in Matplotlib. Colormaps are used to\nmap from a value to a color in a chart.\n"
      ]
    },
    {
      "cell_type": "code",
      "execution_count": null,
      "metadata": {
        "collapsed": false
      },
      "outputs": [],
      "source": [
        "import matplotlib.pyplot as plt\nimport numpy as np\nimport pandas as pd\nfrom matplotlib.colors import LinearSegmentedColormap\nimport cmasher as cmr\n\nfrom mplsoccer import VerticalPitch, Sbopen\nfrom mplsoccer.utils import FontManager\n\n# get data\nparser = Sbopen()\nmatch_files = [19789, 19794, 19805]\ndf = pd.concat([parser.event(file)[0] for file in match_files])  # 0 index is the event file\n\n# filter chelsea pressure events\nmask_chelsea_pressure = (df.team_name == 'Chelsea FCW') & (df.type_name == 'Pressure')\ndf = df.loc[mask_chelsea_pressure, ['x', 'y']]"
      ]
    },
    {
      "cell_type": "markdown",
      "metadata": {},
      "source": [
        "## cmasher colormaps\nCmasher colormaps are scientific colormaps that have been designed to be\nperceptually uniform (i.e. color changes visually look the same as the value changes)\nand mostly colorblind friendly. A great choice\nto get started and potentially more exciting than the default matplotlib choices.\n\nLet's first get a dictionary of all the colormaps\n\nSee the docs for more info: https://cmasher.readthedocs.io/.\n\n"
      ]
    },
    {
      "cell_type": "code",
      "execution_count": null,
      "metadata": {
        "collapsed": false
      },
      "outputs": [],
      "source": [
        "cmap_dict = cmr.cm.cmap_cd\nall_cmap_dict = {}\nfor cmap_type_key in cmap_dict:\n    for key, cmap in cmap_dict[cmap_type_key].items():\n        if key[-2:] != '_r':\n            all_cmap_dict[key] = cmap"
      ]
    },
    {
      "cell_type": "markdown",
      "metadata": {},
      "source": [
        "## Cmasher kdeplot\nHere's all the cmasher colormaps plotted as a grid so you can find your\nfavorite.\n\n"
      ]
    },
    {
      "cell_type": "code",
      "execution_count": null,
      "metadata": {
        "collapsed": false
      },
      "outputs": [],
      "source": [
        "pitch = VerticalPitch(line_color='#cfcfcf', line_zorder=2, pitch_color='#122c3d')\nfig, axs = pitch.grid(nrows=11, ncols=4, space=0.1, figheight=40,\n                      title_height=0, endnote_height=0,  # no title/ endnote\n                      grid_width=0.9, grid_height=0.98, bottom=0.01, left=0.05)\ncmap_names = list(all_cmap_dict.keys())\nfor idx, ax in enumerate(axs.flat):\n    cmap_name = f'cmr.{cmap_names[idx]}'\n    cmap = all_cmap_dict[cmap_names[idx]]\n    kdeplot = pitch.kdeplot(df.x, df.y, ax=ax, cmap=cmap, shade=True, levels=100)\n    ax_title = ax.set_title(cmap_name, fontsize=15)"
      ]
    },
    {
      "cell_type": "markdown",
      "metadata": {},
      "source": [
        "## Cmasher kdeplot\nI like the look of the voltage colormap so let's plot in against a light and\ndark background\n\nYou can reverse any of the colormaps, by putting\n_r at the end, for example cmr.arctic_r (this also applies to matplotlib cmaps).\n\nReversing the colormaps is sometimes helpful so the high value colors do not bleed into the\nbackground. I prefer dark to light colormaps on dark background, and light to dark\ncolormaps on light backgrounds. I have shown this below using the same colormap in reverse.\n\n"
      ]
    },
    {
      "cell_type": "code",
      "execution_count": null,
      "metadata": {
        "collapsed": false
      },
      "outputs": [],
      "source": [
        "# dark\npitch_dark = VerticalPitch(line_color='#cfcfcf', line_zorder=2, pitch_color='#122c3d')\nfig, ax = pitch_dark.draw()\nkdeplot_dark = pitch_dark.kdeplot(df.x, df.y, ax=ax, cmap=cmr.voltage, shade=True, levels=100)\n\n# light\npitch_light = VerticalPitch(line_zorder=2)\nfig, ax = pitch_light.draw()\nkdeplot_light = pitch_light.kdeplot(df.x, df.y, ax=ax, cmap=cmr.voltage_r, shade=True, levels=100)"
      ]
    },
    {
      "cell_type": "markdown",
      "metadata": {},
      "source": [
        "## Create colormaps using LinearSegmentedColormap\nSometimes its nice to make your own colormaps, maybe to even match team colors.\nIn these examples we will use a list of two colors and the colormaps will\nlinearly increase between these two colors (note you can do more such as use 3 colors).\n\nFor dark theme backgrounds, I prefer going from dark to light colors. This is so the null values\nwhich will take the dark background color are not mistaken for high values.\nLikewise, I prefer to go from light to dark colors when using a lighter background.\n\n"
      ]
    },
    {
      "cell_type": "code",
      "execution_count": null,
      "metadata": {
        "collapsed": false
      },
      "outputs": [],
      "source": [
        "pearl_earring_cmap = LinearSegmentedColormap.from_list(\"Pearl Earring - 10 colors\",\n                                                       ['#15242e', '#4393c4'], N=10)\nel_greco_violet_cmap = LinearSegmentedColormap.from_list(\"El Greco Violet - 10 colors\",\n                                                         ['#332a49', '#8e78a0'], N=10)\nel_greco_yellow_cmap = LinearSegmentedColormap.from_list(\"El Greco Yellow - 10 colors\",\n                                                         ['#7c2e2a', '#f2dd44'], N=10)\nflamingo_cmap = LinearSegmentedColormap.from_list(\"Flamingo - 10 colors\",\n                                                  ['#e3aca7', '#c03a1d'], N=10)\n# same color maps but with 100 colors\npearl_earring_cmap_100 = LinearSegmentedColormap.from_list(\"Pearl Earring - 100 colors\",\n                                                           ['#15242e', '#4393c4'], N=100)\nel_greco_violet_cmap_100 = LinearSegmentedColormap.from_list(\"El Greco Violet - 100 colors\",\n                                                             ['#3b3154', '#8e78a0'], N=100)\nel_greco_yellow_cmap_100 = LinearSegmentedColormap.from_list(\"El Greco Yellow - 100 colors\",\n                                                             ['#7c2e2a', '#f2dd44'], N=100)\nflamingo_cmap_100 = LinearSegmentedColormap.from_list(\"Flamingo - 100 colors\",\n                                                      ['#e3aca7', '#c03a1d'], N=100)"
      ]
    },
    {
      "cell_type": "markdown",
      "metadata": {},
      "source": [
        "## Show the colormaps\n\nThe below colormaps are inspired by art and nature: Girl with a Pearl by Johannes Vermeer,\nThe Disrobing of Christ by El Greco, and flamingos.\n\nWith heatmaps and hexbins, I prefer to use fewer colors (N=10)\nso the values are mapped to fewer colors.\nWhile for smoother heatmaps when using kdeplot go for more colors (e.g. N=100).\n\n"
      ]
    },
    {
      "cell_type": "code",
      "execution_count": null,
      "metadata": {
        "collapsed": false
      },
      "outputs": [],
      "source": [
        "fig, axes = plt.subplots(figsize=(12, 5), nrows=8, ncols=2, constrained_layout=True)\ngradient = np.linspace(0, 1, 256)\ngradient = np.repeat(np.expand_dims(gradient, axis=0), repeats=10, axis=0)\ncmaps = [pearl_earring_cmap, flamingo_cmap,\n         el_greco_violet_cmap, el_greco_yellow_cmap,\n         pearl_earring_cmap_100, flamingo_cmap_100,\n         el_greco_violet_cmap_100, el_greco_yellow_cmap_100]\nfm = FontManager()\nfor i, cmap in enumerate(cmaps):\n    axes[i, 0].axis('off')\n    axes[i, 1].axis('off')\n    axes[i, 0].imshow(gradient, cmap=cmap)\n    axes[i, 1].text(0, 0.5, cmap.name, va='center', fontsize=20, fontproperties=fm.prop)"
      ]
    },
    {
      "cell_type": "markdown",
      "metadata": {},
      "source": [
        "Cyan colormap heatmap\n\n"
      ]
    },
    {
      "cell_type": "code",
      "execution_count": null,
      "metadata": {
        "collapsed": false
      },
      "outputs": [],
      "source": [
        "pitch = VerticalPitch(line_color='#cfcfcf', line_zorder=2, pitch_color='#122c3d')\nfig, ax = pitch.draw(figsize=(4.4, 6.4))\nbs = pitch.bin_statistic(df.x, df.y, bins=(12, 8))\nheatmap = pitch.heatmap(bs, edgecolors='#122c3d', ax=ax, cmap=pearl_earring_cmap)"
      ]
    },
    {
      "cell_type": "markdown",
      "metadata": {},
      "source": [
        "Cyan colormap hexbin\n\n"
      ]
    },
    {
      "cell_type": "code",
      "execution_count": null,
      "metadata": {
        "collapsed": false
      },
      "outputs": [],
      "source": [
        "fig, ax = pitch.draw()\nhexmap = pitch.hexbin(df.x, df.y, ax=ax, edgecolors='#122c3d', gridsize=(8, 8),\n                      cmap=pearl_earring_cmap)"
      ]
    },
    {
      "cell_type": "markdown",
      "metadata": {},
      "source": [
        "Cyan colormap kdeplot\n\n"
      ]
    },
    {
      "cell_type": "code",
      "execution_count": null,
      "metadata": {
        "collapsed": false
      },
      "outputs": [],
      "source": [
        "pitch = VerticalPitch(line_color='#cfcfcf', line_zorder=2, pitch_color='#15242e')\nfig, ax = pitch.draw(figsize=(4.4, 6.4))\n# note use the colormap with 100 colors for a smoother finish\n# sphinx_gallery_thumbnail_path = 'gallery/pitch_plots/images/sphx_glr_plot_cmap_007.png'\nkdeplot = pitch.kdeplot(df.x, df.y, ax=ax, cmap=pearl_earring_cmap_100, shade=True, levels=100)"
      ]
    },
    {
      "cell_type": "markdown",
      "metadata": {},
      "source": [
        "Flamingo colormap heatmap\n\n"
      ]
    },
    {
      "cell_type": "code",
      "execution_count": null,
      "metadata": {
        "collapsed": false
      },
      "outputs": [],
      "source": [
        "pitch = VerticalPitch(line_color='#000009', line_zorder=2, pitch_color='white')\nfig, ax = pitch.draw(figsize=(4.4, 6.4))\nbs = pitch.bin_statistic(df.x, df.y, bins=(12, 8))\nheatmap = pitch.heatmap(bs, ax=ax, edgecolors='#f4f4f4', cmap=flamingo_cmap)"
      ]
    },
    {
      "cell_type": "markdown",
      "metadata": {},
      "source": [
        "Flamingo colormap hexbin\n\n"
      ]
    },
    {
      "cell_type": "code",
      "execution_count": null,
      "metadata": {
        "collapsed": false
      },
      "outputs": [],
      "source": [
        "fig, ax = pitch.draw()\nhexmap = pitch.hexbin(df.x, df.y, ax=ax, edgecolors='#f4f4f4', gridsize=(8, 8), cmap=flamingo_cmap)"
      ]
    },
    {
      "cell_type": "markdown",
      "metadata": {},
      "source": [
        "Flamingo colormap kdeplot\n\n"
      ]
    },
    {
      "cell_type": "code",
      "execution_count": null,
      "metadata": {
        "collapsed": false
      },
      "outputs": [],
      "source": [
        "pitch = VerticalPitch(line_color='#000009', line_zorder=2, pitch_color='#e3aca7')\nfig, ax = pitch.draw(figsize=(4.4, 6.4))\nkdeplot = pitch.kdeplot(df.x, df.y, ax=ax, cmap=flamingo_cmap_100, shade=True, levels=100)"
      ]
    },
    {
      "cell_type": "markdown",
      "metadata": {},
      "source": [
        "Violet colormap heatmap\n\n"
      ]
    },
    {
      "cell_type": "code",
      "execution_count": null,
      "metadata": {
        "collapsed": false
      },
      "outputs": [],
      "source": [
        "pitch = VerticalPitch(line_color='#cfcfcf', line_zorder=2, pitch_color='#20143f')\nfig, ax = pitch.draw(figsize=(4.4, 6.4))\nbs = pitch.bin_statistic(df.x, df.y, bins=(12, 8))\nheatmap = pitch.heatmap(bs, ax=ax, edgecolors='#20143f', cmap=el_greco_violet_cmap)"
      ]
    },
    {
      "cell_type": "markdown",
      "metadata": {},
      "source": [
        "Violet colormap hexbin\n\n"
      ]
    },
    {
      "cell_type": "code",
      "execution_count": null,
      "metadata": {
        "collapsed": false
      },
      "outputs": [],
      "source": [
        "fig, ax = pitch.draw()\nhexbin = pitch.hexbin(df.x, df.y, ax=ax, edgecolors='#20143f',\n                      gridsize=(8, 8), cmap=el_greco_violet_cmap)"
      ]
    },
    {
      "cell_type": "markdown",
      "metadata": {},
      "source": [
        "Violet colormap kdeplot\n\n"
      ]
    },
    {
      "cell_type": "code",
      "execution_count": null,
      "metadata": {
        "collapsed": false
      },
      "outputs": [],
      "source": [
        "pitch = VerticalPitch(line_color='#cfcfcf', line_zorder=2, pitch_color='#332a49')\nfig, ax = pitch.draw(figsize=(4.4, 6.4))\nkdeplot = pitch.kdeplot(df.x, df.y, ax=ax, cmap=el_greco_violet_cmap_100, shade=True, levels=100)"
      ]
    },
    {
      "cell_type": "markdown",
      "metadata": {},
      "source": [
        "Yellow colormap heatmap\n\n"
      ]
    },
    {
      "cell_type": "code",
      "execution_count": null,
      "metadata": {
        "collapsed": false
      },
      "outputs": [],
      "source": [
        "pitch = VerticalPitch(line_color='#cfcfcf', line_zorder=2, pitch_color='#471c15')\nfig, ax = pitch.draw(figsize=(4.4, 6.4))\nbs = pitch.bin_statistic(df.x, df.y, bins=(12, 8))\nheatmap = pitch.heatmap(bs, ax=ax, edgecolors='#471c15', cmap=el_greco_yellow_cmap)"
      ]
    },
    {
      "cell_type": "markdown",
      "metadata": {},
      "source": [
        "Yellow colormap hexbin\n\n"
      ]
    },
    {
      "cell_type": "code",
      "execution_count": null,
      "metadata": {
        "collapsed": false
      },
      "outputs": [],
      "source": [
        "fig, ax = pitch.draw()\nhexbin = pitch.hexbin(df.x, df.y, ax=ax, edgecolors='#443d07',\n                      gridsize=(8, 8), cmap=el_greco_yellow_cmap)"
      ]
    },
    {
      "cell_type": "markdown",
      "metadata": {},
      "source": [
        "Yellow colormap kdeplot\n\n"
      ]
    },
    {
      "cell_type": "code",
      "execution_count": null,
      "metadata": {
        "collapsed": false
      },
      "outputs": [],
      "source": [
        "pitch = VerticalPitch(line_color='#cfcfcf', line_zorder=2, pitch_color='#7c2e2a')\nfig, ax = pitch.draw(figsize=(4.4, 6.4))\nkdeplot = pitch.kdeplot(df.x, df.y, ax=ax, cmap=el_greco_yellow_cmap_100, shade=True, levels=100)\n\nplt.show()  # If you are using a Jupyter notebook you do not need this line"
      ]
    }
  ],
  "metadata": {
    "kernelspec": {
      "display_name": "Python 3",
      "language": "python",
      "name": "python3"
    },
    "language_info": {
      "codemirror_mode": {
        "name": "ipython",
        "version": 3
      },
      "file_extension": ".py",
      "mimetype": "text/x-python",
      "name": "python",
      "nbconvert_exporter": "python",
      "pygments_lexer": "ipython3",
      "version": "3.10.6"
    }
  },
  "nbformat": 4,
  "nbformat_minor": 0
}
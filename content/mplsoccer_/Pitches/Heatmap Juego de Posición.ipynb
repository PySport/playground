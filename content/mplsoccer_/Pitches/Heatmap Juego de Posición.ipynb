{
  "cells": [
    {
      "cell_type": "markdown",
      "metadata": {},
      "source": [
        "## *Setup required for Playground*\n",
        "\n",
        "The online playground requires a little bit of code to run first."
      ]
    },
    {
      "cell_type": "code",
      "execution_count": null,
      "metadata": {},
      "outputs": [],
      "source": [
        "import micropip\n",
        "await micropip.install('pyodide-http==0.0.6')\n",
        "await micropip.install('mplsoccer')\n",
        "await micropip.install('highlight_text')\n",
        "await micropip.install('pandas')\n",
        "await micropip.install('requests')\n",
        "\n",
        "import pyodide_http\n",
        "pyodide_http.patch_all()"
      ]
    },
    {
      "cell_type": "markdown",
      "metadata": {},
      "source": [
        "Original notebook can be found [here](https://mplsoccer.readthedocs.io/en/latest/_downloads/474440d1e2ce835d8f04213e435abf1f/plot_heatmap_positional.ipynb)"
      ]
    },
    {
      "cell_type": "code",
      "execution_count": null,
      "metadata": {
        "collapsed": false
      },
      "outputs": [],
      "source": [
        "%matplotlib inline"
      ]
    },
    {
      "cell_type": "markdown",
      "metadata": {},
      "source": [
        "\n# Heatmap Juego de Posici\u00f3n\nThis example shows how to plot all pressure events from three matches as\na [Juego de Posici\u00f3n](https://spielverlagerung.com/2014/11/26/juego-de-posicion-a-short-explanation) heatmap.\n"
      ]
    },
    {
      "cell_type": "code",
      "execution_count": null,
      "metadata": {
        "collapsed": false
      },
      "outputs": [],
      "source": [
        "import matplotlib.patheffects as path_effects\nimport matplotlib.pyplot as plt\nimport pandas as pd\nfrom matplotlib.colors import LinearSegmentedColormap\n\nfrom mplsoccer import VerticalPitch, FontManager, Sbopen\n\n# get data\nparser = Sbopen()\nmatch_files = [19789, 19794, 19805]\ndf = pd.concat([parser.event(file)[0] for file in match_files])  # 0 index is the event file\n# filter chelsea pressure events\nmask_chelsea_pressure = (df.team_name == 'Chelsea FCW') & (df.type_name == 'Pressure')\ndf = df.loc[mask_chelsea_pressure, ['x', 'y']]"
      ]
    },
    {
      "cell_type": "markdown",
      "metadata": {},
      "source": [
        "Custom colormap, font, and path effects\n\n"
      ]
    },
    {
      "cell_type": "code",
      "execution_count": null,
      "metadata": {
        "collapsed": false
      },
      "outputs": [],
      "source": [
        "# see the custom colormaps example for more ideas on setting colormaps\npearl_earring_cmap = LinearSegmentedColormap.from_list(\"Pearl Earring - 10 colors\",\n                                                       ['#15242e', '#4393c4'], N=10)\n\n# fontmanager for google font (robotto)\nrobotto_regular = FontManager()\n\npath_eff = [path_effects.Stroke(linewidth=3, foreground='black'),\n            path_effects.Normal()]"
      ]
    },
    {
      "cell_type": "markdown",
      "metadata": {},
      "source": [
        "## Plot positional heatmap\n\n"
      ]
    },
    {
      "cell_type": "code",
      "execution_count": null,
      "metadata": {
        "collapsed": false
      },
      "outputs": [],
      "source": [
        "# setup pitch\npitch = VerticalPitch(pitch_type='statsbomb', line_zorder=2,\n                      pitch_color='#22312b', line_color='white')\n# draw\nfig, ax = pitch.draw(figsize=(4.125, 6))\nbin_statistic = pitch.bin_statistic_positional(df.x, df.y, statistic='count',\n                                               positional='full', normalize=True)\npitch.heatmap_positional(bin_statistic, ax=ax, cmap='coolwarm', edgecolors='#22312b')\npitch.scatter(df.x, df.y, c='white', s=2, ax=ax)\nlabels = pitch.label_heatmap(bin_statistic, color='#f4edf0', fontsize=18,\n                             ax=ax, ha='center', va='center',\n                             str_format='{:.0%}', path_effects=path_eff)"
      ]
    },
    {
      "cell_type": "markdown",
      "metadata": {},
      "source": [
        "## Plot the chart again with a title\nWe will use mplsoccer's grid function to plot a pitch with a title and endnote axes.\n\n"
      ]
    },
    {
      "cell_type": "code",
      "execution_count": null,
      "metadata": {
        "collapsed": false
      },
      "outputs": [],
      "source": [
        "pitch = VerticalPitch(pitch_type='statsbomb', line_zorder=2, pitch_color='#1e4259')\nfig, axs = pitch.grid(endnote_height=0.03, endnote_space=0,\n                      title_height=0.08, title_space=0,\n                      # Turn off the endnote/title axis. I usually do this after\n                      # I am happy with the chart layout and text placement\n                      axis=False,\n                      grid_height=0.84)\nfig.set_facecolor('#1e4259')\n\n# heatmap and labels\nbin_statistic = pitch.bin_statistic_positional(df.x, df.y, statistic='count',\n                                               positional='full', normalize=True)\npitch.heatmap_positional(bin_statistic, ax=axs['pitch'],\n                         cmap=pearl_earring_cmap, edgecolors='#22312b')\nlabels = pitch.label_heatmap(bin_statistic, color='#f4edf0', fontsize=18,\n                             ax=axs['pitch'], ha='center', va='center',\n                             str_format='{:.0%}', path_effects=path_eff)\n\n# endnote and title\naxs['endnote'].text(1, 0.5, '@your_twitter_handle', va='center', ha='right', fontsize=15,\n                    fontproperties=robotto_regular.prop, color='#dee6ea')\naxs['title'].text(0.5, 0.5, \"Pressure applied by\\n Chelsea FC Women\", color='#dee6ea',\n                  va='center', ha='center', path_effects=path_eff,\n                  fontproperties=robotto_regular.prop, fontsize=25)\n# sphinx_gallery_thumbnail_path = 'gallery/pitch_plots/images/sphx_glr_plot_heatmap_positional_002.png'\n\nplt.show()  # If you are using a Jupyter notebook you do not need this line"
      ]
    }
  ],
  "metadata": {
    "kernelspec": {
      "display_name": "Python 3",
      "language": "python",
      "name": "python3"
    },
    "language_info": {
      "codemirror_mode": {
        "name": "ipython",
        "version": 3
      },
      "file_extension": ".py",
      "mimetype": "text/x-python",
      "name": "python",
      "nbconvert_exporter": "python",
      "pygments_lexer": "ipython3",
      "version": "3.10.6"
    }
  },
  "nbformat": 4,
  "nbformat_minor": 0
}
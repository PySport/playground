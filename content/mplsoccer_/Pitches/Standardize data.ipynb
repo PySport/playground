{
  "cells": [
    {
      "cell_type": "markdown",
      "metadata": {},
      "source": [
        "## *Setup required for Playground*\n",
        "\n",
        "The online playground requires a little bit of code to run first."
      ]
    },
    {
      "cell_type": "code",
      "execution_count": null,
      "metadata": {},
      "outputs": [],
      "source": [
        "import micropip\n",
        "await micropip.install('pyodide-http==0.0.6')\n",
        "await micropip.install('mplsoccer')\n",
        "await micropip.install('highlight_text')\n",
        "await micropip.install('pandas')\n",
        "await micropip.install('requests')\n",
        "\n",
        "import pyodide_http\n",
        "pyodide_http.patch_all()"
      ]
    },
    {
      "cell_type": "markdown",
      "metadata": {},
      "source": [
        "Original notebook can be found [here](https://mplsoccer.readthedocs.io/en/latest/_downloads/6170511ad10324635804f9309213fce6/plot_standardize.ipynb)"
      ]
    },
    {
      "cell_type": "code",
      "execution_count": null,
      "metadata": {
        "collapsed": false
      },
      "outputs": [],
      "source": [
        "%matplotlib inline"
      ]
    },
    {
      "cell_type": "markdown",
      "metadata": {},
      "source": [
        "\n# Standardize data\n\nThis example converts data from one data provider to another,\nbased on the excellent [ggsoccer](https://github.com/Torvaney/ggsoccer) (R language).\n\nThe conversion maintains the relevant position to the pitch markings,\nso if a shot is half-way between the penalty spot and the penalty-area box,\nit stays that way after conversion. During conversion, coordinates outside the pitch\nside-lines are clipped to the pitch shape, while missing values are maintained.\n"
      ]
    },
    {
      "cell_type": "code",
      "execution_count": null,
      "metadata": {
        "collapsed": false
      },
      "outputs": [],
      "source": [
        "import pandas as pd\nimport numpy as np\nimport matplotlib.pyplot as plt\nfrom kloppy import wyscout\nfrom adjustText import adjust_text\nfrom highlight_text import ax_text\n\nfrom mplsoccer import VerticalPitch, Standardizer, FontManager, Sbopen"
      ]
    },
    {
      "cell_type": "markdown",
      "metadata": {},
      "source": [
        "First, let's demonstate converting ``statsbomb`` coordinates to ``tracab`` coordinates.\n\n"
      ]
    },
    {
      "cell_type": "code",
      "execution_count": null,
      "metadata": {
        "collapsed": false
      },
      "outputs": [],
      "source": [
        "# here we show how to convert StatsBomb to tracab coordinates\n# as the length and width of a tracab pitch varies we have to supply these too\nstatsbomb_to_tracab = Standardizer(pitch_from='statsbomb',\n                                   pitch_to='tracab', length_to=105, width_to=68)\nx_tracab, y_tracab = statsbomb_to_tracab.transform(x=[20, 50], y=[0, 30])"
      ]
    },
    {
      "cell_type": "markdown",
      "metadata": {},
      "source": [
        "We convert data like this because most providers of event data\n(``opta``, ``wyscout``, and ``statsbomb``) fix the coordinates inside the penalty area\nregardless of the pitch size, while the rest of the pitch stretches to the side-lines.\n\nFor example, Liverpool\u2019s ground, Anfield, is 68 meters wide and Fulham\u2019s ground,\nCraven Cottage, is 65 meters wide. With the fixed pitch coordinates,\nthe extra three meters of space squeezes between the penalty area and the pitch side-lines.\n\n<img src=\"file://../../explain_standardizer.png\">\n\nThe following pitch markings are used in the conversion: the pitch side-lines, six-yard-box,\ngoal-posts, penalty spot, penalty area and the centre-line.\n\n"
      ]
    },
    {
      "cell_type": "markdown",
      "metadata": {},
      "source": [
        "Here is an example of how naive scaling can lead to erroneous results.\nNaive scaling of points would divide by the original pitch dimensions and\nmultiply by the new pitch dimensions. This leads to occasions where\nevents can move from within the penalty area to outside the penalty area.\nFor events such as fouls this does not make sense as the punishment for fouling\nchanges outside the penalty area.\n\n"
      ]
    },
    {
      "cell_type": "code",
      "execution_count": null,
      "metadata": {
        "collapsed": false
      },
      "outputs": [],
      "source": [
        "# our points\nx = np.array([83.5, 94.6, 88.5])\ny = np.array([70, 42, 50])\n\n# naive scaling\nx_naive = x / 100 * 105\ny_naive = y / 100 * 68\n\n# our mplsoccer scaling\nopta_to_custom = Standardizer(pitch_from='opta',\n                              pitch_to='custom', length_to=105, width_to=68)\n\nx_relative, y_relative = opta_to_custom.transform(x, y)\n\n# plotting to show that events can move from their pitch markings\n# without relative scaling to the pitch markings\n\n# first setup the figure\nFIGWIDTH = 16\nFIGHEIGHT = 6\nfig = plt.figure(figsize=(FIGWIDTH, FIGHEIGHT))\n\nopta_pitch = VerticalPitch(pitch_type='opta', line_color='black',\n                           half=True, line_zorder=3)\nax_opta = fig.add_axes((0.05, 0.05, 0.4, 0.4 * FIGWIDTH/FIGHEIGHT / opta_pitch.ax_aspect))\nopta_pitch.draw(ax=ax_opta)\n\ncustom_pitch = VerticalPitch(pitch_type='custom', line_color='black',\n                             half=True, pitch_length=105,\n                             pitch_width=68, line_zorder=3)\nax_custom = fig.add_axes((0.55, 0.05, 0.4, 0.4 * FIGWIDTH/FIGHEIGHT / custom_pitch.ax_aspect))\ncustom_pitch.draw(ax=ax_custom)\n\n# draw the original event points\nfm = FontManager()  # a mplsoccer fontmanager with the default Robotto font\nopta_pitch.scatter(x, y, s=250, marker='x', alpha=0.8,\n                   edgecolor='black', facecolor='#6778d0', ax=ax_opta)\nTEXT = ('The initial points are inside\\n'\n        'the penalty area, six yard box,\\n'\n        'and on the penalty-spot')\n_ = ax_text(50, 70, TEXT, va='center', ha='center', fontproperties=fm.prop,\n            fontsize=20, ax=ax_opta)\n\n# draw the scaled event points\ncustom_pitch.scatter(x_naive, y_naive, marker='p', alpha=0.9, facecolor='#9750a1', zorder=2.5,\n                     edgecolor='black', s=250, ax=ax_custom)\ncustom_pitch.scatter(x_relative, y_relative, marker='p', alpha=0.9, facecolor='#56ae6c',\n                     edgecolor='black', s=250, ax=ax_custom)\nTEXT2 = ('The <naive> scaling\\n'\n         'moves points outside the boxes\\n'\n         'and off the penalty-spot.\\n'\n         'While our <relative> scaling\\n'\n         'maintains positions')\n_ = ax_text(34, 73, TEXT2, va='center', ha='center', fontproperties=fm.prop,\n            highlight_textprops=[{'color': '#9750a1'},\n                                 {'color': '#56ae6c'}],\n            fontsize=20, ax=ax_custom)"
      ]
    },
    {
      "cell_type": "markdown",
      "metadata": {},
      "source": [
        "## Get overlapping StatsBomb and Wyscout data\nHere we will get the event data from both a Wyscout and StatsBomb\ngame and standardize to the same coordinates to compare.\n\n"
      ]
    },
    {
      "cell_type": "code",
      "execution_count": null,
      "metadata": {
        "collapsed": false
      },
      "outputs": [],
      "source": [
        "# Get the StatsBomb data\nparser = Sbopen()\ndf_statsbomb = parser.event(7579)[0]  # events are the zero index\n\ndataset = wyscout.load_open_data(match_id=2058002, coordinates='wyscout')\ndf_wyscout = dataset.to_pandas(\n        additional_columns={\n            'player_name': lambda event: str(event.player),\n            'team_name': lambda event: str(event.player.team)\n        },\n    )"
      ]
    },
    {
      "cell_type": "markdown",
      "metadata": {},
      "source": [
        "## Standardize the Wyscout data to StatsBomb coordinates\nYou can use any of the supported pitches in the pitch_from/ pitch_to here.\nThey are currently: ``statsbomb``, ``tracab``, ``opta``, ``wyscout``, ``uefa``,\n``metricasports``, ``custom``, ``skillcorner``, and ``secondspectrum``.\n\nIf the pitch size varies (``tracab``, ``metricasports``, ``custom``,\n``skillcorner``, ``secondspectrum``)\nthen you also need to supply the relevant\nlength_from/ length_to or width_from/ width_to in meters.\n\n"
      ]
    },
    {
      "cell_type": "code",
      "execution_count": null,
      "metadata": {
        "collapsed": false
      },
      "outputs": [],
      "source": [
        "# setup the Standardizer\nwyscout_to_statsbomb = Standardizer(pitch_from='wyscout', pitch_to='statsbomb')\n# transform the coordinates and save to the dataframe\nx_std, y_std = wyscout_to_statsbomb.transform(df_wyscout.coordinates_x,\n                                              df_wyscout.coordinates_y)\ndf_wyscout['coordinates_x'] = x_std\ndf_wyscout['coordinates_y'] = y_std"
      ]
    },
    {
      "cell_type": "markdown",
      "metadata": {},
      "source": [
        "Add the last name to the dataframes\n\n"
      ]
    },
    {
      "cell_type": "code",
      "execution_count": null,
      "metadata": {
        "collapsed": false
      },
      "outputs": [],
      "source": [
        "df_statsbomb['last_name'] = df_statsbomb.player_name.str.split(' ').str[-1]\ndf_wyscout['last_name'] = df_wyscout.player_name.str.split(' ').str[-1]"
      ]
    },
    {
      "cell_type": "markdown",
      "metadata": {},
      "source": [
        "## Plot the standardized data\n\n"
      ]
    },
    {
      "cell_type": "code",
      "execution_count": null,
      "metadata": {
        "collapsed": false
      },
      "outputs": [],
      "source": [
        "pitch = VerticalPitch(pitch_type='statsbomb', half=True, pad_left=-10,\n                      pad_right=-10, pad_bottom=-20)\nfig, ax = pitch.draw(figsize=(16, 9))\n\n# subset portugals shots for both data providers\nmask_portugal_sb = df_statsbomb.team_name == 'Portugal'\nmask_shot_sb = df_statsbomb.type_name == 'Shot'\nmask_portugal_wyscout = df_wyscout.team_name == 'Portugal'\nmask_shot_wyscout = df_wyscout.event_type == 'SHOT'\ndf_wyscout_portugal = df_wyscout[mask_shot_wyscout & mask_portugal_wyscout].copy()\ndf_statsbomb_portugal = df_statsbomb[mask_shot_sb & mask_portugal_sb].copy()\n\n# plotting the shots as a scatter plot with a legend\npitch.scatter(df_wyscout_portugal.coordinates_x, df_wyscout_portugal.coordinates_y,\n              ax=ax, color='#56ae6c', label='wyscout', s=250)\npitch.scatter(df_statsbomb_portugal.x, df_statsbomb_portugal.y,\n              ax=ax, color='#7f63b8', label='statsbomb', s=250)\n\n# plotting the text and using adjust text so it doesn't overlap\ntexts = []\nfor i in range(len(df_wyscout_portugal)):\n    text = ax.text(df_wyscout_portugal['coordinates_y'].iloc[i],\n                   df_wyscout_portugal['coordinates_x'].iloc[i],\n                   df_wyscout_portugal['last_name'].iloc[i],\n                   color='#56ae6c', fontsize=20, fontproperties=fm.prop)\n    texts.append(text)\n\nfor i in range(len(df_statsbomb_portugal)):\n    text = ax.text(df_statsbomb_portugal['y'].iloc[i],\n                   df_statsbomb_portugal['x'].iloc[i],\n                   df_statsbomb_portugal['last_name'].iloc[i],\n                   color='#7f63b8', fontsize=20, fontproperties=fm.prop)\n    texts.append(text)\nadjust_text(texts, arrowprops=dict(arrowstyle='->', color='black'))\n\n# adding a legend\nlegend = ax.legend(prop=fm.prop)\nfor text in legend.get_texts():\n    text.set_fontsize(30)\n\n# sphinx_gallery_thumbnail_path = 'gallery/pitch_plots/images/sphx_glr_plot_standardize_002.png'"
      ]
    },
    {
      "cell_type": "markdown",
      "metadata": {},
      "source": [
        "## Reverse the standardization\nYou can reverse the standardization with the reverse keyword.\n\n"
      ]
    },
    {
      "cell_type": "code",
      "execution_count": null,
      "metadata": {
        "collapsed": false
      },
      "outputs": [],
      "source": [
        "x_std, y_std = wyscout_to_statsbomb.transform(df_wyscout.coordinates_x,\n                                              df_wyscout.coordinates_y, reverse=True)"
      ]
    },
    {
      "cell_type": "markdown",
      "metadata": {},
      "source": [
        "## Standardize to an abritary shaped pitch\nAccording to Wikipedia the Campo de f\u00fatbol de Vallecas stadium is 100 meters x 65 meters\nLet's load StatsBomb data from a Rayo Vallecano home game versus Barcelona and convert to meters.\n\n"
      ]
    },
    {
      "cell_type": "code",
      "execution_count": null,
      "metadata": {
        "collapsed": false
      },
      "outputs": [],
      "source": [
        "df_rayo_vallecano = parser.event(266653)[0]  # events are the zero index\nstatsbomb_to_custom = Standardizer(pitch_from='statsbomb',\n                                   pitch_to='custom', length_to=100, width_to=65)\n\nrayo_x_std, rayo_y_std = statsbomb_to_custom.transform(df_rayo_vallecano.x,\n                                                       df_rayo_vallecano.y)\nxend_std, yend_std = statsbomb_to_custom.transform(df_rayo_vallecano.end_x,\n                                                   df_rayo_vallecano.end_y)\n\ndf_rayo_vallecano['x'] = rayo_x_std\ndf_rayo_vallecano['y'] = rayo_y_std\ndf_rayo_vallecano['end_x'] = xend_std\ndf_rayo_vallecano['end_y'] = yend_std"
      ]
    },
    {
      "cell_type": "markdown",
      "metadata": {},
      "source": [
        "Now let's calculate the distance in meters for the passes in the game\nAnd compare to pass distance given in the StatsBomb dataframe\nThe calculated distances are shorter as the pitch is smaller than the standard\npitch dimensions (105 meters X 68 meters).\n\n"
      ]
    },
    {
      "cell_type": "code",
      "execution_count": null,
      "metadata": {
        "collapsed": false
      },
      "outputs": [],
      "source": [
        "# filter passes\ndf_rayo_vallecano_pass = df_rayo_vallecano[df_rayo_vallecano.type_name == 'Pass'].copy()\n# calculate the average pass length\ncustom_pitch = VerticalPitch(pitch_type='custom', pitch_length=100, pitch_width=65)\nangle, distance = custom_pitch.calculate_angle_and_distance(df_rayo_vallecano_pass.x,\n                                                            df_rayo_vallecano_pass.y,\n                                                            df_rayo_vallecano_pass.end_x,\n                                                            df_rayo_vallecano_pass.end_y)\nprint('Calculated distance in meters')\nprint(pd.Series(distance).describe())\nprint('\\nDistances in the StatsBomb data')\nprint((df_rayo_vallecano.pass_length * 0.9144).describe())  # note converted from yards to meters\n\nplt.show()  # If you are using a Jupyter notebook you do not need this line"
      ]
    }
  ],
  "metadata": {
    "kernelspec": {
      "display_name": "Python 3",
      "language": "python",
      "name": "python3"
    },
    "language_info": {
      "codemirror_mode": {
        "name": "ipython",
        "version": 3
      },
      "file_extension": ".py",
      "mimetype": "text/x-python",
      "name": "python",
      "nbconvert_exporter": "python",
      "pygments_lexer": "ipython3",
      "version": "3.10.6"
    }
  },
  "nbformat": 4,
  "nbformat_minor": 0
}
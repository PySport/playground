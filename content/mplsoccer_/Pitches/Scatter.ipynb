{
  "cells": [
    {
      "cell_type": "markdown",
      "metadata": {},
      "source": [
        "## *Setup required for Playground*\n",
        "\n",
        "The online playground requires a little bit of code to run first."
      ]
    },
    {
      "cell_type": "code",
      "execution_count": null,
      "metadata": {},
      "outputs": [],
      "source": [
        "import micropip\n",
        "await micropip.install('pyodide-http')\n",
        "await micropip.install('mplsoccer')\n",
        "await micropip.install('highlight_text')\n",
        "await micropip.install('pandas')\n",
        "await micropip.install('requests')\n",
        "\n",
        "import pyodide_http\n",
        "pyodide_http.patch_all()"
      ]
    },
    {
      "cell_type": "markdown",
      "metadata": {},
      "source": [
        "Original notebook can be found [here](https://mplsoccer.readthedocs.io/en/latest/_downloads/c5a5ebfbb89f573fdc5240e619e1b6c0/plot_scatter.ipynb)"
      ]
    },
    {
      "cell_type": "code",
      "execution_count": null,
      "metadata": {
        "collapsed": false
      },
      "outputs": [],
      "source": [
        "%matplotlib inline"
      ]
    },
    {
      "cell_type": "markdown",
      "metadata": {},
      "source": [
        "\n# Scatter\n\nThis example shows how to plot a scatter chart.\n"
      ]
    },
    {
      "cell_type": "code",
      "execution_count": null,
      "metadata": {
        "collapsed": false
      },
      "outputs": [],
      "source": [
        "import numpy as np\nfrom matplotlib import cm\nimport matplotlib.pyplot as plt\nfrom matplotlib.colors import ListedColormap\n\nfrom mplsoccer import (VerticalPitch, Pitch, create_transparent_cmap,\n                       FontManager, arrowhead_marker, Sbopen)\n\n# get data for a Sevilla versus Barcelona match with a high amount of shots\nparser = Sbopen()\ndf, related, freeze, tactics = parser.event(9860)\n\n# subset the barcelona shots\ndf_shots_barca = df[(df.type_name == 'Shot') & (df.team_name == 'Barcelona')].copy()\n# subset the barca open play passes\ndf_pass_barca = df[(df.type_name == 'Pass') &\n                   (df.team_name == 'Barcelona') &\n                   (~df.sub_type_name.isin(['Throw-in', 'Corner', 'Free Kick', 'Kick Off']))].copy()\n\n# setup a mplsoccer FontManager to download google fonts (SigmarOne-Regular)\nfm_rubik = FontManager('https://raw.githubusercontent.com/google/fonts/main/ofl/'\n                       'rubikmonoone/RubikMonoOne-Regular.ttf')"
      ]
    },
    {
      "cell_type": "markdown",
      "metadata": {},
      "source": [
        "## Shot map Barcelona\nFirst let's plot Barcelona's shots with the scatter marker size varying\nby the expected goals amount. The maximum of 1 (100% expected chance of scoring)\nhas been given size 1000 (points**2).\nBy multiplying the expected goals amount by 900 and adding 100\nwe essentially get a size that varies between 100 and 1000.\nFor choosing color schemes, I really like this website\n[iWantHue](https://medialab.github.io/iwanthue/).\n\n"
      ]
    },
    {
      "cell_type": "code",
      "execution_count": null,
      "metadata": {
        "collapsed": false
      },
      "outputs": [],
      "source": [
        "pitch = VerticalPitch(pad_bottom=0.5,  # pitch extends slightly below halfway line\n                      half=True,  # half of a pitch\n                      goal_type='box',\n                      goal_alpha=0.8)  # control the goal transparency\nfig, ax = pitch.draw(figsize=(12, 10))\nsc = pitch.scatter(df_shots_barca.x, df_shots_barca.y,\n                   # size varies between 100 and 1000 (points squared)\n                   s=(df_shots_barca.shot_statsbomb_xg * 900) + 100,\n                   c='#b94b75',  # color for scatter in hex format\n                   edgecolors='#383838',  # give the markers a charcoal border\n                   # for other markers types see: https://matplotlib.org/api/markers_api.html\n                   marker='h',\n                   ax=ax)\ntxt = ax.text(x=40, y=80, s='Barcelona shots\\nversus Sevilla',\n              size=30,\n              # here i am using a downloaded font from google fonts instead of passing a fontdict\n              fontproperties=fm_rubik.prop, color=pitch.line_color,\n              va='center', ha='center')"
      ]
    },
    {
      "cell_type": "markdown",
      "metadata": {},
      "source": [
        "## Shot map Barcelona using cmap\nAn alternative is to use colors to represent the quality of shots.\nIn this example, we will also pass the expected goals to the c argument and\nuse a matplotlib colormap to map the expected goals to colors\n\n"
      ]
    },
    {
      "cell_type": "code",
      "execution_count": null,
      "metadata": {
        "collapsed": false
      },
      "outputs": [],
      "source": [
        "fig, ax = pitch.draw(figsize=(12, 10))\nsc = pitch.scatter(df_shots_barca.x, df_shots_barca.y,\n                   # size varies between 100 and 1900 (points squared)\n                   s=(df_shots_barca.shot_statsbomb_xg * 1900) + 100,\n                   cmap='plasma_r',  # reverse magma colormap so darker = higher expected goals\n                   edgecolors='#383838',  # give the markers a charcoal border\n                   c=df_shots_barca.shot_statsbomb_xg,  # color for scatter in hex format\n                   # for other markers types see: https://matplotlib.org/api/markers_api.html\n                   marker='*',\n                   ax=ax)\ntxt = ax.text(x=40, y=80, s='Barcelona shots\\nversus Sevilla',\n              size=30,\n              # here i am using a downloaded font from google fonts instead of passing a fontdict\n              fontproperties=fm_rubik.prop, color='#b94b75',\n              va='center', ha='center')\n# comment below sets this as the thumbnail in the docs\n# sphinx_gallery_thumbnail_path = 'gallery/pitch_plots/images/sphx_glr_plot_scatter_002'"
      ]
    },
    {
      "cell_type": "markdown",
      "metadata": {},
      "source": [
        "## Shot map Barcelona using cmap for edges\nIt's possible to use cmaps for the edgecolors for emphasis by mapping the expected goals\nvalues to colors and using these as edgecolors.\nYou could use the same technique to assign fewer colors to the scatter.\n\n"
      ]
    },
    {
      "cell_type": "code",
      "execution_count": null,
      "metadata": {
        "collapsed": false
      },
      "outputs": [],
      "source": [
        "# get the cmap as 10 colors (n_colors can be anything)\ncmap = cm.get_cmap('Greys')  # reversed plasma\nN_COLORS = 10\ncmap = cmap(np.linspace(0.5, 1, N_COLORS))  # from half-way (0.5) to end (1) of grey colormap\ncmap = ListedColormap(cmap, name='Greys')\n# convert the statsbomb xg to colors\nedgecolors = cmap(df_shots_barca.shot_statsbomb_xg)\n\nfig, ax = pitch.draw(figsize=(12, 10))\nsc = pitch.scatter(df_shots_barca.x, df_shots_barca.y,\n                   s=1000,\n                   edgecolors=edgecolors,  # give the markers a charcoal border\n                   linewidths=1.2,  # for fun making the edges slightly thicker\n                   c='#b94b75',  # color for scatter in hex format\n                   # for other markers types see: https://matplotlib.org/api/markers_api.html\n                   marker='*',\n                   ax=ax)\ntxt = ax.text(x=40, y=80, s='Barcelona shots\\nversus Sevilla',\n              size=30,\n              # here i am using a downloaded font from google fonts instead of passing a fontdict\n              fontproperties=fm_rubik.prop, color=pitch.line_color,\n              va='center', ha='center')"
      ]
    },
    {
      "cell_type": "markdown",
      "metadata": {},
      "source": [
        "## Shot map Barcelona using transparency cmap\nI included a helper function in mplsoccer to create a transparent cmap\nfrom either a color or a cmap. Here we create a cmap from a color\n(can use cmap='viridis' for example instead)\nand vary the transparency from 0.5 to 1 as the expected goals increase\n\n"
      ]
    },
    {
      "cell_type": "code",
      "execution_count": null,
      "metadata": {
        "collapsed": false
      },
      "outputs": [],
      "source": [
        "cmap = create_transparent_cmap(color='#b94b75', n_segments=100, alpha_start=0.5, alpha_end=1)\n\nfig, ax = pitch.draw(figsize=(12, 10))\nsc = pitch.scatter(df_shots_barca.x, df_shots_barca.y,\n                   # size varies between 100 and 1900 (points squared)\n                   s=(df_shots_barca.shot_statsbomb_xg * 1900) + 100,\n                   cmap=cmap,  # reverse magma colormap so darker = higher expected goals\n                   edgecolors='#383838',  # give the markers a charcoal border\n                   c=df_shots_barca.shot_statsbomb_xg,  # color for scatter in hex format\n                   # for other markers types see: https://matplotlib.org/api/markers_api.html\n                   marker='*',\n                   ax=ax)\ntxt = ax.text(x=40, y=80, s='Barcelona shots\\nversus Sevilla',\n              size=30,\n              # here i am using a downloaded font from google fonts instead of passing a fontdict\n              fontproperties=fm_rubik.prop, color=pitch.line_color,\n              va='center', ha='center')"
      ]
    },
    {
      "cell_type": "markdown",
      "metadata": {},
      "source": [
        "## Shot map Barcelona using hatch\nAnother method popularized by [@petermckeever](https://twitter.com/petermckeever).\nis to use hatch patterns to show where something was not-successful versus successful.\nThere are lots of different hatch patterns.\nSee: matplotlib.org/api/_as_gen/matplotlib.patches.Patch.html#matplotlib.patches.Patch.set_hatch\nThis is typically combined with the highlight-text package\nby [@danzn1](https://twitter.com/danzn1).\n\n"
      ]
    },
    {
      "cell_type": "code",
      "execution_count": null,
      "metadata": {
        "collapsed": false
      },
      "outputs": [],
      "source": [
        "# filter goals / non-shot goals\ndf_goals_barca = df_shots_barca[df_shots_barca.outcome_name == 'Goal'].copy()\ndf_non_goal_shots_barca = df_shots_barca[df_shots_barca.outcome_name != 'Goal'].copy()\n\nfig, ax = pitch.draw(figsize=(12, 10))\n\n# plot non-goal shots with hatch\nsc1 = pitch.scatter(df_non_goal_shots_barca.x, df_non_goal_shots_barca.y,\n                    # size varies between 100 and 1900 (points squared)\n                    s=(df_non_goal_shots_barca.shot_statsbomb_xg * 1900) + 100,\n                    edgecolors='#606060',  # give the markers a charcoal border\n                    c='None',  # no facecolor for the markers\n                    hatch='///',  # the all important hatch (triple diagonal lines)\n                    # for other markers types see: https://matplotlib.org/api/markers_api.html\n                    marker='o',\n                    ax=ax)\n\n# plot goal shots with a color\nsc2 = pitch.scatter(df_goals_barca.x, df_goals_barca.y,\n                    # size varies between 100 and 1900 (points squared)\n                    s=(df_goals_barca.shot_statsbomb_xg * 1900) + 100,\n                    edgecolors='#606060',  # give the markers a charcoal border\n                    c='#b94b75',  # color for scatter in hex format\n                    # for other markers types see: https://matplotlib.org/api/markers_api.html\n                    marker='o',\n                    ax=ax)\n\ntxt = ax.text(x=40, y=80, s='Barcelona shots\\nversus Sevilla',\n              size=30,\n              # here i am using a downloaded font from google fonts instead of passing a fontdict\n              fontproperties=fm_rubik.prop, color=pitch.line_color,\n              va='center', ha='center')"
      ]
    },
    {
      "cell_type": "markdown",
      "metadata": {},
      "source": [
        "## Shot map Barcelona using footballs\nI also included a football marker in mplsoccer, which in this context\ncould also be used to show goals/ non-goals\n\n"
      ]
    },
    {
      "cell_type": "code",
      "execution_count": null,
      "metadata": {
        "collapsed": false
      },
      "outputs": [],
      "source": [
        "# filter goals / non-shot goals\ndf_goals_barca = df_shots_barca[df_shots_barca.outcome_name == 'Goal'].copy()\ndf_non_goal_shots_barca = df_shots_barca[df_shots_barca.outcome_name != 'Goal'].copy()\n\nfig, ax = pitch.draw(figsize=(12, 10))\n\n# plot non-goal shots with hatch\nsc1 = pitch.scatter(df_non_goal_shots_barca.x, df_non_goal_shots_barca.y,\n                    # size varies between 100 and 1900 (points squared)\n                    s=(df_non_goal_shots_barca.shot_statsbomb_xg * 1900) + 100,\n                    edgecolors='#b94b75',  # give the markers a charcoal border\n                    c='None',  # no facecolor for the markers\n                    hatch='///',  # the all important hatch (triple diagonal lines)\n                    # for other markers types see: https://matplotlib.org/api/markers_api.html\n                    marker='o',\n                    ax=ax)\n\n# plot goal shots with a football marker\n# 'edgecolors' sets the color of the pentagons and edges, 'c' sets the color of the hexagons\nsc2 = pitch.scatter(df_goals_barca.x, df_goals_barca.y,\n                    # size varies between 100 and 1900 (points squared)\n                    s=(df_goals_barca.shot_statsbomb_xg * 1900) + 100,\n                    edgecolors='#b94b75',\n                    linewidth=0.6,\n                    c='white',\n                    marker='football',\n                    ax=ax)\n\ntxt = ax.text(x=40, y=80, s='Barcelona shots\\nversus Sevilla',\n              size=30,\n              # here i am using a downloaded font from google fonts instead of passing a fontdict\n              fontproperties=fm_rubik.prop, color=pitch.line_color,\n              va='center', ha='center')"
      ]
    },
    {
      "cell_type": "markdown",
      "metadata": {},
      "source": [
        "## Cropping to important areas\nOne under-used technique is to crop the pitch edges where there is likely\nto be fewer shots. If you look at the StatsBomb shot maps this is\na subtle technique they use. It means you reduce the amount of white space and\nyou zoom into the areas where more shots are taken.\n\nThe disadvantage of this approach is that sometimes people misinterpret the pitch\nand think the areas towards the edges are the edges of the pitch. You\nmight also miss some shots near the half-way line.\n\n"
      ]
    },
    {
      "cell_type": "code",
      "execution_count": null,
      "metadata": {
        "collapsed": false
      },
      "outputs": [],
      "source": [
        "pitch = VerticalPitch(pad_top=0.5,  # only a small amount of space at the top of the pitch\n                      pad_bottom=-20,  # reduce the area displayed at the bottom of the pitch\n                      pad_left=-15,  # reduce the area displayed on the left of the pitch\n                      pad_right=-15,  # reduce the area displayed on the right of the pitch\n                      half=True,  # half of a pitch\n                      goal_type='line')\n\n# filter goals / non-shot goals\ndf_goals_barca = df_shots_barca[df_shots_barca.outcome_name == 'Goal'].copy()\ndf_non_goal_shots_barca = df_shots_barca[df_shots_barca.outcome_name != 'Goal'].copy()\n\nfig, ax = pitch.draw(figsize=(12, 10))\n\n# plot non-goal shots with hatch\nsc1 = pitch.scatter(df_non_goal_shots_barca.x, df_non_goal_shots_barca.y,\n                    # size varies between 100 and 1900 (points squared)\n                    s=(df_non_goal_shots_barca.shot_statsbomb_xg * 1900) + 100,\n                    edgecolors='#606060',  # give the markers a charcoal border\n                    c='None',  # no facecolor for the markers\n                    hatch='///',  # the all important hatch (triple diagonal lines)\n                    # for other markers types see: https://matplotlib.org/api/markers_api.html\n                    marker='o',\n                    ax=ax)\n\n# plot goal shots with a color\nsc2 = pitch.scatter(df_goals_barca.x, df_goals_barca.y,\n                    # size varies between 100 and 1900 (points squared)\n                    s=(df_goals_barca.shot_statsbomb_xg * 1900) + 100,\n                    edgecolors='#606060',  # give the markers a charcoal border\n                    c='#b94b75',  # color for scatter in hex format\n                    # for other markers types see: https://matplotlib.org/api/markers_api.html\n                    marker='o',\n                    ax=ax)\n\ntxt = ax.text(x=40, y=85, s='Barcelona shots\\nversus Sevilla',\n              size=30,\n              # here i am using a downloaded font from google fonts instead of passing a fontdict\n              fontproperties=fm_rubik.prop, color=pitch.line_color,\n              va='center', ha='center')"
      ]
    },
    {
      "cell_type": "markdown",
      "metadata": {},
      "source": [
        "## Plot the chart again with a title\nWe will use mplsoccer's grid function to plot a pitch with a title and endnote axes.\n\n"
      ]
    },
    {
      "cell_type": "code",
      "execution_count": null,
      "metadata": {
        "collapsed": false
      },
      "outputs": [],
      "source": [
        "fig, axs = pitch.grid(figheight=10, title_height=0.08, endnote_space=0,\n                      # Turn off the endnote/title axis. I usually do this after\n                      # I am happy with the chart layout and text placement\n                      axis=False,\n                      title_space=0, grid_height=0.82, endnote_height=0.05)\n\n# plot non-goal shots with hatch\nsc1 = pitch.scatter(df_non_goal_shots_barca.x, df_non_goal_shots_barca.y,\n                    # size varies between 100 and 1900 (points squared)\n                    s=(df_non_goal_shots_barca.shot_statsbomb_xg * 1900) + 100,\n                    edgecolors='#606060',  # give the markers a charcoal border\n                    c='None',  # no facecolor for the markers\n                    hatch='///',  # the all important hatch (triple diagonal lines)\n                    # for other markers types see: https://matplotlib.org/api/markers_api.html\n                    marker='o',\n                    ax=axs['pitch'])\n\n# plot goal shots with a color\nsc2 = pitch.scatter(df_goals_barca.x, df_goals_barca.y,\n                    # size varies between 100 and 1900 (points squared)\n                    s=(df_goals_barca.shot_statsbomb_xg * 1900) + 100,\n                    edgecolors='#606060',  # give the markers a charcoal border\n                    c='#b94b75',  # color for scatter in hex format\n                    # for other markers types see: https://matplotlib.org/api/markers_api.html\n                    marker='o',\n                    ax=axs['pitch'])\n\n# endnote text\naxs['endnote'].text(1, 0.5, '@your_twitter_handle', color=pitch.line_color,\n                    va='center', ha='right', fontsize=15,\n                    fontproperties=fm_rubik.prop)\n\n# title text\ntitle1 = axs['title'].text(0.5, 0.7, \"Barcelona shots\", color=pitch.line_color,\n                           va='center', ha='center', fontproperties=fm_rubik.prop, fontsize=30)\ntitle2 = axs['title'].text(0.5, 0.25, \"versus Sevilla\", color=pitch.line_color,\n                           va='center', ha='center', fontproperties=fm_rubik.prop, fontsize=20)"
      ]
    },
    {
      "cell_type": "markdown",
      "metadata": {},
      "source": [
        "## Rotated markers\nI also included a method for rotating markers in mplsoccer.\n\nWarning: The rotation angle is in degrees and assumes the original marker is pointing upwards \u2191.\nIf it's not you will have to modify the rotation degrees.\nRotates the marker in degrees, clockwise. 0 degrees is facing the\ndirection of play (left to right).\nIn a horizontal pitch, 0 degrees is this way \u2192, in a vertical pitch, 0 degrees is this way \u2191\n\nWe are going to plot pass data as an arrowhead marker with the\narrow facing in the direction of the pass\nThe marker size is going to relate to the pass distance,\nso larger markers mean the pass was longer.\n\n"
      ]
    },
    {
      "cell_type": "code",
      "execution_count": null,
      "metadata": {
        "collapsed": false
      },
      "outputs": [],
      "source": [
        "pitch = Pitch()\nfig, ax = pitch.draw(figsize=(14, 12))\nangle, distance = pitch.calculate_angle_and_distance(df_pass_barca.x, df_pass_barca.y,\n                                                     df_pass_barca.end_x, df_pass_barca.end_y,\n                                                     standardized=False, degrees=True)\nsc = pitch.scatter(df_pass_barca.x, df_pass_barca.y, rotation_degrees=angle,\n                   c='#b94b75',  # color for scatter in hex format\n                   edgecolors='#383838', alpha=0.9,\n                   s=(distance / distance.max()) * 900, ax=ax, marker=arrowhead_marker)\ntitle1 = fig.text(x=0.5, y=0.94, s='Barcelona Open play passes', va='center', ha='center',\n                  size=30, color=pitch.line_color,\n                  fontproperties=fm_rubik.prop, )\ntitle2 = fig.text(x=0.5, y=0.9, s='Larger marker = greater pass distance', va='center',\n                  ha='center', size=15, color=pitch.line_color, fontproperties=fm_rubik.prop)\n\nplt.show()  # If you are using a Jupyter notebook you do not need this line"
      ]
    }
  ],
  "metadata": {
    "kernelspec": {
      "display_name": "Python 3",
      "language": "python",
      "name": "python3"
    },
    "language_info": {
      "codemirror_mode": {
        "name": "ipython",
        "version": 3
      },
      "file_extension": ".py",
      "mimetype": "text/x-python",
      "name": "python",
      "nbconvert_exporter": "python",
      "pygments_lexer": "ipython3",
      "version": "3.10.6"
    }
  },
  "nbformat": 4,
  "nbformat_minor": 0
}
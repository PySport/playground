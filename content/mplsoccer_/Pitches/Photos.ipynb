{
  "cells": [
    {
      "cell_type": "markdown",
      "metadata": {},
      "source": [
        "## *Setup required for Playground*\n",
        "\n",
        "The online playground requires a little bit of code to run first."
      ]
    },
    {
      "cell_type": "code",
      "execution_count": null,
      "metadata": {},
      "outputs": [],
      "source": [
        "import micropip\n",
        "await micropip.install('pyodide-http')\n",
        "await micropip.install('mplsoccer')\n",
        "await micropip.install('highlight_text')\n",
        "await micropip.install('pandas')\n",
        "await micropip.install('requests')\n",
        "\n",
        "import pyodide_http\n",
        "pyodide_http.patch_all()"
      ]
    },
    {
      "cell_type": "markdown",
      "metadata": {},
      "source": [
        "Original notebook can be found [here](https://mplsoccer.readthedocs.io/en/latest/_downloads/99090b5c450a39b72ef1b767b15bc5fd/plot_photo.ipynb)"
      ]
    },
    {
      "cell_type": "code",
      "execution_count": null,
      "metadata": {
        "collapsed": false
      },
      "outputs": [],
      "source": [
        "%matplotlib inline"
      ]
    },
    {
      "cell_type": "markdown",
      "metadata": {},
      "source": [
        "\n# Photos\n\nThis example shows how to plot photos in your charts.\n"
      ]
    },
    {
      "cell_type": "code",
      "execution_count": null,
      "metadata": {
        "collapsed": false
      },
      "outputs": [],
      "source": [
        "from urllib.request import urlopen\n\nimport matplotlib.pyplot as plt\nfrom PIL import Image\n\nfrom mplsoccer import Pitch, add_image\n\nplt.style.use('dark_background')"
      ]
    },
    {
      "cell_type": "markdown",
      "metadata": {},
      "source": [
        "## Load an image of Messi\n\n"
      ]
    },
    {
      "cell_type": "code",
      "execution_count": null,
      "metadata": {
        "collapsed": false
      },
      "outputs": [],
      "source": [
        "# load the image\nIMAGE_URL = 'https://upload.wikimedia.org/wikipedia/commons/b/b8/Messi_vs_Nigeria_2018.jpg'\nimage = Image.open(urlopen(IMAGE_URL))"
      ]
    },
    {
      "cell_type": "markdown",
      "metadata": {},
      "source": [
        "## Plotting an image over a pitch\n\nTo plot images you use ``Axes.imshow()`` in matplotlib.\nWe are going to draw a pitch and then overlay ontop an image of Messi on a new axis.\n\n"
      ]
    },
    {
      "cell_type": "code",
      "execution_count": null,
      "metadata": {
        "collapsed": false
      },
      "outputs": [],
      "source": [
        "# draw the pitch\npitch = Pitch(line_zorder=2)\nfig, ax = pitch.draw(figsize=(16, 9), tight_layout=False)\n\n# add an image\nax_image = add_image(image, fig, left=0.55, bottom=0.2, width=0.2,\n                     alpha=0.9, interpolation='hanning')"
      ]
    },
    {
      "cell_type": "markdown",
      "metadata": {},
      "source": [
        "Photo from: https://en.wikipedia.org/wiki/Lionel_Messi#/media/File:Messi_vs_Nigeria_2018.jpg;\nLicense: https://creativecommons.org/licenses/by-sa/3.0/;\nCreator: \u041a\u0438\u0440\u0438\u043b\u043b \u0412\u0435\u043d\u0435\u0434\u0438\u043a\u0442\u043e\u0432\n\n"
      ]
    },
    {
      "cell_type": "markdown",
      "metadata": {},
      "source": [
        "## More control over the images and axis\n\nFor more control over where the images are placed,\nyou can create a blank figure with ``plt.figure()``\nand then use ``Figure.add_axes()`` to add seperate axes for each of the plot elements.\n\n"
      ]
    },
    {
      "cell_type": "code",
      "execution_count": null,
      "metadata": {
        "collapsed": false
      },
      "outputs": [],
      "source": [
        "# setup a blank figure\nfigsize = (16, 9)\nfig_aspect = figsize[0] / figsize[1]\nfig = plt.figure(figsize=figsize)\n\n# setup a Pitch object\npitch = Pitch(pad_bottom=0.5, pad_top=0.5, pad_left=0.5, pad_right=0.5, line_zorder=2)\n\n# we are going to add an axis for the pitch\n# the width will be 65% (0.65) of the total figure\n# we then calculate the pitch display height and draw the pitch on the new axis\nPITCH_DISPLAY_WIDTH = 0.65\npitch_display_height = PITCH_DISPLAY_WIDTH / pitch.ax_aspect * fig_aspect\nax1 = fig.add_axes((0.05,  # 5% in from the left of the image\n                    0.05,  # 5% in from the bottom of the image\n                    PITCH_DISPLAY_WIDTH, pitch_display_height))\npitch.draw(ax=ax1, tight_layout=False)\n\n# we are also going to add the Messi image to the top of the figure as a new axis\n# but this time the width will be 8% of the figure\nax2 = add_image(image, fig, left=0.054, bottom=0.84, width=0.08, interpolation='hanning')\n\n# and the Messi image to the bottom right of the figure on a new axis\n# but this time the width will be 20% of the figure\nax3 = add_image(image, fig, left=0.75, bottom=0.054, width=0.2, interpolation='hanning')\n\n# add a title\ntitle = fig.suptitle(\"Messi's greatest hits\", x=0.42, y=0.9, va='center', ha='center', fontsize=60)"
      ]
    },
    {
      "cell_type": "markdown",
      "metadata": {},
      "source": [
        "Photo from: https://en.wikipedia.org/wiki/Lionel_Messi#/media/File:Messi_vs_Nigeria_2018.jpg;\nLicense: https://creativecommons.org/licenses/by-sa/3.0/;\nCreator: \u041a\u0438\u0440\u0438\u043b\u043b \u0412\u0435\u043d\u0435\u0434\u0438\u043a\u0442\u043e\u0432\n\n"
      ]
    },
    {
      "cell_type": "code",
      "execution_count": null,
      "metadata": {
        "collapsed": false
      },
      "outputs": [],
      "source": [
        "plt.show()  # If you are using a Jupyter notebook you do not need this line"
      ]
    }
  ],
  "metadata": {
    "kernelspec": {
      "display_name": "Python 3",
      "language": "python",
      "name": "python3"
    },
    "language_info": {
      "codemirror_mode": {
        "name": "ipython",
        "version": 3
      },
      "file_extension": ".py",
      "mimetype": "text/x-python",
      "name": "python",
      "nbconvert_exporter": "python",
      "pygments_lexer": "ipython3",
      "version": "3.10.6"
    }
  },
  "nbformat": 4,
  "nbformat_minor": 0
}
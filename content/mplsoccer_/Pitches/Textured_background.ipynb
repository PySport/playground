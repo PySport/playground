{
  "cells": [
    {
      "cell_type": "markdown",
      "metadata": {},
      "source": [
        "## *Setup required for Playground*\n",
        "\n",
        "The online playground requires a little bit of code to run first."
      ]
    },
    {
      "cell_type": "code",
      "execution_count": null,
      "metadata": {},
      "outputs": [],
      "source": [
        "%pip install mplsoccer highlight_text pandas requests"
      ]
    },
    {
      "cell_type": "code",
      "execution_count": null,
      "metadata": {},
      "outputs": [],
      "source": [
        "# Patch requests to make it work in the browser",
        "import pyodide_http\n",
        "pyodide_http.patch_all()"
      ]
    },
    {
      "cell_type": "markdown",
      "metadata": {},
      "source": [
        "Original notebook can be found [here](https://mplsoccer.readthedocs.io/en/latest/_downloads/c1ba5b3be03934e69ef5d431690704bf/plot_textured_background.ipynb)"
      ]
    },
    {
      "cell_type": "code",
      "execution_count": null,
      "metadata": {
        "collapsed": false
      },
      "outputs": [],
      "source": [
        "%matplotlib inline"
      ]
    },
    {
      "cell_type": "markdown",
      "metadata": {},
      "source": [
        "\n# Textured background\n\nThis example shows how to plot a pitch with a textured background behind it.\n"
      ]
    },
    {
      "cell_type": "code",
      "execution_count": null,
      "metadata": {
        "collapsed": false
      },
      "outputs": [],
      "source": [
        "from urllib.request import urlopen\n\nfrom PIL import Image\nimport matplotlib.pyplot as plt\n\nfrom mplsoccer.pitch import Pitch\nfrom mplsoccer.utils import add_image\n\n# opening the background image\n# pic by webtreats: https://www.flickr.com/photos/webtreatsetc/\n# available at: https://www.flickr.com/photos/webtreatsetc/5756834840\nIMAGE_URL = 'https://live.staticflickr.com/5065/5756834840_e31c559b26_c_d.jpg'\nimage = Image.open(urlopen(IMAGE_URL))\n\npitch = Pitch(pitch_color='None')\nfig, ax = pitch.draw(tight_layout=False)\n# adding the image and the image credits\nax_image = add_image(image, fig, left=0, bottom=0, width=1, height=1)\nax.text(70, 75, 'cloud pic by\\nwebtreats (flickr)', color='white')\n# set the pitch to be plotted after the image\n# note these numbers can be anything like 0.5, 0.2 as long\n# as the image zorder is behind the pitch zorder\nax.set_zorder(1)\nax_image.set_zorder(0)\n# save with 'tight' and no padding to avoid borders\n# fig.savefig('cloud.png', bbox_inches='tight', pad_inches=0)\n\nplt.show()  # If you are using a Jupyter notebook you do not need this line"
      ]
    }
  ],
  "metadata": {
    "kernelspec": {
      "display_name": "Python 3",
      "language": "python",
      "name": "python3"
    },
    "language_info": {
      "codemirror_mode": {
        "name": "ipython",
        "version": 3
      },
      "file_extension": ".py",
      "mimetype": "text/x-python",
      "name": "python",
      "nbconvert_exporter": "python",
      "pygments_lexer": "ipython3",
      "version": "3.11.0"
    }
  },
  "nbformat": 4,
  "nbformat_minor": 0
}
{
  "cells": [
    {
      "cell_type": "markdown",
      "metadata": {},
      "source": [
        "## *Setup required for Playground*\n",
        "\n",
        "The online playground requires a little bit of code to run first."
      ]
    },
    {
      "cell_type": "code",
      "execution_count": null,
      "metadata": {},
      "outputs": [],
      "source": [
        "import micropip\n",
        "await micropip.install('pyodide-http')\n",
        "await micropip.install('mplsoccer')\n",
        "await micropip.install('highlight_text')\n",
        "await micropip.install('pandas')\n",
        "await micropip.install('requests')\n",
        "\n",
        "import pyodide_http\n",
        "pyodide_http.patch_all()"
      ]
    },
    {
      "cell_type": "markdown",
      "metadata": {},
      "source": [
        "Original notebook can be found [here](https://mplsoccer.readthedocs.io/en/latest/_downloads/f13637ec8d87dd2aa6ae03e2b51db961/plot_kde.ipynb)"
      ]
    },
    {
      "cell_type": "code",
      "execution_count": null,
      "metadata": {
        "collapsed": false
      },
      "outputs": [],
      "source": [
        "%matplotlib inline"
      ]
    },
    {
      "cell_type": "markdown",
      "metadata": {},
      "source": [
        "\n# Event distribution using kdeplot\n\nThis example shows how to plot the location of events occurring in a match\nusing kernel density estimation (KDE).\n"
      ]
    },
    {
      "cell_type": "code",
      "execution_count": null,
      "metadata": {
        "collapsed": false
      },
      "outputs": [],
      "source": [
        "from urllib.request import urlopen\n\nfrom matplotlib.colors import LinearSegmentedColormap\nimport matplotlib.pyplot as plt\nfrom PIL import Image\nfrom highlight_text import ax_text\n\nfrom mplsoccer import VerticalPitch, add_image, FontManager, Sbopen"
      ]
    },
    {
      "cell_type": "markdown",
      "metadata": {},
      "source": [
        "Load the first game that Messi played as a false-9 and the match before.\n\n"
      ]
    },
    {
      "cell_type": "code",
      "execution_count": null,
      "metadata": {
        "collapsed": false
      },
      "outputs": [],
      "source": [
        "parser = Sbopen()\ndf_false9 = parser.event(69249)[0]  # 0 index is the event file\ndf_before_false9 = parser.event(69251)[0]  # 0 index is the event file\n# filter messi's actions (starting positions)\ndf_false9 = df_false9.loc[df_false9.player_id == 5503, ['x', 'y']]\ndf_before_false9 = df_before_false9.loc[df_before_false9.player_id == 5503, ['x', 'y']]"
      ]
    },
    {
      "cell_type": "markdown",
      "metadata": {},
      "source": [
        "Create a custom colormap.\nNote see the [custom colormaps](https://mplsoccer.readthedocs.io/en/latest/gallery/pitch_plots/plot_cmap.html)\nexample for more ideas.\n\n"
      ]
    },
    {
      "cell_type": "code",
      "execution_count": null,
      "metadata": {
        "collapsed": false
      },
      "outputs": [],
      "source": [
        "flamingo_cmap = LinearSegmentedColormap.from_list(\"Flamingo - 100 colors\",\n                                                  ['#e3aca7', '#c03a1d'], N=100)"
      ]
    },
    {
      "cell_type": "markdown",
      "metadata": {},
      "source": [
        "Plot Messi's first game as a false-9.\n\n"
      ]
    },
    {
      "cell_type": "code",
      "execution_count": null,
      "metadata": {
        "collapsed": false
      },
      "outputs": [],
      "source": [
        "pitch = VerticalPitch(line_color='#000009', line_zorder=2)\nfig, ax = pitch.draw(figsize=(4.4, 6.4))\nkde = pitch.kdeplot(df_false9.x, df_false9.y, ax=ax,\n                    # shade using 100 levels so it looks smooth\n                    shade=True, levels=100,\n                    # shade the lowest area so it looks smooth\n                    # so even if there are no events it gets some color\n                    shade_lowest=True,\n                    cut=4,  # extended the cut so it reaches the bottom edge\n                    cmap=flamingo_cmap)"
      ]
    },
    {
      "cell_type": "markdown",
      "metadata": {},
      "source": [
        "Load a custom font.\n\n"
      ]
    },
    {
      "cell_type": "code",
      "execution_count": null,
      "metadata": {
        "collapsed": false
      },
      "outputs": [],
      "source": [
        "URL = 'https://raw.githubusercontent.com/google/fonts/main/apache/roboto/Roboto%5Bwdth,wght%5D.ttf'\nURL2 = 'https://raw.githubusercontent.com/google/fonts/main/apache/robotoslab/RobotoSlab%5Bwght%5D.ttf'\nrobotto_regular = FontManager(URL)\nrobboto_bold = FontManager(URL2)"
      ]
    },
    {
      "cell_type": "markdown",
      "metadata": {},
      "source": [
        "Load images.\n\n"
      ]
    },
    {
      "cell_type": "code",
      "execution_count": null,
      "metadata": {
        "collapsed": false
      },
      "outputs": [],
      "source": [
        "# Load the StatsBomb logo and Messi picture\nMESSI_URL = 'https://upload.wikimedia.org/wikipedia/commons/b/b8/Messi_vs_Nigeria_2018.jpg'\nmessi_image = Image.open(urlopen(MESSI_URL))\nSB_LOGO_URL = ('https://raw.githubusercontent.com/statsbomb/open-data/'\n               'master/img/SB%20-%20Icon%20Lockup%20-%20Colour%20positive.png')\nsb_logo = Image.open(urlopen(SB_LOGO_URL))"
      ]
    },
    {
      "cell_type": "markdown",
      "metadata": {},
      "source": [
        "Plot the chart again with a title.\nWe will use mplsoccer's grid function to plot a pitch with a title and endnote axes.\n\n"
      ]
    },
    {
      "cell_type": "code",
      "execution_count": null,
      "metadata": {
        "collapsed": false
      },
      "outputs": [],
      "source": [
        "fig, axs = pitch.grid(figheight=10, title_height=0.08, endnote_space=0, title_space=0,\n                      # Turn off the endnote/title axis. I usually do this after\n                      # I am happy with the chart layout and text placement\n                      axis=False,\n                      grid_height=0.82, endnote_height=0.03)\nkde = pitch.kdeplot(df_false9.x, df_false9.y, ax=axs['pitch'],\n                    # shade using 100 levels so it looks smooth\n                    shade=True, levels=100,\n                    # shade the lowest area so it looks smooth\n                    # so even if there are no events it gets some color\n                    shade_lowest=True,\n                    cut=4,  # extended the cut so it reaches the bottom edge\n                    cmap=flamingo_cmap)\naxs['endnote'].text(1, 0.5, '@your_twitter_handle', va='center', ha='right', fontsize=15,\n                    fontproperties=robotto_regular.prop)\naxs['title'].text(0.5, 0.7, \"Lionel Messi's Actions\", color='#000009',\n                  va='center', ha='center', fontproperties=robotto_regular.prop, fontsize=30)\naxs['title'].text(0.5, 0.25, \"First game as a false nine\", color='#000009',\n                  va='center', ha='center', fontproperties=robotto_regular.prop, fontsize=20)\nax_sb_logo = add_image(sb_logo, fig,\n                       # set the left, bottom and height to align with the endnote\n                       left=axs['endnote'].get_position().x0,\n                       bottom=axs['endnote'].get_position().y0,\n                       height=axs['endnote'].get_position().height)"
      ]
    },
    {
      "cell_type": "markdown",
      "metadata": {},
      "source": [
        "Plot Messi's actions in the matches before and after becoming a false-9.\nWe will use mplsoccer's grid function, which is a convenient way to plot a grid\nof pitches with a title and endnote axes.\n\n"
      ]
    },
    {
      "cell_type": "code",
      "execution_count": null,
      "metadata": {
        "collapsed": false
      },
      "outputs": [],
      "source": [
        "fig, axs = pitch.grid(ncols=2, axis=False, endnote_height=0.05)\n\nkde_before = pitch.kdeplot(df_before_false9.x, df_before_false9.y, ax=axs['pitch'][0],\n                           shade=True, levels=100, shade_lowest=True,\n                           cut=4, cmap='Reds')\n\nkde_after = pitch.kdeplot(df_false9.x, df_false9.y, ax=axs['pitch'][1],\n                          shade=True, levels=100, shade_lowest=True,\n                          cut=4, cmap='Blues')\n\nax_sb_logo = add_image(sb_logo, fig,\n                       # set the left, bottom and height to align with the endnote\n                       left=axs['endnote'].get_position().x0,\n                       bottom=axs['endnote'].get_position().y0,\n                       height=axs['endnote'].get_position().height)\nax_messi = add_image(messi_image, fig, interpolation='hanning',\n                     # set the left, bottom and height to align with the title\n                     left=axs['title'].get_position().x0,\n                     bottom=axs['title'].get_position().y0,\n                     height=axs['title'].get_position().height)\n\n# titles using highlight_text and a google font (Robotto)\n\nTITLE_STR1 = 'The Evolution of Lionel Messi'\nTITLE_STR2 = 'Actions in the match <before> and\\n<after> becoming a False-9'\ntitle1_text = axs['title'].text(0.5, 0.7, TITLE_STR1, fontsize=28, color='#000009',\n                                fontproperties=robotto_regular.prop,\n                                ha='center', va='center')\nhighlight_text = [{'color': '#800610', 'fontproperties': robboto_bold.prop},\n                  {'color': '#08306b', 'fontproperties': robboto_bold.prop}]\nax_text(0.5, 0.3, TITLE_STR2, ha='center', va='center', fontsize=18, color='#000009',\n        fontproperties=robotto_regular.prop,\n        highlight_textprops=highlight_text, ax=axs['title'])\n\n# sphinx_gallery_thumbnail_path = 'gallery/pitch_plots/images/sphx_glr_plot_kde_003.png'\n\n# Messi Photo from: https://en.wikipedia.org/wiki/Lionel_Messi#/media/File:Messi_vs_Nigeria_2018.jpg\n# License: https://creativecommons.org/licenses/by-sa/3.0/;\n# Creator: \u041a\u0438\u0440\u0438\u043b\u043b \u0412\u0435\u043d\u0435\u0434\u0438\u043a\u0442\u043e\u0432\n\nplt.show()  # If you are using a Jupyter notebook you do not need this line"
      ]
    }
  ],
  "metadata": {
    "kernelspec": {
      "display_name": "Python 3",
      "language": "python",
      "name": "python3"
    },
    "language_info": {
      "codemirror_mode": {
        "name": "ipython",
        "version": 3
      },
      "file_extension": ".py",
      "mimetype": "text/x-python",
      "name": "python",
      "nbconvert_exporter": "python",
      "pygments_lexer": "ipython3",
      "version": "3.10.6"
    }
  },
  "nbformat": 4,
  "nbformat_minor": 0
}
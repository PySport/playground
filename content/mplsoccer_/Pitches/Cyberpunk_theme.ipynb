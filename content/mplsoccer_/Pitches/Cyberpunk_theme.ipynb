{
  "cells": [
    {
      "cell_type": "markdown",
      "metadata": {},
      "source": [
        "## *Setup required for Playground*\n",
        "\n",
        "The online playground requires a little bit of code to run first."
      ]
    },
    {
      "cell_type": "code",
      "execution_count": null,
      "metadata": {},
      "outputs": [],
      "source": [
        "%pip install mplsoccer highlight_text pandas requests"
      ]
    },
    {
      "cell_type": "code",
      "execution_count": null,
      "metadata": {},
      "outputs": [],
      "source": [
        "# Patch requests to make it work in the browser\n",
        "import pyodide_http\n",
        "pyodide_http.patch_all()"
      ]
    },
    {
      "cell_type": "markdown",
      "metadata": {},
      "source": [
        "Original notebook can be found [here](https://mplsoccer.readthedocs.io/en/latest/_downloads/774edea0a398240e65010f4f8dad89dd/plot_cyberpunk.ipynb)"
      ]
    },
    {
      "cell_type": "code",
      "execution_count": null,
      "metadata": {
        "collapsed": false
      },
      "outputs": [],
      "source": [
        "%matplotlib inline"
      ]
    },
    {
      "cell_type": "markdown",
      "metadata": {},
      "source": [
        "\n# Cyberpunk theme\n\nThis example shows how to recreate the\n[mplcyberpunk](https://github.com/dhaitz/mplcyberpunk)  theme in mplsoccer.\n\nIt copies the technique of plotting the line once and adding glow effects.\nThe glow effects are a loop of transparent lines increasing in linewidth\nso the center is more opaque than the outside.\n"
      ]
    },
    {
      "cell_type": "code",
      "execution_count": null,
      "metadata": {
        "collapsed": false
      },
      "outputs": [],
      "source": [
        "from mplsoccer import Pitch, FontManager, Sbopen\nimport matplotlib.patheffects as path_effects\n\n# read data\nparser = Sbopen()\ndf, related, freeze, tactics = parser.event(7478)\n\n# get the team names\nteam1, team2 = df.team_name.unique()\n# filter the dataset to completed passes for team 1\nmask_team1 = (df.type_name == 'Pass') & (df.team_name == team1) & (df.outcome_name.isnull())\ndf_pass = df.loc[mask_team1, ['x', 'y', 'end_x', 'end_y', 'outcome_name']]\n\n# load a custom font from google fonts\nfm = FontManager('https://raw.githubusercontent.com/google/fonts/main/ofl/sedgwickave/'\n                 'SedgwickAve-Regular.ttf')"
      ]
    },
    {
      "cell_type": "markdown",
      "metadata": {},
      "source": [
        "## Plotting cybperpunk passes\n\n"
      ]
    },
    {
      "cell_type": "code",
      "execution_count": null,
      "metadata": {
        "collapsed": false
      },
      "outputs": [],
      "source": [
        "LINEWIDTH = 1  # starting linewidth\nDIFF_LINEWIDTH = 1.2  # amount the glow linewidth increases each loop\nNUM_GLOW_LINES = 10  # the amount of loops, if you increase the glow will be wider\n\n# in each loop, for the glow, we plot the alpha divided by the num_glow_lines\n# I have a lower alpha_pass_line value as there is a slight overlap in\n# the pass comet lines when using capstyle='round'\nALPHA_PITCH_LINE = 0.3\nALPHA_PASS_LINE = 0.15\n\n# The colors are borrowed from mplcyberpunk. Try some of the following alternatives\n# '#08F7FE' (teal/cyan), '#FE53BB' (pink), '#F5D300' (yellow),\n# '#00ff41' (matrix green), 'r' (red), '#9467bd' (viloet)\nBACKGROUND_COLOR = '#212946'\nPASS_COLOR = '#FE53BB'\nLINE_COLOR = '#08F7FE'\n\n# plot as initial pitch and the lines with alpha=1\n# I have used grid to get a title and endnote axis automatically, but you could you pitch.draw()\npitch = Pitch(line_color=LINE_COLOR, pitch_color=BACKGROUND_COLOR, linewidth=LINEWIDTH,\n              line_alpha=1, goal_alpha=1, goal_type='box')\nfig, ax = pitch.grid(grid_height=0.9, title_height=0.06, axis=False,\n                     endnote_height=0.04, title_space=0, endnote_space=0)\nfig.set_facecolor(BACKGROUND_COLOR)\npitch.lines(df_pass.x, df_pass.y,\n            df_pass.end_x, df_pass.end_y,\n            capstyle='butt',  # cut-off the line at the end-location.\n            linewidth=LINEWIDTH, color=PASS_COLOR, comet=True, ax=ax['pitch'])\n\n# plotting the titles and endnote\ntext_effects = [path_effects.Stroke(linewidth=3, foreground='black'),\n                path_effects.Normal()]\nax['title'].text(0.5, 0.3, f'{team1} passes versus {team2}',\n                 path_effects=text_effects,\n                 va='center', ha='center', color=LINE_COLOR, fontsize=30, fontproperties=fm.prop)\nax['endnote'].text(1, 0.5, '@numberstorm', va='center', path_effects=text_effects,\n                   ha='right', color=LINE_COLOR, fontsize=30, fontproperties=fm.prop)\n\n# plotting the glow effect. it is essentially a loop that plots the line with\n# a low alpha (transparency) value and gradually increases the linewidth.\n# This way the center will have more color than the outer area.\n# you could break this up into two loops if you wanted the pitch lines to have wider glow\nfor i in range(1, NUM_GLOW_LINES + 1):\n    pitch = Pitch(line_color=LINE_COLOR, pitch_color=BACKGROUND_COLOR,\n                  linewidth=LINEWIDTH + (DIFF_LINEWIDTH * i),\n                  line_alpha=ALPHA_PITCH_LINE / NUM_GLOW_LINES,\n                  goal_alpha=ALPHA_PITCH_LINE / NUM_GLOW_LINES,\n                  goal_type='box')\n    pitch.draw(ax=ax['pitch'])  # we plot on-top of our previous axis from pitch.grid\n    pitch.lines(df_pass.x, df_pass.y,\n                df_pass.end_x, df_pass.end_y,\n                linewidth=LINEWIDTH + (DIFF_LINEWIDTH * i),\n                capstyle='round',  # capstyle round so the glow extends past the line\n                alpha=ALPHA_PASS_LINE / NUM_GLOW_LINES,\n                color=PASS_COLOR, comet=True, ax=ax['pitch'])"
      ]
    }
  ],
  "metadata": {
    "kernelspec": {
      "display_name": "Python 3",
      "language": "python",
      "name": "python3"
    },
    "language_info": {
      "codemirror_mode": {
        "name": "ipython",
        "version": 3
      },
      "file_extension": ".py",
      "mimetype": "text/x-python",
      "name": "python",
      "nbconvert_exporter": "python",
      "pygments_lexer": "ipython3",
      "version": "3.11.0"
    }
  },
  "nbformat": 4,
  "nbformat_minor": 0
}
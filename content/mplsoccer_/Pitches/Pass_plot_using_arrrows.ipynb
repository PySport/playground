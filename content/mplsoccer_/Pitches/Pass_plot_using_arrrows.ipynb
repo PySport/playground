{
  "cells": [
    {
      "cell_type": "markdown",
      "metadata": {},
      "source": [
        "## *Setup required for Playground*\n",
        "\n",
        "The online playground requires a little bit of code to run first."
      ]
    },
    {
      "cell_type": "code",
      "execution_count": null,
      "metadata": {},
      "outputs": [],
      "source": [
        "%pip install requests\n",
        "# Patch requests to make it work in the browser\n",
        "import pyodide_http\n",
        "pyodide_http.patch_all()"
      ]
    },
    {
      "cell_type": "code",
      "execution_count": null,
      "metadata": {},
      "outputs": [],
      "source": [
        "%pip install mplsoccer==1.1.12 highlight_text pandas"
      ]
    },
    {
      "cell_type": "markdown",
      "metadata": {},
      "source": [
        "Original notebook can be found [here](https://mplsoccer.readthedocs.io/en/latest/_downloads/e2c124156f827895a57a8ff299e1f823/plot_arrows.ipynb)"
      ]
    },
    {
      "cell_type": "markdown",
      "metadata": {},
      "source": [
        "\n# Pass plot using arrrows\n\nThis example shows how to plot all passes from a team in a match as arrows.\n"
      ]
    },
    {
      "cell_type": "code",
      "execution_count": null,
      "metadata": {
        "collapsed": false
      },
      "outputs": [],
      "source": [
        "from mplsoccer import Pitch, FontManager, Sbopen\nfrom matplotlib import rcParams\nimport matplotlib.pyplot as plt\n\nrcParams['text.color'] = '#c7d5cc'  # set the default text color\n\n# get event dataframe for game 7478\nparser = Sbopen()\ndf, related, freeze, tactics = parser.event(7478)"
      ]
    },
    {
      "cell_type": "markdown",
      "metadata": {},
      "source": [
        "Boolean mask for filtering the dataset by team\n\n"
      ]
    },
    {
      "cell_type": "code",
      "execution_count": null,
      "metadata": {
        "collapsed": false
      },
      "outputs": [],
      "source": [
        "team1, team2 = df.team_name.unique()\nmask_team1 = (df.type_name == 'Pass') & (df.team_name == team1)"
      ]
    },
    {
      "cell_type": "markdown",
      "metadata": {},
      "source": [
        "Filter dataset to only include one teams passes and get boolean mask for the completed passes\n\n"
      ]
    },
    {
      "cell_type": "code",
      "execution_count": null,
      "metadata": {
        "collapsed": false
      },
      "outputs": [],
      "source": [
        "df_pass = df.loc[mask_team1, ['x', 'y', 'end_x', 'end_y', 'outcome_name']]\nmask_complete = df_pass.outcome_name.isnull()"
      ]
    },
    {
      "cell_type": "markdown",
      "metadata": {},
      "source": [
        "View the pass dataframe.\n\n"
      ]
    },
    {
      "cell_type": "code",
      "execution_count": null,
      "metadata": {
        "collapsed": false
      },
      "outputs": [],
      "source": [
        "df_pass.head()"
      ]
    },
    {
      "cell_type": "markdown",
      "metadata": {},
      "source": [
        "Plotting\n\n"
      ]
    },
    {
      "cell_type": "code",
      "execution_count": null,
      "metadata": {
        "collapsed": false
      },
      "outputs": [],
      "source": [
        "# Set up the pitch\npitch = Pitch(pitch_type='statsbomb', pitch_color='#22312b', line_color='#c7d5cc')\nfig, ax = pitch.draw(figsize=(16, 11), constrained_layout=True, tight_layout=False)\nfig.set_facecolor('#22312b')\n\n# Plot the completed passes\npitch.arrows(df_pass[mask_complete].x, df_pass[mask_complete].y,\n             df_pass[mask_complete].end_x, df_pass[mask_complete].end_y, width=2,\n             headwidth=10, headlength=10, color='#ad993c', ax=ax, label='completed passes')\n\n# Plot the other passes\npitch.arrows(df_pass[~mask_complete].x, df_pass[~mask_complete].y,\n             df_pass[~mask_complete].end_x, df_pass[~mask_complete].end_y, width=2,\n             headwidth=6, headlength=5, headaxislength=12,\n             color='#ba4f45', ax=ax, label='other passes')\n\n# Set up the legend\nax.legend(facecolor='#22312b', handlelength=5, edgecolor='None', fontsize=20, loc='upper left')\n\n# Set the title\nax_title = ax.set_title(f'{team1} passes vs {team2}', fontsize=30)"
      ]
    },
    {
      "cell_type": "markdown",
      "metadata": {},
      "source": [
        "Plotting with grid.\nWe will use mplsoccer's grid function to plot a pitch with a title and endnote axes.\n\n"
      ]
    },
    {
      "cell_type": "code",
      "execution_count": null,
      "metadata": {
        "collapsed": false
      },
      "outputs": [],
      "source": [
        "fig, axs = pitch.grid(endnote_height=0.03, endnote_space=0, figheight=12,\n                      title_height=0.06, title_space=0, grid_height=0.86,\n                      # Turn off the endnote/title axis. I usually do this after\n                      # I am happy with the chart layout and text placement\n                      axis=False)\nfig.set_facecolor('#22312b')\n\n# Plot the completed passes\npitch.arrows(df_pass[mask_complete].x, df_pass[mask_complete].y,\n             df_pass[mask_complete].end_x, df_pass[mask_complete].end_y, width=2, headwidth=10,\n             headlength=10, color='#ad993c', ax=axs['pitch'], label='completed passes')\n\n# Plot the other passes\npitch.arrows(df_pass[~mask_complete].x, df_pass[~mask_complete].y,\n             df_pass[~mask_complete].end_x, df_pass[~mask_complete].end_y, width=2,\n             headwidth=6, headlength=5, headaxislength=12,\n             color='#ba4f45', ax=axs['pitch'], label='other passes')\n\n# fontmanager for Google font (robotto)\nrobotto_regular = FontManager('https://raw.githubusercontent.com/googlefonts/roboto/main/src/hinted/Roboto-Regular.ttf')\n\n# Set up the legend\nlegend = axs['pitch'].legend(facecolor='#22312b', handlelength=5, edgecolor='None',\n                             prop=robotto_regular.prop, loc='upper left')\nfor text in legend.get_texts():\n    text.set_fontsize(25)\n\n# endnote and title\naxs['endnote'].text(1, 0.5, '@your_twitter_handle', va='center', ha='right', fontsize=20,\n                    fontproperties=robotto_regular.prop, color='#dee6ea')\naxs['title'].text(0.5, 0.5, f'{team1} passes vs {team2}', color='#dee6ea',\n                  va='center', ha='center',\n                  fontproperties=robotto_regular.prop, fontsize=25)\n\nplt.show()  # If you are using a Jupyter notebook you do not need this line"
      ]
    }
  ],
  "metadata": {
    "kernelspec": {
      "display_name": "Python 3",
      "language": "python",
      "name": "python3"
    },
    "language_info": {
      "codemirror_mode": {
        "name": "ipython",
        "version": 3
      },
      "file_extension": ".py",
      "mimetype": "text/x-python",
      "name": "python",
      "nbconvert_exporter": "python",
      "pygments_lexer": "ipython3",
      "version": "3.11.8"
    }
  },
  "nbformat": 4,
  "nbformat_minor": 0
}
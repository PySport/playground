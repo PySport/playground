{
  "cells": [
    {
      "cell_type": "markdown",
      "metadata": {},
      "source": [
        "## *Setup required for Playground*\n",
        "\n",
        "The online playground requires a little bit of code to run first."
      ]
    },
    {
      "cell_type": "code",
      "execution_count": null,
      "metadata": {},
      "outputs": [],
      "source": [
        "import micropip\n",
        "await micropip.install('pyodide-http==0.0.6')\n",
        "await micropip.install('mplsoccer')\n",
        "await micropip.install('highlight_text')\n",
        "await micropip.install('pandas')\n",
        "await micropip.install('requests')\n",
        "\n",
        "import pyodide_http\n",
        "pyodide_http.patch_all()"
      ]
    },
    {
      "cell_type": "markdown",
      "metadata": {},
      "source": [
        "Original notebook can be found [here](https://mplsoccer.readthedocs.io/en/latest/_downloads/8b856c3b60cb92f1af8560498afd7eec/plot_shot_freeze_frame.ipynb)"
      ]
    },
    {
      "cell_type": "code",
      "execution_count": null,
      "metadata": {
        "collapsed": false
      },
      "outputs": [],
      "source": [
        "%matplotlib inline"
      ]
    },
    {
      "cell_type": "markdown",
      "metadata": {},
      "source": [
        "\n# Shot freeze frame\n\nThis example shows how to plot a shot freeze frame.\n"
      ]
    },
    {
      "cell_type": "code",
      "execution_count": null,
      "metadata": {
        "collapsed": false
      },
      "outputs": [],
      "source": [
        "import matplotlib.pyplot as plt\n\nfrom mplsoccer import VerticalPitch, FontManager, Sbopen\n\nplt.style.use('ggplot')\n\n# get event and lineup dataframes for game 7478\n# event data\nparser = Sbopen()\ndf_event, df_related, df_freeze, df_tactics = parser.event(7478)\n\n# lineup data\ndf_lineup = parser.lineup(7478)\ndf_lineup = df_lineup[['player_id', 'jersey_number', 'team_name']].copy()"
      ]
    },
    {
      "cell_type": "markdown",
      "metadata": {},
      "source": [
        "Subset a shot\n\n"
      ]
    },
    {
      "cell_type": "code",
      "execution_count": null,
      "metadata": {
        "collapsed": false
      },
      "outputs": [],
      "source": [
        "SHOT_ID = '8bb8bbc2-68a6-4c01-93de-53a194e7a1cf'\ndf_freeze_frame = df_freeze[df_freeze.id == SHOT_ID].copy()\ndf_shot_event = df_event[df_event.id == SHOT_ID].dropna(axis=1, how='all').copy()\n\n# add the jersey number\ndf_freeze_frame = df_freeze_frame.merge(df_lineup, how='left', on='player_id')"
      ]
    },
    {
      "cell_type": "markdown",
      "metadata": {},
      "source": [
        "Subset the teams\n\n"
      ]
    },
    {
      "cell_type": "code",
      "execution_count": null,
      "metadata": {
        "collapsed": false
      },
      "outputs": [],
      "source": [
        "# strings for team names\nteam1 = df_shot_event.team_name.iloc[0]\nteam2 = list(set(df_event.team_name.unique()) - {team1})[0]\n\n# subset the team shooting, and the opposition (goalkeeper/ other)\ndf_team1 = df_freeze_frame[df_freeze_frame.team_name == team1]\ndf_team2_goal = df_freeze_frame[(df_freeze_frame.team_name == team2) &\n                                (df_freeze_frame.position_name == 'Goalkeeper')]\ndf_team2_other = df_freeze_frame[(df_freeze_frame.team_name == team2) &\n                                 (df_freeze_frame.position_name != 'Goalkeeper')]"
      ]
    },
    {
      "cell_type": "markdown",
      "metadata": {},
      "source": [
        "Plotting\n\n"
      ]
    },
    {
      "cell_type": "code",
      "execution_count": null,
      "metadata": {
        "collapsed": false
      },
      "outputs": [],
      "source": [
        "# Setup the pitch\npitch = VerticalPitch(half=True, goal_type='box', pad_bottom=-20)\n\n# We will use mplsoccer's grid function to plot a pitch with a title axis.\nfig, axs = pitch.grid(figheight=8, endnote_height=0,  # no endnote\n                      title_height=0.1, title_space=0.02,\n                      # Turn off the endnote/title axis. I usually do this after\n                      # I am happy with the chart layout and text placement\n                      axis=False,\n                      grid_height=0.83)\n\n# Plot the players\nsc1 = pitch.scatter(df_team1.x, df_team1.y, s=600, c='#727cce', label='Attacker', ax=axs['pitch'])\nsc2 = pitch.scatter(df_team2_other.x, df_team2_other.y, s=600,\n                    c='#5ba965', label='Defender', ax=axs['pitch'])\nsc4 = pitch.scatter(df_team2_goal.x, df_team2_goal.y, s=600,\n                    ax=axs['pitch'], c='#c15ca5', label='Goalkeeper')\n\n# plot the shot\nsc3 = pitch.scatter(df_shot_event.x, df_shot_event.y, marker='football',\n                    s=600, ax=axs['pitch'], label='Shooter', zorder=1.2)\nline = pitch.lines(df_shot_event.x, df_shot_event.y,\n                   df_shot_event.end_x, df_shot_event.end_y, comet=True,\n                   label='shot', color='#cb5a4c', ax=axs['pitch'])\n\n# plot the angle to the goal\npitch.goal_angle(df_shot_event.x, df_shot_event.y, ax=axs['pitch'], alpha=0.2, zorder=1.1,\n                 color='#cb5a4c', goal='right')\n\n# fontmanager for google font (robotto)\nrobotto_regular = FontManager()\n\n# plot the jersey numbers\nfor i, label in enumerate(df_freeze_frame.jersey_number):\n    pitch.annotate(label, (df_freeze_frame.x[i], df_freeze_frame.y[i]),\n                   va='center', ha='center', color='white',\n                   fontproperties=robotto_regular.prop, fontsize=15, ax=axs['pitch'])\n\n# add a legend and title\nlegend = axs['pitch'].legend(loc='center left', labelspacing=1.5)\nfor text in legend.get_texts():\n    text.set_fontproperties(robotto_regular.prop)\n    text.set_fontsize(20)\n    text.set_va('center')\n\n# title\naxs['title'].text(0.5, 0.5, f'{df_shot_event.player_name.iloc[0]}\\n{team1} vs. {team2}',\n                  va='center', ha='center', color='black',\n                  fontproperties=robotto_regular.prop, fontsize=25)\n\nplt.show()  # If you are using a Jupyter notebook you do not need this line"
      ]
    }
  ],
  "metadata": {
    "kernelspec": {
      "display_name": "Python 3",
      "language": "python",
      "name": "python3"
    },
    "language_info": {
      "codemirror_mode": {
        "name": "ipython",
        "version": 3
      },
      "file_extension": ".py",
      "mimetype": "text/x-python",
      "name": "python",
      "nbconvert_exporter": "python",
      "pygments_lexer": "ipython3",
      "version": "3.10.6"
    }
  },
  "nbformat": 4,
  "nbformat_minor": 0
}
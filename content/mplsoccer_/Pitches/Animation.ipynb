{
  "cells": [
    {
      "cell_type": "markdown",
      "metadata": {},
      "source": [
        "## *Setup required for Playground*\n",
        "\n",
        "The online playground requires a little bit of code to run first."
      ]
    },
    {
      "cell_type": "code",
      "execution_count": null,
      "metadata": {},
      "outputs": [],
      "source": [
        "import micropip\n",
        "await micropip.install('pyodide-http==0.0.6')\n",
        "await micropip.install('mplsoccer')\n",
        "await micropip.install('highlight_text')\n",
        "await micropip.install('pandas')\n",
        "await micropip.install('requests')\n",
        "\n",
        "import pyodide_http\n",
        "pyodide_http.patch_all()"
      ]
    },
    {
      "cell_type": "markdown",
      "metadata": {},
      "source": [
        "Original notebook can be found [here](https://mplsoccer.readthedocs.io/en/latest/_downloads/64fb4aa390d9f6a43bd388461652f4dc/plot_animation.ipynb)"
      ]
    },
    {
      "cell_type": "code",
      "execution_count": null,
      "metadata": {
        "collapsed": false
      },
      "outputs": [],
      "source": [
        "%matplotlib inline"
      ]
    },
    {
      "cell_type": "markdown",
      "metadata": {},
      "source": [
        "\n# Animation\n\nThis example shows how to animate tracking data from\n[metricasports](https://github.com/metrica-sports/sample-data).\n"
      ]
    },
    {
      "cell_type": "code",
      "execution_count": null,
      "metadata": {
        "collapsed": false
      },
      "outputs": [],
      "source": [
        "import numpy as np\nimport pandas as pd\nfrom matplotlib import animation\nfrom matplotlib import pyplot as plt\n\nfrom mplsoccer import Pitch"
      ]
    },
    {
      "cell_type": "markdown",
      "metadata": {},
      "source": [
        "Load the data\n\n"
      ]
    },
    {
      "cell_type": "code",
      "execution_count": null,
      "metadata": {
        "collapsed": false
      },
      "outputs": [],
      "source": [
        "# load away data\nLINK1 = ('https://raw.githubusercontent.com/metrica-sports/sample-data/master/'\n         'data/Sample_Game_1/Sample_Game_1_RawTrackingData_Away_Team.csv')\ndf_away = pd.read_csv(LINK1, skiprows=2)\ndf_away.sort_values('Time [s]', inplace=True)\n\n# load home data\nLINK2 = ('https://raw.githubusercontent.com/metrica-sports/sample-data/master/'\n         'data/Sample_Game_1/Sample_Game_1_RawTrackingData_Home_Team.csv')\ndf_home = pd.read_csv(LINK2, skiprows=2)\ndf_home.sort_values('Time [s]', inplace=True)"
      ]
    },
    {
      "cell_type": "markdown",
      "metadata": {},
      "source": [
        "Reset the column names\n\n"
      ]
    },
    {
      "cell_type": "code",
      "execution_count": null,
      "metadata": {
        "collapsed": false
      },
      "outputs": [],
      "source": [
        "# column names aren't great so this sets the player ones with _x and _y suffixes\n\n\ndef set_col_names(df):\n    \"\"\" Renames the columns to have x and y suffixes.\"\"\"\n    cols = list(np.repeat(df.columns[3::2], 2))\n    cols = [col+'_x' if i % 2 == 0 else col+'_y' for i, col in enumerate(cols)]\n    cols = np.concatenate([df.columns[:3], cols])\n    df.columns = cols\n\n\nset_col_names(df_away)\nset_col_names(df_home)"
      ]
    },
    {
      "cell_type": "markdown",
      "metadata": {},
      "source": [
        "Subset 2 seconds of data\n\n"
      ]
    },
    {
      "cell_type": "code",
      "execution_count": null,
      "metadata": {
        "collapsed": false
      },
      "outputs": [],
      "source": [
        "# get a subset of the data (10 seconds)\ndf_away = df_away[(df_away['Time [s]'] >= 815) & (df_away['Time [s]'] < 825)].copy()\ndf_home = df_home[(df_home['Time [s]'] >= 815) & (df_home['Time [s]'] < 825)].copy()"
      ]
    },
    {
      "cell_type": "markdown",
      "metadata": {},
      "source": [
        "Split off the ball data, and drop the ball columns from the df_away/ df_home dataframes\n\n"
      ]
    },
    {
      "cell_type": "code",
      "execution_count": null,
      "metadata": {
        "collapsed": false
      },
      "outputs": [],
      "source": [
        "# split off a df_ball dataframe and drop the ball columns from the player dataframes\ndf_ball = df_away[['Period', 'Frame', 'Time [s]', 'Ball_x', 'Ball_y']].copy()\ndf_home.drop(['Ball_x', 'Ball_y'], axis=1, inplace=True)\ndf_away.drop(['Ball_x', 'Ball_y'], axis=1, inplace=True)\ndf_ball.rename({'Ball_x': 'x', 'Ball_y': 'y'}, axis=1, inplace=True)"
      ]
    },
    {
      "cell_type": "markdown",
      "metadata": {},
      "source": [
        "Convert to long form. So each row is a single player's coordinates for a single frame\n\n"
      ]
    },
    {
      "cell_type": "code",
      "execution_count": null,
      "metadata": {
        "collapsed": false
      },
      "outputs": [],
      "source": [
        "# convert to long form from wide form\ndef to_long_form(df):\n    \"\"\" Pivots a dataframe from wide-form (each player as a separate column) to long form (rows)\"\"\"\n    df = pd.melt(df, id_vars=df.columns[:3], value_vars=df.columns[3:], var_name='player')\n    df.loc[df.player.str.contains('_x'), 'coordinate'] = 'x'\n    df.loc[df.player.str.contains('_y'), 'coordinate'] = 'y'\n    df = df.dropna(axis=0, how='any')\n    df['player'] = df.player.str[6:-2]\n    df = (df.set_index(['Period', 'Frame', 'Time [s]', 'player', 'coordinate'])['value']\n          .unstack()\n          .reset_index()\n          .rename_axis(None, axis=1))\n    return df\n\n\ndf_away = to_long_form(df_away)\ndf_home = to_long_form(df_home)"
      ]
    },
    {
      "cell_type": "markdown",
      "metadata": {},
      "source": [
        "Show the away data\n\n"
      ]
    },
    {
      "cell_type": "code",
      "execution_count": null,
      "metadata": {
        "collapsed": false
      },
      "outputs": [],
      "source": [
        "df_away.head()"
      ]
    },
    {
      "cell_type": "markdown",
      "metadata": {},
      "source": [
        "Show the home data\n\n"
      ]
    },
    {
      "cell_type": "code",
      "execution_count": null,
      "metadata": {
        "collapsed": false
      },
      "outputs": [],
      "source": [
        "df_home.head()"
      ]
    },
    {
      "cell_type": "markdown",
      "metadata": {},
      "source": [
        "Show the ball data\n\n"
      ]
    },
    {
      "cell_type": "code",
      "execution_count": null,
      "metadata": {
        "collapsed": false
      },
      "outputs": [],
      "source": [
        "df_ball.head()"
      ]
    },
    {
      "cell_type": "markdown",
      "metadata": {},
      "source": [
        "Plot the animation\n\n"
      ]
    },
    {
      "cell_type": "code",
      "execution_count": null,
      "metadata": {
        "collapsed": false
      },
      "outputs": [],
      "source": [
        "# First set up the figure, the axis\npitch = Pitch(pitch_type='metricasports', goal_type='line', pitch_width=68, pitch_length=105)\nfig, ax = pitch.draw(figsize=(16, 10.4))\n\n# then setup the pitch plot markers we want to animate\nmarker_kwargs = {'marker': 'o', 'markeredgecolor': 'black', 'linestyle': 'None'}\nball, = ax.plot([], [], ms=6, markerfacecolor='w', zorder=3, **marker_kwargs)\naway, = ax.plot([], [], ms=10, markerfacecolor='#b94b75', **marker_kwargs)  # red/maroon\nhome, = ax.plot([], [], ms=10, markerfacecolor='#7f63b8', **marker_kwargs)  # purple\n\n\n# animation function\ndef animate(i):\n    \"\"\" Function to animate the data. Each frame it sets the data for the players and the ball.\"\"\"\n    # set the ball data with the x and y positions for the ith frame\n    ball.set_data(df_ball.iloc[i, 3], df_ball.iloc[i, 4])\n    # get the frame id for the ith frame\n    frame = df_ball.iloc[i, 1]\n    # set the player data using the frame id\n    away.set_data(df_away.loc[df_away.Frame == frame, 'x'],\n                  df_away.loc[df_away.Frame == frame, 'y'])\n    home.set_data(df_home.loc[df_home.Frame == frame, 'x'],\n                  df_home.loc[df_home.Frame == frame, 'y'])\n    return ball, away, home\n\n\n# call the animator, animate so 25 frames per second\nanim = animation.FuncAnimation(fig, animate, frames=len(df_ball), interval=50, blit=True)\nplt.show()\n\n# note that its hard to get the ffmpeg requirements right.\n# I installed from conda-forge: see the environment.yml file in the docs folder\n# how to save animation - commented out for example\n# anim.save('example.mp4', dpi=150, fps=25,\n#          extra_args=['-vcodec', 'libx264'],\n#          savefig_kwargs={'pad_inches':0, 'facecolor':'#457E29'})"
      ]
    }
  ],
  "metadata": {
    "kernelspec": {
      "display_name": "Python 3",
      "language": "python",
      "name": "python3"
    },
    "language_info": {
      "codemirror_mode": {
        "name": "ipython",
        "version": 3
      },
      "file_extension": ".py",
      "mimetype": "text/x-python",
      "name": "python",
      "nbconvert_exporter": "python",
      "pygments_lexer": "ipython3",
      "version": "3.10.6"
    }
  },
  "nbformat": 4,
  "nbformat_minor": 0
}
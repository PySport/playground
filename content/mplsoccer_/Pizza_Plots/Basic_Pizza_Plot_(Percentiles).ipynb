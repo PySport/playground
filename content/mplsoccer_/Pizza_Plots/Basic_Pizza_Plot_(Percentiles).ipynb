{
  "cells": [
    {
      "cell_type": "markdown",
      "metadata": {},
      "source": [
        "## *Setup required for Playground*\n",
        "\n",
        "The online playground requires a little bit of code to run first."
      ]
    },
    {
      "cell_type": "code",
      "execution_count": null,
      "metadata": {},
      "outputs": [],
      "source": [
        "%pip install requests\n",
        "# Patch requests to make it work in the browser\n",
        "import pyodide_http\n",
        "pyodide_http.patch_all()"
      ]
    },
    {
      "cell_type": "code",
      "execution_count": null,
      "metadata": {},
      "outputs": [],
      "source": [
        "%pip install mplsoccer highlight_text pandas"
      ]
    },
    {
      "cell_type": "markdown",
      "metadata": {},
      "source": [
        "Original notebook can be found [here](https://mplsoccer.readthedocs.io/en/latest/_downloads/0b16c024a559a55e94e57b24ecda605b/plot_pizza_basic.ipynb)"
      ]
    },
    {
      "cell_type": "code",
      "execution_count": null,
      "metadata": {
        "collapsed": false
      },
      "outputs": [],
      "source": [
        "%matplotlib inline"
      ]
    },
    {
      "cell_type": "markdown",
      "metadata": {},
      "source": [
        "\n# Basic Pizza Plot (Percentiles)\n\n* Author: [slothfulwave612](https://twitter.com/slothfulwave612)\n\n* ``mplsoccer``, ``py_pizza`` module helps one to plot pizza charts in a few lines of code.\n\n* The design idea is inspired by [Tom Worville](https://twitter.com/Worville), [Football Slices](https://twitter.com/FootballSlices) and [Soma Zero FC](https://twitter.com/somazerofc)\n\n* We have re-written [Soumyajit Bose's](https://twitter.com/Soumyaj15209314)  pizza chart code to enable greater customisation.\n\nHere we will show some examples of how to use ``mplsoccer`` to plot pizza-charts.\n"
      ]
    },
    {
      "cell_type": "code",
      "execution_count": null,
      "metadata": {
        "collapsed": false
      },
      "outputs": [],
      "source": [
        "from urllib.request import urlopen\n\nimport matplotlib.pyplot as plt\nfrom PIL import Image\n\nfrom mplsoccer import PyPizza, add_image, FontManager"
      ]
    },
    {
      "cell_type": "markdown",
      "metadata": {},
      "source": [
        "## Load some fonts\nWe will use mplsoccer's FontManager to load some fonts from Google Fonts.\nWe borrowed the FontManager from the excellent\n[ridge_map library](https://github.com/ColCarroll/ridge_map).\n\n"
      ]
    },
    {
      "cell_type": "code",
      "execution_count": null,
      "metadata": {
        "collapsed": false
      },
      "outputs": [],
      "source": [
        "font_normal = FontManager('https://raw.githubusercontent.com/google/fonts/main/apache/roboto/'\n                          'Roboto%5Bwdth,wght%5D.ttf')\nfont_italic = FontManager('https://raw.githubusercontent.com/google/fonts/main/apache/roboto/'\n                          'Roboto-Italic%5Bwdth,wght%5D.ttf')\nfont_bold = FontManager('https://raw.githubusercontent.com/google/fonts/main/apache/robotoslab/'\n                        'RobotoSlab%5Bwght%5D.ttf')"
      ]
    },
    {
      "cell_type": "markdown",
      "metadata": {},
      "source": [
        "## Load Image\nLoad a cropped image of Robert Lewandowski.\n\n"
      ]
    },
    {
      "cell_type": "code",
      "execution_count": null,
      "metadata": {
        "collapsed": false
      },
      "outputs": [],
      "source": [
        "URL = \"https://raw.githubusercontent.com/andrewRowlinson/mplsoccer-assets/main/lewa_cropped.png\"\nlewa_cropped = Image.open(urlopen(URL))"
      ]
    },
    {
      "cell_type": "markdown",
      "metadata": {},
      "source": [
        "## Plotting A Simple Pizza-Plot\nTo plot we need a parameter list and corresponding values list.\n\n"
      ]
    },
    {
      "cell_type": "code",
      "execution_count": null,
      "metadata": {
        "collapsed": false
      },
      "outputs": [],
      "source": [
        "# parameter list\nparams = [\n    \"Non-Penalty Goals\", \"npxG\", \"npxG per Shot\", \"xA\", \"Open Play\\nShot Creating Actions\",\n    \"\\nPenalty Area\\nEntries\", \"Progressive Passes\", \"Progressive Carries\",\n    \"Successful Dribbles\", \"\\nTouches\\nper Turnover\", \"pAdj\\nPress Regains\", \"Aerials Won\"\n]\n\n# values for corresponding parameters\n# The values are taken from the excellent fbref website (supplied by StatsBomb)\nvalues = [99, 99, 87, 51, 62, 58, 45, 40, 27, 74, 77, 73]\n\n# instantiate PyPizza class\nbaker = PyPizza(\n    params=params,                  # list of parameters\n    straight_line_color=\"#000000\",  # color for straight lines\n    straight_line_lw=1,             # linewidth for straight lines\n    last_circle_lw=1,               # linewidth of last circle\n    other_circle_lw=1,              # linewidth for other circles\n    other_circle_ls=\"-.\"            # linestyle for other circles\n)\n\n# plot pizza\nfig, ax = baker.make_pizza(\n    values,              # list of values\n    figsize=(8, 8),      # adjust figsize according to your need\n    param_location=110,  # where the parameters will be added\n    kwargs_slices=dict(\n        facecolor=\"cornflowerblue\", edgecolor=\"#000000\",\n        zorder=2, linewidth=1\n    ),                   # values to be used when plotting slices\n    kwargs_params=dict(\n        color=\"#000000\", fontsize=12,\n        fontproperties=font_normal.prop, va=\"center\"\n    ),                   # values to be used when adding parameter\n    kwargs_values=dict(\n        color=\"#000000\", fontsize=12,\n        fontproperties=font_normal.prop, zorder=3,\n        bbox=dict(\n            edgecolor=\"#000000\", facecolor=\"cornflowerblue\",\n            boxstyle=\"round,pad=0.2\", lw=1\n        )\n    )                    # values to be used when adding parameter-values\n)\n\n# add title\nfig.text(\n    0.515, 0.97, \"Robert Lewandowski - FC Bayern Munich\", size=18,\n    ha=\"center\", fontproperties=font_bold.prop, color=\"#000000\"\n)\n\n# add subtitle\nfig.text(\n    0.515, 0.942,\n    \"Percentile Rank vs Top-Five League Forwards | Season 2020-21\",\n    size=15,\n    ha=\"center\", fontproperties=font_bold.prop, color=\"#000000\"\n)\n\n# add credits\nCREDIT_1 = \"data: statsbomb viz fbref\"\nCREDIT_2 = \"inspired by: @Worville, @FootballSlices, @somazerofc & @Soumyaj15209314\"\n\nfig.text(\n    0.99, 0.005, f\"{CREDIT_1}\\n{CREDIT_2}\", size=9,\n    fontproperties=font_italic.prop, color=\"#000000\",\n    ha=\"right\"\n)\n\nplt.show()"
      ]
    },
    {
      "cell_type": "markdown",
      "metadata": {},
      "source": [
        "## Adding Image\nOne can add image to the pizza plot. The process is like this: first increase the size of the\ncenter circle by using ``inner_circle_size`` argument inside ``PyPizza``\nand then using ``add_image`` method to plot the image at the center.\n\nHack: You can use [Image-Online.co](https://crop-circle.imageonline.co/)\nto crop a circle in image online and then use that image for plotting.\n\n"
      ]
    },
    {
      "cell_type": "code",
      "execution_count": null,
      "metadata": {
        "collapsed": false
      },
      "outputs": [],
      "source": [
        "# instantiate PyPizza class\nbaker = PyPizza(\n    params=params,                  # list of params\n    straight_line_color=\"#000000\",  # color for straight lines\n    straight_line_lw=1,             # linewidth for straight lines\n    last_circle_lw=1,               # linewidth of last circle\n    other_circle_lw=1,              # linewidth for other circles\n    other_circle_ls=\"-.\",           # linestyle for other circles\n    inner_circle_size=20            # increase the circle size\n)\n\n# plot pizza\nfig, ax = baker.make_pizza(\n    values,              # list of values\n    figsize=(8, 8),      # adjust figsize according to your need\n    param_location=110,  # where the parameters will be added\n    kwargs_slices=dict(\n        facecolor=\"cornflowerblue\", edgecolor=\"#000000\",\n        zorder=2, linewidth=1\n    ),                   # values to be used when plotting slices\n    kwargs_params=dict(\n        color=\"#000000\", fontsize=12,\n        fontproperties=font_normal.prop, va=\"center\"\n    ),                   # values to be used when adding parameter\n    kwargs_values=dict(\n        color=\"#000000\", fontsize=12,\n        fontproperties=font_normal.prop, zorder=3,\n        bbox=dict(\n            edgecolor=\"#000000\", facecolor=\"cornflowerblue\",\n            boxstyle=\"round,pad=0.2\", lw=1\n        )\n    )                    # values to be used when adding parameter-values\n)\n\n# add title\nfig.text(\n    0.515, 0.97, \"Robert Lewandowski - FC Bayern Munich\", size=18,\n    ha=\"center\", fontproperties=font_bold.prop, color=\"#000000\"\n)\n\n# add subtitle\nfig.text(\n    0.515, 0.942,\n    \"Percentile Rank vs Top-Five League Forwards | Season 2020-21\",\n    size=15,\n    ha=\"center\", fontproperties=font_bold.prop, color=\"#000000\"\n)\n\n# add credits\nCREDIT_1 = \"data: statsbomb viz fbref\"\nCREDIT_2 = \"inspired by: @Worville, @FootballSlices, @somazerofc & @Soumyaj15209314\"\n\nfig.text(\n    0.99, 0.005, f\"{CREDIT_1}\\n{CREDIT_2}\", size=9,\n    fontproperties=font_italic.prop, color=\"#000000\",\n    ha=\"right\"\n)\n\n# add image\nax_image = add_image(\n    lewa_cropped, fig, left=0.4478, bottom=0.4315, width=0.13, height=0.127\n)   # these values might differ when you are plotting\n\nplt.show()"
      ]
    },
    {
      "cell_type": "markdown",
      "metadata": {},
      "source": [
        "## Adding Colors To Blank Spaces\nOne can even add colors to blank spaces, ``color_blank_space``\nis used for specifying the colors. There are two options that users can use.\nIf ``color_blank_space=\"same\"`` is passed then the slice-color with lower alpha\nvalue will be used to color the blank space. If a list of color is passed to\n``color_blank_space`` then those colors will be used. The user can set the alpha\nfor blank-space using ``blank_alpha`` argument.\n\n"
      ]
    },
    {
      "cell_type": "code",
      "execution_count": null,
      "metadata": {
        "collapsed": false
      },
      "outputs": [],
      "source": [
        "# instantiate PyPizza class\nbaker = PyPizza(\n    params=params,                  # list of parameters\n    straight_line_color=\"#F2F2F2\",  # color for straight lines\n    straight_line_lw=1,             # linewidth for straight lines\n    last_circle_lw=0,               # linewidth of last circle\n    other_circle_lw=0,              # linewidth for other circles\n)\n\n# plot pizza\nfig, ax = baker.make_pizza(\n    values,                     # list of values\n    figsize=(8, 8),             # adjust figsize according to your need\n    color_blank_space=\"same\",   # use same color to fill blank space\n    blank_alpha=0.4,            # alpha for blank-space colors\n    kwargs_slices=dict(\n        facecolor=\"cornflowerblue\", edgecolor=\"#F2F2F2\",\n        zorder=2, linewidth=1\n    ),                          # values to be used when plotting slices\n    kwargs_params=dict(\n        color=\"#000000\", fontsize=12,\n        fontproperties=font_normal.prop, va=\"center\"\n    ),                          # values to be used when adding parameter\n    kwargs_values=dict(\n        color=\"#000000\", fontsize=12,\n        fontproperties=font_normal.prop, zorder=3,\n        bbox=dict(\n            edgecolor=\"#000000\", facecolor=\"cornflowerblue\",\n            boxstyle=\"round,pad=0.2\", lw=1\n        )\n    )                           # values to be used when adding parameter-values\n)\n\n# add title\nfig.text(\n    0.515, 0.97, \"Robert Lewandowski - FC Bayern Munich\", size=18,\n    ha=\"center\", fontproperties=font_bold.prop, color=\"#000000\"\n)\n\n# add subtitle\nfig.text(\n    0.515, 0.942,\n    \"Percentile Rank vs Top-Five League Forwards | Season 2020-21\",\n    size=15,\n    ha=\"center\", fontproperties=font_bold.prop, color=\"#000000\"\n)\n\n# add credits\nCREDIT_1 = \"data: statsbomb viz fbref\"\nCREDIT_2 = \"inspired by: @Worville, @FootballSlices, @somazerofc & @Soumyaj15209314\"\n\nfig.text(\n    0.99, 0.005, f\"{CREDIT_1}\\n{CREDIT_2}\", size=9,\n    fontproperties=font_italic.prop, color=\"#000000\",\n    ha=\"right\"\n)\n\nplt.show()"
      ]
    },
    {
      "cell_type": "markdown",
      "metadata": {},
      "source": [
        "## Adding Colors To Blank Spaces (2)\nHere we will pass a list of color to fill the blank spaces.\n\n"
      ]
    },
    {
      "cell_type": "code",
      "execution_count": null,
      "metadata": {
        "collapsed": false
      },
      "outputs": [],
      "source": [
        "# instantiate PyPizza class\nbaker = PyPizza(\n    params=params,                  # list of parameters\n    straight_line_color=\"#F2F2F2\",  # color for straight lines\n    straight_line_lw=1,             # linewidth for straight lines\n    last_circle_lw=0,               # linewidth of last circle\n    other_circle_lw=0,              # linewidth for other circles\n)\n\n# plot pizza\nfig, ax = baker.make_pizza(\n    values,                                      # list of values\n    figsize=(8, 8),                              # adjust figsize according to your need\n    color_blank_space=[\"#C5C5C5\"]*len(params),   # use same color to fill blank space\n    blank_alpha=0.4,                             # alpha for blank-space colors\n    kwargs_slices=dict(\n        facecolor=\"cornflowerblue\", edgecolor=\"#F2F2F2\",\n        zorder=2, linewidth=1\n    ),                                           # values to be used when plotting slices\n    kwargs_params=dict(\n        color=\"#000000\", fontsize=12,\n        fontproperties=font_normal.prop, va=\"center\"\n    ),                                           # values to be used when adding parameter\n    kwargs_values=dict(\n        color=\"#000000\", fontsize=12,\n        fontproperties=font_normal.prop, zorder=3,\n        bbox=dict(\n            edgecolor=\"#000000\", facecolor=\"cornflowerblue\",\n            boxstyle=\"round,pad=0.2\", lw=1\n        )\n    )                                            # values to be used when adding parameter-values\n)\n\n# add title\nfig.text(\n    0.515, 0.97, \"Robert Lewandowski - FC Bayern Munich\", size=18,\n    ha=\"center\", fontproperties=font_bold.prop, color=\"#000000\"\n)\n\n# add subtitle\nfig.text(\n    0.515, 0.942,\n    \"Percentile Rank vs Top-Five League Forwards | Season 2020-21\",\n    size=15,\n    ha=\"center\", fontproperties=font_bold.prop, color=\"#000000\"\n)\n\n# add credits\nCREDIT_1 = \"data: statsbomb viz fbref\"\nCREDIT_2 = \"inspired by: @Worville, @FootballSlices, @somazerofc & @Soumyaj15209314\"\n\nfig.text(\n    0.99, 0.005, f\"{CREDIT_1}\\n{CREDIT_2}\", size=9,\n    fontproperties=font_italic.prop, color=\"#000000\",\n    ha=\"right\"\n)\n\nplt.show()"
      ]
    }
  ],
  "metadata": {
    "kernelspec": {
      "display_name": "Python 3",
      "language": "python",
      "name": "python3"
    },
    "language_info": {
      "codemirror_mode": {
        "name": "ipython",
        "version": 3
      },
      "file_extension": ".py",
      "mimetype": "text/x-python",
      "name": "python",
      "nbconvert_exporter": "python",
      "pygments_lexer": "ipython3",
      "version": "3.11.0"
    }
  },
  "nbformat": 4,
  "nbformat_minor": 0
}
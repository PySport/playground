{
  "cells": [
    {
      "cell_type": "markdown",
      "metadata": {},
      "source": [
        "## *Setup required for Playground*\n",
        "\n",
        "The online playground requires a little bit of code to run first."
      ]
    },
    {
      "cell_type": "code",
      "execution_count": null,
      "metadata": {},
      "outputs": [],
      "source": [
        "%pip install requests\n",
        "# Patch requests to make it work in the browser\n",
        "import pyodide_http\n",
        "pyodide_http.patch_all()"
      ]
    },
    {
      "cell_type": "code",
      "execution_count": null,
      "metadata": {},
      "outputs": [],
      "source": [
        "%pip install mplsoccer highlight_text pandas"
      ]
    },
    {
      "cell_type": "markdown",
      "metadata": {},
      "source": [
        "Original notebook can be found [here](https://mplsoccer.readthedocs.io/en/latest/_downloads/85545abab4375813e2accc6fb5922856/plot_pizza_comparison.ipynb)"
      ]
    },
    {
      "cell_type": "code",
      "execution_count": null,
      "metadata": {
        "collapsed": false
      },
      "outputs": [],
      "source": [
        "%matplotlib inline"
      ]
    },
    {
      "cell_type": "markdown",
      "metadata": {},
      "source": [
        "\n# Comparison Pizza (Percentiles)\n\n* Author: [slothfulwave612](https://twitter.com/slothfulwave612)\n\n* ``mplsoccer``, ``py_pizza`` module helps one to plot pizza charts in a few lines of code.\n\n* The design idea is inspired by [Tom Worville](https://twitter.com/Worville), [Football Slices](https://twitter.com/FootballSlices) and [Soma Zero FC](https://twitter.com/somazerofc)\n\n* We have re-written [Soumyajit Bose's](https://twitter.com/Soumyaj15209314)  pizza chart code to enable greater customisation.\n\nHere we plot a pizza chart for comparing two players.\n"
      ]
    },
    {
      "cell_type": "code",
      "execution_count": null,
      "metadata": {
        "collapsed": false
      },
      "outputs": [],
      "source": [
        "import matplotlib.pyplot as plt\nfrom highlight_text import fig_text\n\nfrom mplsoccer import PyPizza, FontManager"
      ]
    },
    {
      "cell_type": "markdown",
      "metadata": {},
      "source": [
        "## Load some fonts\nWe will use mplsoccer's FontManager to load some fonts from Google Fonts.\nWe borrowed the FontManager from the excellent\n[ridge_map library](https://github.com/ColCarroll/ridge_map).\n\n"
      ]
    },
    {
      "cell_type": "code",
      "execution_count": null,
      "metadata": {
        "collapsed": false
      },
      "outputs": [],
      "source": [
        "font_normal = FontManager('https://raw.githubusercontent.com/google/fonts/main/apache/roboto/'\n                          'Roboto%5Bwdth,wght%5D.ttf')\nfont_italic = FontManager('https://raw.githubusercontent.com/google/fonts/main/apache/roboto/'\n                          'Roboto-Italic%5Bwdth,wght%5D.ttf')\nfont_bold = FontManager('https://raw.githubusercontent.com/google/fonts/main/apache/robotoslab/'\n                        'RobotoSlab%5Bwght%5D.ttf')"
      ]
    },
    {
      "cell_type": "markdown",
      "metadata": {},
      "source": [
        "## Comparison Chart\nTo plot comparison chart one have to pass list of values to ``compare_values`` argument.\n\n"
      ]
    },
    {
      "cell_type": "code",
      "execution_count": null,
      "metadata": {
        "collapsed": false
      },
      "outputs": [],
      "source": [
        "# parameter and values list\n# The values are taken from the excellent fbref website (supplied by StatsBomb)\nparams = [\n    \"Non-Penalty Goals\", \"npxG\", \"npxG per Shot\", \"xA\",\n    \"Open Play\\nShot Creating Actions\", \"\\nPenalty Area\\nEntries\",\n    \"Progressive Passes\", \"Progressive Carries\", \"Successful Dribbles\",\n    \"\\nTouches\\nper Turnover\", \"pAdj\\nPress Regains\", \"Aerials Won\"\n]\nvalues = [99, 99, 87, 51, 62, 58, 45, 40, 27, 74, 77, 73]    # for Robert Lewandowski\nvalues_2 = [83, 75, 55, 62, 72, 92, 92, 79, 64, 92, 68, 31]  # for Mohamed Salah\n\n# instantiate PyPizza class\nbaker = PyPizza(\n    params=params,                  # list of parameters\n    background_color=\"#EBEBE9\",     # background color\n    straight_line_color=\"#222222\",  # color for straight lines\n    straight_line_lw=1,             # linewidth for straight lines\n    last_circle_lw=1,               # linewidth of last circle\n    last_circle_color=\"#222222\",    # color of last circle\n    other_circle_ls=\"-.\",           # linestyle for other circles\n    other_circle_lw=1               # linewidth for other circles\n)\n\n# plot pizza\nfig, ax = baker.make_pizza(\n    values,                     # list of values\n    compare_values=values_2,    # comparison values\n    figsize=(8, 8),             # adjust figsize according to your need\n    kwargs_slices=dict(\n        facecolor=\"#1A78CF\", edgecolor=\"#222222\",\n        zorder=2, linewidth=1\n    ),                          # values to be used when plotting slices\n    kwargs_compare=dict(\n        facecolor=\"#FF9300\", edgecolor=\"#222222\",\n        zorder=2, linewidth=1,\n    ),\n    kwargs_params=dict(\n        color=\"#000000\", fontsize=12,\n        fontproperties=font_normal.prop, va=\"center\"\n    ),                          # values to be used when adding parameter\n    kwargs_values=dict(\n        color=\"#000000\", fontsize=12,\n        fontproperties=font_normal.prop, zorder=3,\n        bbox=dict(\n            edgecolor=\"#000000\", facecolor=\"cornflowerblue\",\n            boxstyle=\"round,pad=0.2\", lw=1\n        )\n    ),                          # values to be used when adding parameter-values labels\n    kwargs_compare_values=dict(\n        color=\"#000000\", fontsize=12, fontproperties=font_normal.prop, zorder=3,\n        bbox=dict(edgecolor=\"#000000\", facecolor=\"#FF9300\", boxstyle=\"round,pad=0.2\", lw=1)\n    ),                          # values to be used when adding parameter-values labels\n)\n\n# add title\nfig_text(\n    0.515, 0.99, \"<Robert Lewandowski> vs <Mohamed Salah>\", size=17, fig=fig,\n    highlight_textprops=[{\"color\": '#1A78CF'}, {\"color\": '#EE8900'}],\n    ha=\"center\", fontproperties=font_bold.prop, color=\"#000000\"\n)\n\n# add subtitle\nfig.text(\n    0.515, 0.942,\n    \"Percentile Rank vs Top-Five League Forwards | Season 2020-21\",\n    size=15,\n    ha=\"center\", fontproperties=font_bold.prop, color=\"#000000\"\n)\n\n# add credits\nCREDIT_1 = \"data: statsbomb viz fbref\"\nCREDIT_2 = \"inspired by: @Worville, @FootballSlices, @somazerofc & @Soumyaj15209314\"\n\nfig.text(\n    0.99, 0.005, f\"{CREDIT_1}\\n{CREDIT_2}\", size=9,\n    fontproperties=font_italic.prop, color=\"#000000\",\n    ha=\"right\"\n)\n\nplt.show()"
      ]
    },
    {
      "cell_type": "markdown",
      "metadata": {},
      "source": [
        "## Adjust Overlapping Values\nTo adjust overlapping values one can use ``adjust_texts()`` method.\nThe user have to pass ``params_offset`` list\nwhich will contain bool values denoting which parameter's text is to be adjusted,\nan ``offset`` value denoting how much adjustment will be made,\nand if the user wants to adjust the comparison-text then can pass\n``adj_comp_values=True`` to the ``adjust_texts()`` method. Below is an example code.\n\n"
      ]
    },
    {
      "cell_type": "code",
      "execution_count": null,
      "metadata": {
        "collapsed": false
      },
      "outputs": [],
      "source": [
        "# parameter and values list\nparams = [\n    \"Non-Penalty Goals\", \"npxG\", \"npxG per Shot\", \"xA\",\n    \"Open Play\\nShot Creating Actions\", \"\\nPenalty Area\\nEntries\",\n    \"Progressive Passes\", \"Progressive Carries\", \"Successful Dribbles\",\n    \"\\nTouches\\nper Turnover\", \"pAdj\\nPress Regains\", \"Aerials Won\"\n]\n\n# dummy values\nvalues = [15, 7, 57, 86, 63, 51, 11, 32, 85, 69, 90, 54]    # for Player 1\nvalues_2 = [31, 41, 43, 42, 47, 24, 60, 60, 28, 70, 92, 64]  # for Player 2\n\n# pass True in that parameter-index whose values are to be adjusted\n# here True values are passed for \"\\nTouches\\nper Turnover\" and \"pAdj\\nPress Regains\" params\nparams_offset = [\n    False, False, False, False, False, False,\n    False, False, False, True, True, False\n]\n\n# instantiate PyPizza class\nbaker = PyPizza(\n    params=params,                  # list of parameters\n    background_color=\"#EBEBE9\",     # background color\n    straight_line_color=\"#222222\",  # color for straight lines\n    straight_line_lw=1,             # linewidth for straight lines\n    last_circle_lw=1,               # linewidth of last circle\n    last_circle_color=\"#222222\",    # color of last circle\n    other_circle_ls=\"-.\",           # linestyle for other circles\n    other_circle_lw=1               # linewidth for other circles\n)\n\n# plot pizza\nfig, ax = baker.make_pizza(\n    values,                     # list of values\n    compare_values=values_2,    # comparison values\n    figsize=(8, 8),             # adjust figsize according to your need\n    kwargs_slices=dict(\n        facecolor=\"#1A78CF\", edgecolor=\"#222222\",\n        zorder=2, linewidth=1\n    ),                          # values to be used when plotting slices\n    kwargs_compare=dict(\n        facecolor=\"#FF9300\", edgecolor=\"#222222\",\n        zorder=2, linewidth=1,\n    ),\n    kwargs_params=dict(\n        color=\"#000000\", fontsize=12,\n        fontproperties=font_normal.prop, va=\"center\"\n    ),                          # values to be used when adding parameter\n    kwargs_values=dict(\n        color=\"#000000\", fontsize=12,\n        fontproperties=font_normal.prop, zorder=3,\n        bbox=dict(\n            edgecolor=\"#000000\", facecolor=\"cornflowerblue\",\n            boxstyle=\"round,pad=0.2\", lw=1\n        )\n    ),                          # values to be used when adding parameter-values labels\n    kwargs_compare_values=dict(\n        color=\"#000000\", fontsize=12, fontproperties=font_normal.prop, zorder=3,\n        bbox=dict(edgecolor=\"#000000\", facecolor=\"#FF9300\", boxstyle=\"round,pad=0.2\", lw=1)\n    ),                          # values to be used when adding parameter-values labels\n)\n\n\n# adjust text for comparison-values-text\nbaker.adjust_texts(params_offset, offset=-0.17, adj_comp_values=True)\n\n# add title\nfig_text(\n    0.515, 0.99, \"<Player 1> vs <Player 2>\", size=17, fig=fig,\n    highlight_textprops=[{\"color\": '#1A78CF'}, {\"color\": '#EE8900'}],\n    ha=\"center\", fontproperties=font_bold.prop, color=\"#000000\"\n)\n\n# add subtitle\nfig.text(\n    0.515, 0.942,\n    \"Percentile Rank Chart\",\n    size=15,\n    ha=\"center\", fontproperties=font_bold.prop, color=\"#000000\"\n)\n\n# add credits\nCREDIT_1 = \"dummy-data\"\nCREDIT_2 = \"inspired by: @Worville, @FootballSlices, @somazerofc & @Soumyaj15209314\"\n\nfig.text(\n    0.99, 0.005, f\"{CREDIT_1}\\n{CREDIT_2}\", size=9,\n    fontproperties=font_italic.prop, color=\"#000000\",\n    ha=\"right\"\n)\n\nplt.show()"
      ]
    }
  ],
  "metadata": {
    "kernelspec": {
      "display_name": "Python 3",
      "language": "python",
      "name": "python3"
    },
    "language_info": {
      "codemirror_mode": {
        "name": "ipython",
        "version": 3
      },
      "file_extension": ".py",
      "mimetype": "text/x-python",
      "name": "python",
      "nbconvert_exporter": "python",
      "pygments_lexer": "ipython3",
      "version": "3.11.0"
    }
  },
  "nbformat": 4,
  "nbformat_minor": 0
}
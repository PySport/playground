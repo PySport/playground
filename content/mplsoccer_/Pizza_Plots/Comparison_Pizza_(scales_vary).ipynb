{
  "cells": [
    {
      "cell_type": "markdown",
      "metadata": {},
      "source": [
        "## *Setup required for Playground*\n",
        "\n",
        "The online playground requires a little bit of code to run first."
      ]
    },
    {
      "cell_type": "code",
      "execution_count": null,
      "metadata": {},
      "outputs": [],
      "source": [
        "%pip install requests\n",
        "# Patch requests to make it work in the browser\n",
        "import pyodide_http\n",
        "pyodide_http.patch_all()"
      ]
    },
    {
      "cell_type": "code",
      "execution_count": null,
      "metadata": {},
      "outputs": [],
      "source": [
        "%pip install mplsoccer==1.1.12 highlight_text pandas"
      ]
    },
    {
      "cell_type": "markdown",
      "metadata": {},
      "source": [
        "Original notebook can be found [here](https://mplsoccer.readthedocs.io/en/latest/_downloads/e0006fa41e6fe557f5fecf7bfecc7b51/plot_pizza_comparison_vary_scales.ipynb)"
      ]
    },
    {
      "cell_type": "markdown",
      "metadata": {},
      "source": [
        "\n# Comparison Pizza (scales vary)\n\n* Author: [slothfulwave612](https://twitter.com/slothfulwave612)\n\n* ``mplsoccer``, ``py_pizza`` module helps one to plot pizza charts in a few lines of code.\n\n* The design idea is inspired by [Tom Worville](https://twitter.com/Worville), [Football Slices](https://twitter.com/FootballSlices) and [Soma Zero FC](https://twitter.com/somazerofc)\n\n* We have re-written [Soumyajit Bose's](https://twitter.com/Soumyaj15209314)  pizza chart code to enable greater customisation.\n\nHere we plot a pizza chart for comparing two players where the parameters have a different\nmaximum and minimum value.\n"
      ]
    },
    {
      "cell_type": "code",
      "execution_count": null,
      "metadata": {
        "collapsed": false
      },
      "outputs": [],
      "source": [
        "import matplotlib.pyplot as plt\nfrom highlight_text import fig_text\n\nfrom mplsoccer import PyPizza, FontManager"
      ]
    },
    {
      "cell_type": "markdown",
      "metadata": {},
      "source": [
        "## Load some fonts\nWe will use mplsoccer's FontManager to load some fonts from Google Fonts.\nWe borrowed the FontManager from the excellent\n[ridge_map library](https://github.com/ColCarroll/ridge_map).\n\n"
      ]
    },
    {
      "cell_type": "code",
      "execution_count": null,
      "metadata": {
        "collapsed": false
      },
      "outputs": [],
      "source": [
        "font_normal = FontManager('https://raw.githubusercontent.com/googlefonts/roboto/main/'\n                          'src/hinted/Roboto-Regular.ttf')\nfont_italic = FontManager('https://raw.githubusercontent.com/googlefonts/roboto/main/'\n                          'src/hinted/Roboto-Italic.ttf')\nfont_bold = FontManager('https://raw.githubusercontent.com/google/fonts/main/apache/robotoslab/'\n                        'RobotoSlab[wght].ttf')"
      ]
    },
    {
      "cell_type": "markdown",
      "metadata": {},
      "source": [
        "## Comparison Chart With Different Scales\nTo plot comparison chart one have to pass list of values to ``compare_values`` argument.\nHere we also supply a ``min_range`` and ``max_range`` for each parameter so\nthat the scale varies for each parameter.\n\n"
      ]
    },
    {
      "cell_type": "code",
      "execution_count": null,
      "metadata": {
        "collapsed": false
      },
      "outputs": [],
      "source": [
        "# parameter and value list\n# The values are taken from the excellent fbref website (supplied by StatsBomb)\nparams = [\n    \"Passing %\", \"Deep Progression\", \"xG Assisted\", \"xG Buildup\",\n    \"Successful Dribbles\", \"Fouls Won\", \"Turnovers\", \"Pressure Regains\",\n    \"pAdj Tackles\", \"pAdj Interceptions\"\n]\nvalues = [82, 9.94, 0.22, 1.58, 1.74, 1.97, 2.43, 2.81, 3.04, 0.92]    # Putellas\nvalues_2 = [76, 4.56, 0.09, 0.46, 1.08, 1.28, 1.84, 3.16, 2.66, 1.51]  # League Average\n\n# minimum range value and maximum range value for parameters\nmin_range = [74, 3.3, 0.03, 0.28, 0.4, 0.7, 2.6, 2.4, 1.1, 0.7]\nmax_range = [90, 9.7, 0.20, 0.89, 2.1, 2.7, 0.4, 5.1, 3.7, 2.5]\n\n# instantiate PyPizza class\nbaker = PyPizza(\n    params=params,\n    min_range=min_range,        # min range values\n    max_range=max_range,        # max range values\n    background_color=\"#222222\", straight_line_color=\"#000000\",\n    last_circle_color=\"#000000\", last_circle_lw=2.5, other_circle_lw=0,\n    other_circle_color=\"#000000\", straight_line_lw=1\n)\n\n# plot pizza\nfig, ax = baker.make_pizza(\n    values,                     # list of values\n    compare_values=values_2,    # passing comparison values\n    figsize=(8, 8),             # adjust figsize according to your need\n    color_blank_space=\"same\",   # use same color to fill blank space\n    blank_alpha=0.4,            # alpha for blank-space colors\n    param_location=110,         # where the parameters will be added\n    kwargs_slices=dict(\n        facecolor=\"#1A78CF\", edgecolor=\"#000000\",\n        zorder=1, linewidth=1\n    ),                          # values to be used when plotting slices\n    kwargs_compare=dict(\n        facecolor=\"#ff9300\", edgecolor=\"#222222\", zorder=3, linewidth=1,\n    ),                          # values to be used when plotting comparison slices\n    kwargs_params=dict(\n        color=\"#F2F2F2\", fontsize=12, zorder=5,\n        fontproperties=font_normal.prop, va=\"center\"\n    ),                          # values to be used when adding parameter\n    kwargs_values=dict(\n        color=\"#000000\", fontsize=12,\n        fontproperties=font_normal.prop, zorder=3,\n        bbox=dict(\n            edgecolor=\"#000000\", facecolor=\"#1A78CF\",\n            boxstyle=\"round,pad=0.2\", lw=1\n        )\n    ),                           # values to be used when adding parameter-values\n    kwargs_compare_values=dict(\n        color=\"#000000\", fontsize=12,\n        fontproperties=font_normal.prop, zorder=3,\n        bbox=dict(\n            edgecolor=\"#000000\", facecolor=\"#FF9300\",\n            boxstyle=\"round,pad=0.2\", lw=1\n        )\n    )                            # values to be used when adding comparison-values\n)\n\n# add title\nfig_text(\n    0.515, 0.99, \"<Alexia Putellas> vs <League Average>\",\n    size=16, fig=fig,\n    highlight_textprops=[{\"color\": '#1A78CF'}, {\"color\": '#FF9300'}],\n    ha=\"center\", fontproperties=font_bold.prop, color=\"#F2F2F2\"\n)\n\n# add subtitle\nfig.text(\n    0.515, 0.942,\n    \"Primera Divisi\u00f3n Femenina | Season 2020-21 | 90s Played: 13.2\",\n    size=15,\n    ha=\"center\", fontproperties=font_bold.prop, color=\"#F2F2F2\"\n)\n\n# add credits\nCREDIT_1 = \"data: statsbomb viz fbref\"\nCREDIT_2 = \"inspired by: @Worville, @FootballSlices, @somazerofc & @Soumyaj15209314\"\n\nfig.text(\n    0.99, 0.005, f\"{CREDIT_1}\\n{CREDIT_2}\", size=9,\n    fontproperties=font_italic.prop, color=\"#F2F2F2\",\n    ha=\"right\"\n)\n\nplt.show()"
      ]
    },
    {
      "cell_type": "markdown",
      "metadata": {},
      "source": [
        "## Adjust Overlapping Values\nTo adjust overlapping values one can use ``adjust_texts()`` method.\nThe user have to pass ``params_offset`` list which will contain bool values denoting\nwhich parameter's text is to be adjusted, an ``offset`` value denoting\nhow much adjustment will be made, and if the user wants to adjust\nthe comparison-text then can pass  ``adj_comp_values=True`` to the ``adjust_texts()`` method.\nBelow is an example code.\n\n"
      ]
    },
    {
      "cell_type": "code",
      "execution_count": null,
      "metadata": {
        "collapsed": false
      },
      "outputs": [],
      "source": [
        "# parameter and values list\nparams = [\n    \"Passing %\", \"Deep Progression\", \"xG Assisted\", \"xG Buildup\",\n    \"Successful Dribbles\", \"Fouls Won\", \"Turnovers\", \"Pressure Regains\",\n    \"pAdj Tackles\", \"pAdj Interceptions\"\n]\nvalues = [85, 6.94, 0.15, 0.58, 1.74, 1.97, 2.43, 4.27, 2.88, 0.92]    # player 1\nvalues_2 = [76, 4.56, 0.09, 0.46, 1.08, 1.28, 1.84, 4.16, 2.66, 1.51]  # player 2\n\n# minimum range value and maximum range value for parameters\nmin_range = [74, 3.3, 0.03, 0.28, 0.4, 0.7, 2.6, 2.4, 1.1, 0.7]\nmax_range = [90, 9.7, 0.20, 0.89, 2.1, 2.7, 0.4, 5.1, 3.7, 2.5]\n\n# pass True in that parameter-index whose values are to be adjusted\n# here True values are passed for \"Pressure Regains\", \"pAdj Tackles\" params\nparams_offset = [\n    False, False, False, False, False,\n    False, False, True, True, False\n]\n\n# instantiate PyPizza class\nbaker = PyPizza(\n    params=params,\n    min_range=min_range,        # min range values\n    max_range=max_range,        # max range values\n    background_color=\"#222222\", straight_line_color=\"#000000\",\n    last_circle_color=\"#000000\", last_circle_lw=2.5, other_circle_lw=0,\n    other_circle_color=\"#000000\", straight_line_lw=1\n)\n\n# plot pizza\nfig, ax = baker.make_pizza(\n    values,                     # list of values\n    compare_values=values_2,    # passing comparison values\n    figsize=(8, 8),             # adjust figsize according to your need\n    color_blank_space=\"same\",   # use same color to fill blank space\n    blank_alpha=0.4,            # alpha for blank-space colors\n    param_location=110,         # where the parameters will be added\n    kwargs_slices=dict(\n        facecolor=\"#1A78CF\", edgecolor=\"#000000\",\n        zorder=1, linewidth=1\n    ),                          # values to be used when plotting slices\n    kwargs_compare=dict(\n        facecolor=\"#ff9300\", edgecolor=\"#222222\", zorder=3, linewidth=1,\n    ),                          # values to be used when plotting comparison slices\n    kwargs_params=dict(\n        color=\"#F2F2F2\", fontsize=12, zorder=5,\n        fontproperties=font_normal.prop, va=\"center\"\n    ),                          # values to be used when adding parameter\n    kwargs_values=dict(\n        color=\"#000000\", fontsize=12,\n        fontproperties=font_normal.prop, zorder=3,\n        bbox=dict(\n            edgecolor=\"#000000\", facecolor=\"#1A78CF\",\n            boxstyle=\"round,pad=0.2\", lw=1\n        )\n    ),                           # values to be used when adding parameter-values\n    kwargs_compare_values=dict(\n        color=\"#000000\", fontsize=12,\n        fontproperties=font_normal.prop, zorder=3,\n        bbox=dict(\n            edgecolor=\"#000000\", facecolor=\"#FF9300\",\n            boxstyle=\"round,pad=0.2\", lw=1\n        )\n    )                            # values to be used when adding comparison-values\n)\n\n\n# adjust the texts\n# to adjust text for comparison-values-text pass adj_comp_values=True\nbaker.adjust_texts(params_offset, offset=-0.17)\n\n# add title\nfig_text(\n    0.515, 0.99, \"<Player 1> vs <Player 2>\",\n    size=16, fig=fig,\n    highlight_textprops=[{\"color\": '#1A78CF'}, {\"color\": '#FF9300'}],\n    ha=\"center\", fontproperties=font_bold.prop, color=\"#F2F2F2\"\n)\n\n# add credits\nCREDIT_1 = \"dummy data\"\nCREDIT_2 = \"inspired by: @Worville, @FootballSlices, @somazerofc & @Soumyaj15209314\"\n\nfig.text(\n    0.99, 0.005, f\"{CREDIT_1}\\n{CREDIT_2}\", size=9,\n    fontproperties=font_italic.prop, color=\"#F2F2F2\",\n    ha=\"right\"\n)\n\nplt.show()"
      ]
    }
  ],
  "metadata": {
    "kernelspec": {
      "display_name": "Python 3",
      "language": "python",
      "name": "python3"
    },
    "language_info": {
      "codemirror_mode": {
        "name": "ipython",
        "version": 3
      },
      "file_extension": ".py",
      "mimetype": "text/x-python",
      "name": "python",
      "nbconvert_exporter": "python",
      "pygments_lexer": "ipython3",
      "version": "3.11.8"
    }
  },
  "nbformat": 4,
  "nbformat_minor": 0
}
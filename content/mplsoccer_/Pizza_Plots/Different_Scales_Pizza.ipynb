{
  "cells": [
    {
      "cell_type": "markdown",
      "metadata": {},
      "source": [
        "## *Setup required for Playground*\n",
        "\n",
        "The online playground requires a little bit of code to run first."
      ]
    },
    {
      "cell_type": "code",
      "execution_count": null,
      "metadata": {},
      "outputs": [],
      "source": [
        "%pip install requests\n",
        "# Patch requests to make it work in the browser\n",
        "import pyodide_http\n",
        "pyodide_http.patch_all()"
      ]
    },
    {
      "cell_type": "code",
      "execution_count": null,
      "metadata": {},
      "outputs": [],
      "source": [
        "%pip install mplsoccer highlight_text pandas"
      ]
    },
    {
      "cell_type": "markdown",
      "metadata": {},
      "source": [
        "Original notebook can be found [here](https://mplsoccer.readthedocs.io/en/latest/_downloads/cb487bab89c573a3366f030fc1627e2a/plot_pizza_scales_vary.ipynb)"
      ]
    },
    {
      "cell_type": "code",
      "execution_count": null,
      "metadata": {
        "collapsed": false
      },
      "outputs": [],
      "source": [
        "%matplotlib inline"
      ]
    },
    {
      "cell_type": "markdown",
      "metadata": {},
      "source": [
        "\n# Different Scales Pizza\n\n* Author: [slothfulwave612](https://twitter.com/slothfulwave612)\n\n* ``mplsoccer``, ``py_pizza`` module helps one to plot pizza charts in a few lines of code.\n\n* The design idea is inspired by [Tom Worville](https://twitter.com/Worville), [Football Slices](https://twitter.com/FootballSlices) and [Soma Zero FC](https://twitter.com/somazerofc)\n\n* We have re-written [Soumyajit Bose's](https://twitter.com/Soumyaj15209314)  pizza chart code to enable greater customisation.\n\nHere we plot a pizza chart where each parameters has a different\nmaximum and minimum value.\n"
      ]
    },
    {
      "cell_type": "code",
      "execution_count": null,
      "metadata": {
        "collapsed": false
      },
      "outputs": [],
      "source": [
        "from urllib.request import urlopen\n\nimport matplotlib.pyplot as plt\nfrom PIL import Image\n\nfrom mplsoccer import PyPizza, add_image, FontManager"
      ]
    },
    {
      "cell_type": "markdown",
      "metadata": {},
      "source": [
        "## Load some fonts\nWe will use mplsoccer's FontManager to load some fonts from Google Fonts.\nWe borrowed the FontManager from the excellent\n[ridge_map library](https://github.com/ColCarroll/ridge_map).\n\n"
      ]
    },
    {
      "cell_type": "code",
      "execution_count": null,
      "metadata": {
        "collapsed": false
      },
      "outputs": [],
      "source": [
        "font_normal = FontManager('https://raw.githubusercontent.com/google/fonts/main/apache/roboto/'\n                          'Roboto%5Bwdth,wght%5D.ttf')\nfont_italic = FontManager('https://raw.githubusercontent.com/google/fonts/main/apache/roboto/'\n                          'Roboto-Italic%5Bwdth,wght%5D.ttf')\nfont_bold = FontManager('https://raw.githubusercontent.com/google/fonts/main/apache/robotoslab/'\n                        'RobotoSlab%5Bwght%5D.ttf')"
      ]
    },
    {
      "cell_type": "markdown",
      "metadata": {},
      "source": [
        "## Load Image\nLoad a cropped image of Alexia Putellas.\n\n"
      ]
    },
    {
      "cell_type": "code",
      "execution_count": null,
      "metadata": {
        "collapsed": false
      },
      "outputs": [],
      "source": [
        "URL = \"https://raw.githubusercontent.com/andrewRowlinson/mplsoccer-assets/main/putellas_cropped.png\"\nputellas_cropped = Image.open(urlopen(URL))"
      ]
    },
    {
      "cell_type": "markdown",
      "metadata": {},
      "source": [
        "## Slices With Different Scales\nLet's say you want to plot values for parameters with different range,\ne.g. for pass % parameter you have lower limit as 72 and upper limit as 92,\nfor npxG you have lower limit as 0.05 and upper limit as 0.25 so on.\nIn order to plot parameter and values like this see below example.\nWe will pass min-range-value and max-range-value for each parameter.\n\n"
      ]
    },
    {
      "cell_type": "code",
      "execution_count": null,
      "metadata": {
        "collapsed": false
      },
      "outputs": [],
      "source": [
        "# parameter and value list\n# The values are taken from the excellent fbref website (supplied by StatsBomb)\nparams = [\n    \"Passing %\", \"Deep Progression\", \"xG Assisted\", \"xG Buildup\",\n    \"Successful Dribbles\", \"Fouls Won\", \"Turnovers\", \"Pressure Regains\",\n    \"pAdj Tackles\", \"pAdj Interceptions\"\n]\nvalues = [82, 9.94, 0.22, 1.58, 1.74, 1.97, 2.43, 2.81, 3.04, 0.92]\n\n# minimum range value and maximum range value for parameters\nmin_range = [74, 3.3, 0.03, 0.28, 0.4, 0.7, 2.6, 2.4, 1.1, 0.7]\nmax_range = [90, 9.7, 0.20, 0.89, 2.1, 2.7, 0.4, 5.1, 3.7, 2.5]\n\n# instantiate PyPizza class\nbaker = PyPizza(\n    params=params,\n    min_range=min_range,        # min range values\n    max_range=max_range,        # max range values\n    background_color=\"#222222\", straight_line_color=\"#000000\",\n    last_circle_color=\"#000000\", last_circle_lw=2.5, straight_line_lw=1,\n    other_circle_lw=0, other_circle_color=\"#000000\", inner_circle_size=20,\n)\n\n# plot pizza\nfig, ax = baker.make_pizza(\n    values,                     # list of values\n    figsize=(8, 8),             # adjust figsize according to your need\n    color_blank_space=\"same\",   # use same color to fill blank space\n    blank_alpha=0.4,            # alpha for blank-space colors\n    param_location=110,         # where the parameters will be added\n    kwargs_slices=dict(\n        facecolor=\"#1A78CF\", edgecolor=\"#000000\",\n        zorder=1, linewidth=1\n    ),                          # values to be used when plotting slices\n    kwargs_params=dict(\n        color=\"#F2F2F2\", fontsize=12, zorder=5,\n        fontproperties=font_normal.prop, va=\"center\"\n    ),                          # values to be used when adding parameter\n    kwargs_values=dict(\n        color=\"#000000\", fontsize=12,\n        fontproperties=font_normal.prop, zorder=3,\n        bbox=dict(\n            edgecolor=\"#000000\", facecolor=\"#1A78CF\",\n            boxstyle=\"round,pad=0.2\", lw=1\n        )\n    )                           # values to be used when adding parameter-values\n)\n\n# add title\nfig.text(\n    0.515, 0.97, \"Alexia Putellas - FC Barcelona Femen\u00ed\", size=18,\n    ha=\"center\", fontproperties=font_bold.prop, color=\"#F2F2F2\"\n)\n\n# add subtitle\nfig.text(\n    0.515, 0.942,\n    \"Primera Divisi\u00f3n Femenina | Season 2020-21 | 90s Played: 13.2\",\n    size=15,\n    ha=\"center\", fontproperties=font_bold.prop, color=\"#F2F2F2\"\n)\n\n# add credits\nCREDIT_1 = \"data: statsbomb viz fbref\"\nCREDIT_2 = \"inspired by: @Worville, @FootballSlices, @somazerofc & @Soumyaj15209314\"\n\nfig.text(\n    0.99, 0.005, f\"{CREDIT_1}\\n{CREDIT_2}\", size=9,\n    fontproperties=font_italic.prop, color=\"#F2F2F2\",\n    ha=\"right\"\n)\n\n# add image\nax_image = add_image(\n    putellas_cropped, fig, left=0.4478, bottom=0.4315, width=0.13, height=0.127\n)   # these values might differ when you are plotting\n\nplt.show()"
      ]
    }
  ],
  "metadata": {
    "kernelspec": {
      "display_name": "Python 3",
      "language": "python",
      "name": "python3"
    },
    "language_info": {
      "codemirror_mode": {
        "name": "ipython",
        "version": 3
      },
      "file_extension": ".py",
      "mimetype": "text/x-python",
      "name": "python",
      "nbconvert_exporter": "python",
      "pygments_lexer": "ipython3",
      "version": "3.11.0"
    }
  },
  "nbformat": 4,
  "nbformat_minor": 0
}
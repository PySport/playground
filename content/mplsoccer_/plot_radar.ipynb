{
 "cells": [
  {
   "cell_type": "markdown",
   "metadata": {},
   "source": [
    "## *Setup required for Playground*\n",
    "\n",
    "The online playground requires a little bit of code to run first."
   ]
  },
  {
   "cell_type": "code",
   "execution_count": null,
   "metadata": {},
   "outputs": [],
   "source": [
    "import micropip\n",
    "await micropip.install('pyodide-http')\n",
    "await micropip.install('mplsoccer')\n",
    "await micropip.install('requests')\n",
    "\n",
    "import pyodide_http\n",
    "pyodide_http.patch_all()"
   ]
  },
  {
   "cell_type": "code",
   "execution_count": null,
   "metadata": {},
   "outputs": [],
   "source": [
    "%matplotlib inline"
   ]
  },
  {
   "cell_type": "markdown",
   "metadata": {},
   "source": [
    "You can find the original notebook [here](https://mplsoccer.readthedocs.io/en/latest/gallery/radar/plot_radar.html)\n",
    "\n",
    "# Radar Charts\n",
    "\n",
    "* ``mplsoccer``, ``radar_chart`` module helps one to plot radar charts in a few lines of code.\n",
    "\n",
    "* The radar-chart inspiration is [StatsBomb](https://twitter.com/StatsBomb/)\n",
    "  and [Rami Moghadam](https://cargocollective.com/ramimo/2013-NBA-All-Stars)\n",
    "\n",
    "* Here we will show some examples of how to use ``mplsoccer`` to plot radar charts.\n",
    "\n",
    "We have re-written the [Soccerplots](https://github.com/Slothfulwave612/soccerplots)  Radar module\n",
    "to enable greater customisation of the Radar. You can now set the edge color, decide the number of\n",
    "concentric circles, and use hatching or path_effects.\n"
   ]
  },
  {
   "cell_type": "code",
   "execution_count": null,
   "metadata": {},
   "outputs": [],
   "source": [
    "from mplsoccer import Radar, FontManager, grid\n",
    "import matplotlib.pyplot as plt"
   ]
  },
  {
   "cell_type": "markdown",
   "metadata": {},
   "source": [
    "## Setting the Radar Boundaries\n",
    "One of the most important decisions with Radars is setting the Radar's boundaries.\n",
    "StatsBomb popularised the use of Radars for showing player statistics. I recommend checking out\n",
    "[understanding football radars for mugs and muggles](https://statsbomb.com/2016/04/understand-football-radars-for-mugs-and-muggles/).\n",
    "StatsBomb's rule of thumb is: \"Radar boundaries represent the top 5% and bottom 5%\n",
    "of all statistical production by players in that position.\"\n",
    "\n"
   ]
  },
  {
   "cell_type": "code",
   "execution_count": null,
   "metadata": {},
   "outputs": [],
   "source": [
    "# parameter names of the statistics we want to show\n",
    "params = [\"npxG\", \"Non-Penalty Goals\", \"xA\", \"Key Passes\", \"Through Balls\",\n",
    "          \"Progressive Passes\", \"Shot-Creating Actions\", \"Goal-Creating Actions\",\n",
    "          \"Dribbles Completed\", \"Pressure Regains\", \"Touches In Box\", \"Miscontrol\"]\n",
    "\n",
    "# The lower and upper boundaries for the statistics\n",
    "low =  [0.08, 0.0, 0.1, 1, 0.6,  4, 3, 0.3, 0.3, 2.0, 2, 0]\n",
    "high = [0.37, 0.6, 0.6, 4, 1.2, 10, 8, 1.3, 1.5, 5.5, 5, 5]\n",
    "\n",
    "# Add anything to this list where having a lower number is better\n",
    "# this flips the statistic\n",
    "lower_is_better = ['Miscontrol']"
   ]
  },
  {
   "cell_type": "markdown",
   "metadata": {},
   "source": [
    "## Instantiate the Radar Class\n",
    "We will instantiate a ``Radar`` object with the above parameters so that we can re-use it\n",
    "several times.\n",
    "\n"
   ]
  },
  {
   "cell_type": "code",
   "execution_count": null,
   "metadata": {},
   "outputs": [],
   "source": [
    "radar = Radar(params, low, high,\n",
    "              lower_is_better=lower_is_better,\n",
    "              # whether to round any of the labels to integers instead of decimal places\n",
    "              round_int=[False]*len(params),\n",
    "              num_rings=4,  # the number of concentric circles (excluding center circle)\n",
    "              # if the ring_width is more than the center_circle_radius then\n",
    "              # the center circle radius will be wider than the width of the concentric circles\n",
    "              ring_width=1, center_circle_radius=1)"
   ]
  },
  {
   "cell_type": "markdown",
   "metadata": {},
   "source": [
    "## Load some fonts\n",
    "We will use mplsoccer's ``FontManager`` to load some fonts from Google Fonts.\n",
    "We borrowed the FontManager from the excellent\n",
    "[ridge_map library](https://github.com/ColCarroll/ridge_map).\n",
    "\n",
    "*This is not working in the PySport Playground yet*"
   ]
  },
  {
   "cell_type": "code",
   "execution_count": null,
   "metadata": {},
   "outputs": [],
   "source": [
    "URL1 = ('https://raw.githubusercontent.com/googlefonts/SourceSerifProGFVersion/main/'\n",
    "        'fonts/SourceSerifPro-Regular.ttf')\n",
    "serif_regular = FontManager(URL1)\n",
    "URL2 = ('https://raw.githubusercontent.com/googlefonts/SourceSerifProGFVersion/main/'\n",
    "        'fonts/SourceSerifPro-ExtraLight.ttf?raw=true')\n",
    "serif_extra_light = FontManager(URL2)\n",
    "URL3 = ('https://raw.githubusercontent.com/google/fonts/main/ofl/rubikmonoone/'\n",
    "        'RubikMonoOne-Regular.ttf?raw=true')\n",
    "rubik_regular = FontManager(URL3)\n",
    "URL4 = 'https://raw.githubusercontent.com/googlefonts/roboto/main/src/hinted/Roboto-Thin.ttf'\n",
    "robotto_thin = FontManager(URL4)\n",
    "URL5 = ('https://raw.githubusercontent.com/google/fonts/3b947ee2732103ef6132b09d234aecd768d2d83c/'\n",
    "        'apache/roboto/static/Roboto-Thin.ttf')\n",
    "robotto_regular = FontManager(URL5)\n",
    "URL6 = 'https://raw.githubusercontent.com/google/fonts/main/apache/robotoslab/RobotoSlab%5Bwght%5D.ttf?raw=true'\n",
    "robotto_bold = FontManager(URL6)\n"
   ]
  },
  {
   "cell_type": "markdown",
   "metadata": {},
   "source": [
    "## Player Values\n",
    "Here are the player values we are going to plot. The values are taken\n",
    "from the excellent [fbref](https://fbref.com/en/) website (supplied by StatsBomb).\n",
    "\n"
   ]
  },
  {
   "cell_type": "code",
   "execution_count": null,
   "metadata": {},
   "outputs": [],
   "source": [
    "bruno_values =   [0.22, 0.25, 0.30, 2.54, 0.43, 5.60, 4.34, 0.29, 0.69, 5.14, 4.97, 1.10]\n",
    "bruyne_values =  [0.25, 0.52, 0.37, 3.59, 0.41, 6.36, 5.68, 0.57, 1.23, 4.00, 4.54, 1.39]\n",
    "erikson_values = [0.13, 0.10, 0.35, 3.08, 0.29, 6.23, 5.08, 0.43, 0.67, 3.07, 1.34, 1.06]"
   ]
  },
  {
   "cell_type": "markdown",
   "metadata": {},
   "source": [
    "## Making a Simple Radar Chart\n",
    "Here we will make a very simple radar chart using the ``radar_chart`` module.\n",
    "We will only change the default face and edge colors.\n",
    "\n"
   ]
  },
  {
   "cell_type": "code",
   "execution_count": null,
   "metadata": {},
   "outputs": [],
   "source": [
    "fig, ax = radar.setup_axis()  # format axis as a radar\n",
    "rings_inner = radar.draw_circles(ax=ax, facecolor='#ffb2b2', edgecolor='#fc5f5f')  # draw circles\n",
    "radar_output = radar.draw_radar(bruno_values, ax=ax,\n",
    "                                kwargs_radar={'facecolor': '#aa65b2'},\n",
    "                                kwargs_rings={'facecolor': '#66d8ba'})  # draw the radar\n",
    "radar_poly, rings_outer, vertices = radar_output\n",
    "range_labels = radar.draw_range_labels(ax=ax, fontsize=15,\n",
    "                                       fontproperties=robotto_thin.prop)  # draw the range labels\n",
    "param_labels = radar.draw_param_labels(ax=ax, fontsize=15,\n",
    "                                       fontproperties=robotto_regular.prop)  # draw the param labels"
   ]
  },
  {
   "cell_type": "markdown",
   "metadata": {},
   "source": [
    "## Adding lines from the center to the edge\n",
    "Here we add spokes from the radar center to the edge using ``Radar.spoke``.\n",
    "\n"
   ]
  },
  {
   "cell_type": "code",
   "execution_count": null,
   "metadata": {},
   "outputs": [],
   "source": [
    "fig, ax = radar.setup_axis()  # format axis as a radar\n",
    "rings_inner = radar.draw_circles(ax=ax, facecolor='#ffb2b2', edgecolor='#fc5f5f')  # draw circles\n",
    "radar_output = radar.draw_radar(bruno_values, ax=ax,\n",
    "                                kwargs_radar={'facecolor': '#aa65b2'},\n",
    "                                kwargs_rings={'facecolor': '#66d8ba'})  # draw the radar\n",
    "radar_poly, rings_outer, vertices = radar_output\n",
    "range_labels = radar.draw_range_labels(ax=ax, fontsize=15, zorder=2.5,\n",
    "                                       fontproperties=robotto_thin.prop)  # draw the range labels\n",
    "param_labels = radar.draw_param_labels(ax=ax, fontsize=15,\n",
    "                                       fontproperties=robotto_regular.prop)  # draw the param labels\n",
    "lines = radar.spoke(ax=ax, color='#a6a4a1', linestyle='--', zorder=2)"
   ]
  }
 ],
 "metadata": {
  "kernelspec": {
   "display_name": "Python 3 (ipykernel)",
   "language": "python",
   "name": "python3"
  },
  "language_info": {
   "codemirror_mode": {
    "name": "ipython",
    "version": 3
   },
   "file_extension": ".py",
   "mimetype": "text/x-python",
   "name": "python",
   "nbconvert_exporter": "python",
   "pygments_lexer": "ipython3",
   "version": "3.8.9"
  }
 },
 "nbformat": 4,
 "nbformat_minor": 1
}

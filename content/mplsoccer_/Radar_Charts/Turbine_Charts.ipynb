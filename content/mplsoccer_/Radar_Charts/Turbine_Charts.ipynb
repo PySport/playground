{
  "cells": [
    {
      "cell_type": "markdown",
      "metadata": {},
      "source": [
        "## *Setup required for Playground*\n",
        "\n",
        "The online playground requires a little bit of code to run first."
      ]
    },
    {
      "cell_type": "code",
      "execution_count": null,
      "metadata": {},
      "outputs": [],
      "source": [
        "%pip install mplsoccer highlight_text pandas requests"
      ]
    },
    {
      "cell_type": "code",
      "execution_count": null,
      "metadata": {},
      "outputs": [],
      "source": [
        "# Patch requests to make it work in the browser\n",
        "import pyodide_http\n",
        "pyodide_http.patch_all()"
      ]
    },
    {
      "cell_type": "markdown",
      "metadata": {},
      "source": [
        "Original notebook can be found [here](https://mplsoccer.readthedocs.io/en/latest/_downloads/7ac4a0df587f1bd47b8fc0e32a075cab/plot_turbine.ipynb)"
      ]
    },
    {
      "cell_type": "code",
      "execution_count": null,
      "metadata": {
        "collapsed": false
      },
      "outputs": [],
      "source": [
        "%matplotlib inline"
      ]
    },
    {
      "cell_type": "markdown",
      "metadata": {},
      "source": [
        "\n# Turbine Charts\n\nHere we jazz up radar charts by putting the distributions inside the\nradar chart. You can mix and match the various elements of the Radar\nclass to create your own version.\n\nEach blade of the turbine represents the statistics for the skill.\nWhile the blade is split at the point of the individual player's skill level.\n\nIf you like this idea follow [Soumyajit Bose](https://twitter.com/Soumyaj15209314)\non Twitter, as I borrowed some of his ideas for this chart.\n"
      ]
    },
    {
      "cell_type": "code",
      "execution_count": null,
      "metadata": {
        "collapsed": false
      },
      "outputs": [],
      "source": [
        "import pandas as pd\nfrom mplsoccer import Radar, FontManager, grid\nimport numpy as np\nimport scipy.stats as stats\nimport matplotlib.pyplot as plt"
      ]
    },
    {
      "cell_type": "markdown",
      "metadata": {},
      "source": [
        "## Creating some random data\nHere we create some random data from a truncated normal distribution\nIn real life the values would be an array or dataframe of\nshape number of players * number of skills\n\n"
      ]
    },
    {
      "cell_type": "code",
      "execution_count": null,
      "metadata": {
        "collapsed": false
      },
      "outputs": [],
      "source": [
        "lower, upper, mu, sigma = 0, 1, 0.35, 0.25\nX = stats.truncnorm((lower - mu) / sigma, (upper - mu) / sigma, loc=mu, scale=sigma)\n# for 1000 people and 11 skills\nvalues = X.rvs((1000, 11))\n# the names of the skills\nparams = ['Expected goals', 'Total shots',\n          'Touches in attacking penalty area', 'Pass completion %',\n          'Crosses into the 18-yard box (excluding set pieces)',\n          'Expected goals assisted', 'Fouls drawn', 'Successful dribbles',\n          'Successful pressures', 'Non-penalty expected goals per shot',\n          'Miscontrols/ Dispossessed']\n# set up a dataframe with the random values\ndf = pd.DataFrame(values)\ndf.columns = params\n# in real-life you'd probably have a string column for the player name,\n# but we will use numbers here\ndf['player_name'] = np.arange(1000)"
      ]
    },
    {
      "cell_type": "markdown",
      "metadata": {},
      "source": [
        "## Instantiate the Radar Class\nWe will instantiate a radar object and set the lower and upper bounds.\nFor miscontrols/ dispossessed it is better to have a lower number, so we\nwill flip the statistic by adding the parameter to ``lower_is_better``.\n\n"
      ]
    },
    {
      "cell_type": "code",
      "execution_count": null,
      "metadata": {
        "collapsed": false
      },
      "outputs": [],
      "source": [
        "# create the radar object with an upper and lower bound of the 5% and 95% quantiles\nlow = df[params].quantile(0.05).values\nhigh = df[params].quantile(0.95).values\nlower_is_better = ['Miscontrols/ Dispossessed']\nradar = Radar(params, low, high, lower_is_better=lower_is_better, num_rings=4)"
      ]
    },
    {
      "cell_type": "markdown",
      "metadata": {},
      "source": [
        "## Load a font\nWe will use mplsoccer's FontManager to load the default Robotto font.\n\n"
      ]
    },
    {
      "cell_type": "code",
      "execution_count": null,
      "metadata": {
        "collapsed": false
      },
      "outputs": [],
      "source": [
        "fm = FontManager()"
      ]
    },
    {
      "cell_type": "markdown",
      "metadata": {},
      "source": [
        "## Making a Simple Turbine Chart\nHere we will make a very simple turbine chart using the ``radar_chart`` module.\n\n"
      ]
    },
    {
      "cell_type": "code",
      "execution_count": null,
      "metadata": {
        "collapsed": false
      },
      "outputs": [],
      "source": [
        "# get the player's values (usually the 23 would be a string)\n# so for example you might put\n# df.loc[df.player_name == 'Martin \u00d8degaard', params].values[0].tolist()\nplayer_values = df.loc[df.player_name == 23, params].values[0]\n\n# plot the turbine plot\nfig, ax = radar.setup_axis()  # format axis as a radar\n# plot the turbine blades. Here we give the player_Values and the\n# value for all players shape=(1000, 11)\nturbine_output = radar.turbine(player_values, df[params].values, ax=ax,\n                               kwargs_inner={'edgecolor': 'black'},\n                               kwargs_inner_gradient={'cmap': 'Blues'},\n                               kwargs_outer={'facecolor': '#b2b2b2', 'edgecolor': 'black'})\n# plot some dashed rings and the labels for the values and parameter names\nrings_inner = radar.draw_circles(ax=ax, facecolor='None', edgecolor='black', linestyle='--')\nrange_labels = radar.draw_range_labels(ax=ax, fontsize=15, fontproperties=fm.prop, zorder=2)\nparam_labels = radar.draw_param_labels(ax=ax, fontsize=15, fontproperties=fm.prop, zorder=2)"
      ]
    },
    {
      "cell_type": "markdown",
      "metadata": {},
      "source": [
        "## Adding a title and endnote\nHere we will add an endnote and title to the Radar. We will use the ``grid`` function to create\nthe figure and pass the axs['radar'] axes to the Radar's methods.\n\n"
      ]
    },
    {
      "cell_type": "code",
      "execution_count": null,
      "metadata": {
        "collapsed": false
      },
      "outputs": [],
      "source": [
        "# creating the figure using the grid function from mplsoccer:\nfig, axs = grid(figheight=14, grid_height=0.915, title_height=0.06, endnote_height=0.025,\n                title_space=0, endnote_space=0, grid_key='radar', axis=False)\n\n# plot the turbine plot\nradar.setup_axis(ax=axs['radar'])\n# plot the turbine blades. Here we give the player_Values and\n# the value for all players shape=(1000, 11)\nturbine_output = radar.turbine(player_values, df[params].values, ax=axs['radar'],\n                               kwargs_inner={'edgecolor': 'black'},\n                               kwargs_inner_gradient={'cmap': 'plasma'},\n                               kwargs_outer={'facecolor': '#b2b2b2', 'edgecolor': 'black'})\n# plot some dashed rings and the labels for the values and parameter names\nrings_inner = radar.draw_circles(ax=axs['radar'], facecolor='None',\n                                 edgecolor='black', linestyle='--')\nrange_labels = radar.draw_range_labels(ax=axs['radar'], fontsize=15,\n                                       fontproperties=fm.prop, zorder=2)\nparam_labels = radar.draw_param_labels(ax=axs['radar'], fontsize=15,\n                                       fontproperties=fm.prop, zorder=2)\n\n# adding a title and endnote\ntitle1_text = axs['title'].text(0.01, 0.65, 'Random player', fontsize=25,\n                                fontproperties=fm.prop, ha='left', va='center')\ntitle2_text = axs['title'].text(0.01, 0.25, 'Team', fontsize=20,\n                                fontproperties=fm.prop,\n                                ha='left', va='center', color='#B6282F')\ntitle3_text = axs['title'].text(0.99, 0.65, 'Turbine Chart', fontsize=25,\n                                fontproperties=fm.prop, ha='right', va='center')\ntitle4_text = axs['title'].text(0.99, 0.25, 'Position', fontsize=20,\n                                fontproperties=fm.prop,\n                                ha='right', va='center', color='#B6282F')\nendnote_text = axs['endnote'].text(0.99, 0.5, 'Inspired By StatsBomb', fontsize=15,\n                                   fontproperties=fm.prop, ha='right', va='center')"
      ]
    },
    {
      "cell_type": "markdown",
      "metadata": {},
      "source": [
        "## Mixing with Radars\nYou can also mix and match the different elements of Radars and Turbines.\n\n"
      ]
    },
    {
      "cell_type": "code",
      "execution_count": null,
      "metadata": {
        "collapsed": false
      },
      "outputs": [],
      "source": [
        "# creating the figure using the grid function from mplsoccer:\nfig, axs = grid(figheight=14, grid_height=0.915, title_height=0.06, endnote_height=0.025,\n                title_space=0, endnote_space=0, grid_key='radar', axis=False)\n\n# plot the turbine plot\nradar.setup_axis(ax=axs['radar'])\n# plot the turbine blades. Here we give the player_Values and\n# the value for all players shape=(1000, 11)\nturbine_output = radar.turbine(player_values, df[params].values, ax=axs['radar'],\n                               kwargs_inner={'edgecolor': '#d4d4d4', 'color': '#81b8fb'},\n                               kwargs_outer={'facecolor': '#eeeeee', 'edgecolor': '#d4d4d4'})\n# plot some dashed rings and the labels for the values and parameter names\nrings_inner = radar.draw_circles(ax=axs['radar'], facecolor='None',\n                                 edgecolor='black', linestyle='--')\nrange_labels = radar.draw_range_labels(ax=axs['radar'], fontsize=15,\n                                       fontproperties=fm.prop, zorder=12)\nparam_labels = radar.draw_param_labels(ax=axs['radar'], fontsize=15,\n                                       fontproperties=fm.prop, zorder=2)\n# overlay the radar\nradar_output = radar.draw_radar(player_values, ax=axs['radar'],\n                                kwargs_radar={'facecolor': '#9dc7ff', 'alpha': 0.7},\n                                kwargs_rings={'facecolor': '#bbd8ff', 'alpha': 0.7})\n\n# adding a title and endnote\ntitle1_text = axs['title'].text(0.01, 0.65, 'Random player', fontsize=25,\n                                fontproperties=fm.prop, ha='left', va='center')\ntitle2_text = axs['title'].text(0.01, 0.25, 'Team', fontsize=20,\n                                fontproperties=fm.prop,\n                                ha='left', va='center', color='#B6282F')\ntitle3_text = axs['title'].text(0.99, 0.65, 'Turbine Chart', fontsize=25,\n                                fontproperties=fm.prop, ha='right', va='center')\ntitle4_text = axs['title'].text(0.99, 0.25, 'Position', fontsize=20,\n                                fontproperties=fm.prop,\n                                ha='right', va='center', color='#B6282F')\nendnote_text = axs['endnote'].text(0.99, 0.5, 'Inspired By StatsBomb', fontsize=15,\n                                   fontproperties=fm.prop, ha='right', va='center')\n\nplt.show()  # not needed in Jupyter notebooks"
      ]
    }
  ],
  "metadata": {
    "kernelspec": {
      "display_name": "Python 3",
      "language": "python",
      "name": "python3"
    },
    "language_info": {
      "codemirror_mode": {
        "name": "ipython",
        "version": 3
      },
      "file_extension": ".py",
      "mimetype": "text/x-python",
      "name": "python",
      "nbconvert_exporter": "python",
      "pygments_lexer": "ipython3",
      "version": "3.11.0"
    }
  },
  "nbformat": 4,
  "nbformat_minor": 0
}
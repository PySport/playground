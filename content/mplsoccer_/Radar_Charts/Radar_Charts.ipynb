{
  "cells": [
    {
      "cell_type": "markdown",
      "metadata": {},
      "source": [
        "## *Setup required for Playground*\n",
        "\n",
        "The online playground requires a little bit of code to run first."
      ]
    },
    {
      "cell_type": "code",
      "execution_count": null,
      "metadata": {},
      "outputs": [],
      "source": [
        "%pip install requests\n",
        "# Patch requests to make it work in the browser\n",
        "import pyodide_http\n",
        "pyodide_http.patch_all()"
      ]
    },
    {
      "cell_type": "code",
      "execution_count": null,
      "metadata": {},
      "outputs": [],
      "source": [
        "%pip install mplsoccer highlight_text pandas"
      ]
    },
    {
      "cell_type": "markdown",
      "metadata": {},
      "source": [
        "Original notebook can be found [here](https://mplsoccer.readthedocs.io/en/latest/_downloads/5fa8e8f5d40b355b46cf461a103e017b/plot_radar.ipynb)"
      ]
    },
    {
      "cell_type": "code",
      "execution_count": null,
      "metadata": {
        "collapsed": false
      },
      "outputs": [],
      "source": [
        "%matplotlib inline"
      ]
    },
    {
      "cell_type": "markdown",
      "metadata": {},
      "source": [
        "\n# Radar Charts\n\n* ``mplsoccer``, ``radar_chart`` module helps one to plot radar charts in a few lines of code.\n\n* The radar-chart inspiration is [StatsBomb](https://twitter.com/StatsBomb/)\n  and [Rami Moghadam](https://cargocollective.com/ramimo/2013-NBA-All-Stars)\n\n* Here we will show some examples of how to use ``mplsoccer`` to plot radar charts.\n\nWe have re-written the [Soccerplots](https://github.com/Slothfulwave612/soccerplots)  Radar module\nto enable greater customisation of the Radar. You can now set the edge color, decide the number of\nconcentric circles, and use hatching or path_effects.\n"
      ]
    },
    {
      "cell_type": "code",
      "execution_count": null,
      "metadata": {
        "collapsed": false
      },
      "outputs": [],
      "source": [
        "from mplsoccer import Radar, FontManager, grid\nimport matplotlib.pyplot as plt"
      ]
    },
    {
      "cell_type": "markdown",
      "metadata": {},
      "source": [
        "## Setting the Radar Boundaries\nOne of the most important decisions with Radars is setting the Radar's boundaries.\nStatsBomb popularised the use of Radars for showing player statistics. I recommend checking out\n[understanding football radars for mugs and muggles](https://statsbomb.com/2016/04/understand-football-radars-for-mugs-and-muggles/).\nStatsBomb's rule of thumb is: \"Radar boundaries represent the top 5% and bottom 5%\nof all statistical production by players in that position.\"\n\n"
      ]
    },
    {
      "cell_type": "code",
      "execution_count": null,
      "metadata": {
        "collapsed": false
      },
      "outputs": [],
      "source": [
        "# parameter names of the statistics we want to show\nparams = [\"npxG\", \"Non-Penalty Goals\", \"xA\", \"Key Passes\", \"Through Balls\",\n          \"Progressive Passes\", \"Shot-Creating Actions\", \"Goal-Creating Actions\",\n          \"Dribbles Completed\", \"Pressure Regains\", \"Touches In Box\", \"Miscontrol\"]\n\n# The lower and upper boundaries for the statistics\nlow =  [0.08, 0.0, 0.1, 1, 0.6,  4, 3, 0.3, 0.3, 2.0, 2, 0]\nhigh = [0.37, 0.6, 0.6, 4, 1.2, 10, 8, 1.3, 1.5, 5.5, 5, 5]\n\n# Add anything to this list where having a lower number is better\n# this flips the statistic\nlower_is_better = ['Miscontrol']"
      ]
    },
    {
      "cell_type": "markdown",
      "metadata": {},
      "source": [
        "## Instantiate the Radar Class\nWe will instantiate a ``Radar`` object with the above parameters so that we can re-use it\nseveral times.\n\n"
      ]
    },
    {
      "cell_type": "code",
      "execution_count": null,
      "metadata": {
        "collapsed": false
      },
      "outputs": [],
      "source": [
        "radar = Radar(params, low, high,\n              lower_is_better=lower_is_better,\n              # whether to round any of the labels to integers instead of decimal places\n              round_int=[False]*len(params),\n              num_rings=4,  # the number of concentric circles (excluding center circle)\n              # if the ring_width is more than the center_circle_radius then\n              # the center circle radius will be wider than the width of the concentric circles\n              ring_width=1, center_circle_radius=1)"
      ]
    },
    {
      "cell_type": "markdown",
      "metadata": {},
      "source": [
        "## Load some fonts\nWe will use mplsoccer's ``FontManager`` to load some fonts from Google Fonts.\nWe borrowed the FontManager from the excellent\n[ridge_map library](https://github.com/ColCarroll/ridge_map).\n\n"
      ]
    },
    {
      "cell_type": "code",
      "execution_count": null,
      "metadata": {
        "collapsed": false
      },
      "outputs": [],
      "source": [
        "URL1 = ('https://raw.githubusercontent.com/googlefonts/SourceSerifProGFVersion/main/fonts/'\n        'SourceSerifPro-Regular.ttf')\nserif_regular = FontManager(URL1)\nURL2 = ('https://raw.githubusercontent.com/googlefonts/SourceSerifProGFVersion/main/fonts/'\n        'SourceSerifPro-ExtraLight.ttf')\nserif_extra_light = FontManager(URL2)\nURL3 = ('https://raw.githubusercontent.com/google/fonts/main/ofl/rubikmonoone/'\n        'RubikMonoOne-Regular.ttf')\nrubik_regular = FontManager(URL3)\nURL4 = 'https://raw.githubusercontent.com/googlefonts/roboto/main/src/hinted/Roboto-Thin.ttf'\nrobotto_thin = FontManager(URL4)\nURL5 = ('https://raw.githubusercontent.com/google/fonts/main/apache/robotoslab/'\n        'RobotoSlab%5Bwght%5D.ttf')\nrobotto_bold = FontManager(URL5)"
      ]
    },
    {
      "cell_type": "markdown",
      "metadata": {},
      "source": [
        "## Player Values\nHere are the player values we are going to plot. The values are taken\nfrom the excellent [fbref](https://fbref.com/en/) website (supplied by StatsBomb).\n\n"
      ]
    },
    {
      "cell_type": "code",
      "execution_count": null,
      "metadata": {
        "collapsed": false
      },
      "outputs": [],
      "source": [
        "bruno_values =   [0.22, 0.25, 0.30, 2.54, 0.43, 5.60, 4.34, 0.29, 0.69, 5.14, 4.97, 1.10]\nbruyne_values =  [0.25, 0.52, 0.37, 3.59, 0.41, 6.36, 5.68, 0.57, 1.23, 4.00, 4.54, 1.39]\nerikson_values = [0.13, 0.10, 0.35, 3.08, 0.29, 6.23, 5.08, 0.43, 0.67, 3.07, 1.34, 1.06]"
      ]
    },
    {
      "cell_type": "markdown",
      "metadata": {},
      "source": [
        "## Making a Simple Radar Chart\nHere we will make a very simple radar chart using the ``radar_chart`` module.\nWe will only change the default face and edge colors.\n\n"
      ]
    },
    {
      "cell_type": "code",
      "execution_count": null,
      "metadata": {
        "collapsed": false
      },
      "outputs": [],
      "source": [
        "fig, ax = radar.setup_axis()  # format axis as a radar\nrings_inner = radar.draw_circles(ax=ax, facecolor='#ffb2b2', edgecolor='#fc5f5f')  # draw circles\nradar_output = radar.draw_radar(bruno_values, ax=ax,\n                                kwargs_radar={'facecolor': '#aa65b2'},\n                                kwargs_rings={'facecolor': '#66d8ba'})  # draw the radar\nradar_poly, rings_outer, vertices = radar_output\nrange_labels = radar.draw_range_labels(ax=ax, fontsize=15,\n                                       fontproperties=robotto_thin.prop)  # draw the range labels\nparam_labels = radar.draw_param_labels(ax=ax, fontsize=15,\n                                       fontproperties=robotto_thin.prop)  # draw the param labels"
      ]
    },
    {
      "cell_type": "markdown",
      "metadata": {},
      "source": [
        "## Adding lines from the center to the edge\nHere we add spokes from the radar center to the edge using ``Radar.spoke``.\n\n"
      ]
    },
    {
      "cell_type": "code",
      "execution_count": null,
      "metadata": {
        "collapsed": false
      },
      "outputs": [],
      "source": [
        "fig, ax = radar.setup_axis()  # format axis as a radar\nrings_inner = radar.draw_circles(ax=ax, facecolor='#ffb2b2', edgecolor='#fc5f5f')  # draw circles\nradar_output = radar.draw_radar(bruno_values, ax=ax,\n                                kwargs_radar={'facecolor': '#aa65b2'},\n                                kwargs_rings={'facecolor': '#66d8ba'})  # draw the radar\nradar_poly, rings_outer, vertices = radar_output\nrange_labels = radar.draw_range_labels(ax=ax, fontsize=15, zorder=2.5,\n                                       fontproperties=robotto_thin.prop)  # draw the range labels\nparam_labels = radar.draw_param_labels(ax=ax, fontsize=15,\n                                       fontproperties=robotto_thin.prop)  # draw the param labels\nlines = radar.spoke(ax=ax, color='#a6a4a1', linestyle='--', zorder=2)"
      ]
    },
    {
      "cell_type": "markdown",
      "metadata": {},
      "source": [
        "## Making a Simple Comparison\nHere we plot two players on the same axes to compare players.\n\n"
      ]
    },
    {
      "cell_type": "code",
      "execution_count": null,
      "metadata": {
        "collapsed": false
      },
      "outputs": [],
      "source": [
        "# plot radar\nfig, ax = radar.setup_axis()\nrings_inner = radar.draw_circles(ax=ax, facecolor='#ffb2b2', edgecolor='#fc5f5f')\nradar_output = radar.draw_radar_compare(bruno_values, bruyne_values, ax=ax,\n                                        kwargs_radar={'facecolor': '#00f2c1', 'alpha': 0.6},\n                                        kwargs_compare={'facecolor': '#d80499', 'alpha': 0.6})\nradar_poly, radar_poly2, vertices1, vertices2 = radar_output\nrange_labels = radar.draw_range_labels(ax=ax, fontsize=15,\n                                       fontproperties=robotto_thin.prop)\nparam_labels = radar.draw_param_labels(ax=ax, fontsize=15,\n                                       fontproperties=robotto_thin.prop)"
      ]
    },
    {
      "cell_type": "markdown",
      "metadata": {},
      "source": [
        "## Comparing three or more players\nHere we demonstrate comparing three players on the same chart. It's possible to\nadd as many as you want by stacking ``Radar.draw_radar_solid``\n\n"
      ]
    },
    {
      "cell_type": "code",
      "execution_count": null,
      "metadata": {
        "collapsed": false
      },
      "outputs": [],
      "source": [
        "# plot radar\nfig, ax = radar.setup_axis()\nrings_inner = radar.draw_circles(ax=ax, facecolor='#ffb2b2', edgecolor='#fc5f5f')\n\nradar1, vertices1 = radar.draw_radar_solid(bruno_values, ax=ax,\n                                           kwargs={'facecolor': '#aa65b2',\n                                                   'alpha': 0.6,\n                                                   'edgecolor': '#216352',\n                                                   'lw': 3})\n\nradar2, vertices2 = radar.draw_radar_solid(bruyne_values, ax=ax,\n                                           kwargs={'facecolor': '#66d8ba',\n                                                   'alpha': 0.6,\n                                                   'edgecolor': '#216352',\n                                                   'lw': 3})\n\nradar3, vertices3 = radar.draw_radar_solid(erikson_values, ax=ax,\n                                           kwargs={'facecolor': '#697cd4',\n                                                   'alpha': 0.6,\n                                                   'edgecolor': '#222b54',\n                                                   'lw': 3})\n\nax.scatter(vertices1[:, 0], vertices1[:, 1],\n           c='#aa65b2', edgecolors='#502a54', marker='o', s=150, zorder=2)\nax.scatter(vertices2[:, 0], vertices2[:, 1],\n           c='#66d8ba', edgecolors='#216352', marker='o', s=150, zorder=2)\nax.scatter(vertices3[:, 0], vertices3[:, 1],\n           c='#697cd4', edgecolors='#222b54', marker='o', s=150, zorder=2)\n\nrange_labels = radar.draw_range_labels(ax=ax, fontsize=25, fontproperties=robotto_thin.prop)\nparam_labels = radar.draw_param_labels(ax=ax, fontsize=25, fontproperties=robotto_thin.prop)"
      ]
    },
    {
      "cell_type": "markdown",
      "metadata": {},
      "source": [
        "## Making a Clean Radar\nHere we exclude the label lines from the plot.\n\n"
      ]
    },
    {
      "cell_type": "code",
      "execution_count": null,
      "metadata": {
        "collapsed": false
      },
      "outputs": [],
      "source": [
        "fig, ax = radar.setup_axis()  # format axis as a radar\nrings_inner = radar.draw_circles(ax=ax, facecolor='#ffb2b2', edgecolor='#fc5f5f')  # draw circles\nradar_output = radar.draw_radar(bruno_values, ax=ax,\n                                kwargs_radar={'facecolor': '#aa65b2'},\n                                kwargs_rings={'facecolor': '#66d8ba'})  # draw the radar\nradar_poly, rings_outer, vertices = radar_output"
      ]
    },
    {
      "cell_type": "markdown",
      "metadata": {},
      "source": [
        "## Adding a title and endnote\nHere we will add an endnote and title to the Radar. We will use the grid function to create\nthe figure and pass the axs['radar'] axes to the Radar's methods.\n\n"
      ]
    },
    {
      "cell_type": "code",
      "execution_count": null,
      "metadata": {
        "collapsed": false
      },
      "outputs": [],
      "source": [
        "# creating the figure using the grid function from mplsoccer:\nfig, axs = grid(figheight=14, grid_height=0.915, title_height=0.06, endnote_height=0.025,\n                title_space=0, endnote_space=0, grid_key='radar', axis=False)\n\n# plot the radar\nradar.setup_axis(ax=axs['radar'])\nrings_inner = radar.draw_circles(ax=axs['radar'], facecolor='#ffb2b2', edgecolor='#fc5f5f')\nradar_output = radar.draw_radar(bruno_values, ax=axs['radar'],\n                                kwargs_radar={'facecolor': '#aa65b2'},\n                                kwargs_rings={'facecolor': '#66d8ba'})\nradar_poly, rings_outer, vertices = radar_output\nrange_labels = radar.draw_range_labels(ax=axs['radar'], fontsize=25,\n                                       fontproperties=robotto_thin.prop)\nparam_labels = radar.draw_param_labels(ax=axs['radar'], fontsize=25,\n                                       fontproperties=robotto_thin.prop)\n\n# adding the endnote and title text (these axes range from 0-1, i.e. 0, 0 is the bottom left)\n# Note we are slightly offsetting the text from the edges by 0.01 (1%, e.g. 0.99)\nendnote_text = axs['endnote'].text(0.99, 0.5, 'Inspired By: StatsBomb / Rami Moghadam', fontsize=15,\n                                   fontproperties=robotto_thin.prop, ha='right', va='center')\ntitle1_text = axs['title'].text(0.01, 0.65, 'Bruno Fernandes', fontsize=25,\n                                fontproperties=robotto_bold.prop, ha='left', va='center')\ntitle2_text = axs['title'].text(0.01, 0.25, 'Manchester United', fontsize=20,\n                                fontproperties=robotto_thin.prop,\n                                ha='left', va='center', color='#B6282F')\ntitle3_text = axs['title'].text(0.99, 0.65, 'Radar Chart', fontsize=25,\n                                fontproperties=robotto_bold.prop, ha='right', va='center')\ntitle4_text = axs['title'].text(0.99, 0.25, 'Midfielder', fontsize=20,\n                                fontproperties=robotto_thin.prop,\n                                ha='right', va='center', color='#B6282F')\n# sphinx_gallery_thumbnail_path = 'gallery/radar/images/sphx_glr_plot_radar_004.png'"
      ]
    },
    {
      "cell_type": "markdown",
      "metadata": {},
      "source": [
        "## Comparison Radar with Titles\nHere we will make a very simple radar chart using ``mplsoccer`` module ``radar_chart``.\nWe will only change the default facecolors.\n\n"
      ]
    },
    {
      "cell_type": "code",
      "execution_count": null,
      "metadata": {
        "collapsed": false
      },
      "outputs": [],
      "source": [
        "# creating the figure using the grid function from mplsoccer:\nfig, axs = grid(figheight=14, grid_height=0.915, title_height=0.06, endnote_height=0.025,\n                title_space=0, endnote_space=0, grid_key='radar', axis=False)\n\n# plot radar\nradar.setup_axis(ax=axs['radar'])  # format axis as a radar\nrings_inner = radar.draw_circles(ax=axs['radar'], facecolor='#ffb2b2', edgecolor='#fc5f5f')\nradar_output = radar.draw_radar_compare(bruno_values, bruyne_values, ax=axs['radar'],\n                                        kwargs_radar={'facecolor': '#00f2c1', 'alpha': 0.6},\n                                        kwargs_compare={'facecolor': '#d80499', 'alpha': 0.6})\nradar_poly, radar_poly2, vertices1, vertices2 = radar_output\nrange_labels = radar.draw_range_labels(ax=axs['radar'], fontsize=25,\n                                       fontproperties=robotto_thin.prop)\nparam_labels = radar.draw_param_labels(ax=axs['radar'], fontsize=25,\n                                       fontproperties=robotto_thin.prop)\naxs['radar'].scatter(vertices1[:, 0], vertices1[:, 1],\n                     c='#00f2c1', edgecolors='#6d6c6d', marker='o', s=150, zorder=2)\naxs['radar'].scatter(vertices2[:, 0], vertices2[:, 1],\n                     c='#d80499', edgecolors='#6d6c6d', marker='o', s=150, zorder=2)\n\n# adding the endnote and title text (these axes range from 0-1, i.e. 0, 0 is the bottom left)\n# Note we are slightly offsetting the text from the edges by 0.01 (1%, e.g. 0.99)\nendnote_text = axs['endnote'].text(0.99, 0.5, 'Inspired By: StatsBomb / Rami Moghadam', fontsize=15,\n                                   fontproperties=robotto_thin.prop, ha='right', va='center')\ntitle1_text = axs['title'].text(0.01, 0.65, 'Bruno Fernandes', fontsize=25, color='#01c49d',\n                                fontproperties=robotto_bold.prop, ha='left', va='center')\ntitle2_text = axs['title'].text(0.01, 0.25, 'Manchester United', fontsize=20,\n                                fontproperties=robotto_thin.prop,\n                                ha='left', va='center', color='#01c49d')\ntitle3_text = axs['title'].text(0.99, 0.65, 'Kevin De Bruyne', fontsize=25,\n                                fontproperties=robotto_bold.prop,\n                                ha='right', va='center', color='#d80499')\ntitle4_text = axs['title'].text(0.99, 0.25, 'Manchester City', fontsize=20,\n                                fontproperties=robotto_thin.prop,\n                                ha='right', va='center', color='#d80499')"
      ]
    },
    {
      "cell_type": "markdown",
      "metadata": {},
      "source": [
        "## Dark Theme\n\n"
      ]
    },
    {
      "cell_type": "code",
      "execution_count": null,
      "metadata": {
        "collapsed": false
      },
      "outputs": [],
      "source": [
        "# creating the figure using the grid function from mplsoccer:\nfig, axs = grid(figheight=14, grid_height=0.915, title_height=0.06, endnote_height=0.025,\n                title_space=0, endnote_space=0, grid_key='radar', axis=False)\n\n# plot the radar\nradar.setup_axis(ax=axs['radar'], facecolor='None')\nrings_inner = radar.draw_circles(ax=axs['radar'], facecolor='#28252c', edgecolor='#39353f', lw=1.5)\nradar_output = radar.draw_radar(bruno_values, ax=axs['radar'],\n                                kwargs_radar={'facecolor': '#d0667a'},\n                                kwargs_rings={'facecolor': '#1d537f'})\nradar_poly, rings_outer, vertices = radar_output\nrange_labels = radar.draw_range_labels(ax=axs['radar'], fontsize=25, color='#fcfcfc',\n                                       fontproperties=robotto_thin.prop)\nparam_labels = radar.draw_param_labels(ax=axs['radar'], fontsize=25, color='#fcfcfc',\n                                       fontproperties=robotto_thin.prop)\n\n# adding the endnote and title text (these axes range from 0-1, i.e. 0, 0 is the bottom left)\n# Note we are slightly offsetting the text from the edges by 0.01 (1%, e.g. 0.99)\nendnote_text = axs['endnote'].text(0.99, 0.5, 'Inspired By: StatsBomb / Rami Moghadam',\n                                   color='#fcfcfc', fontproperties=robotto_thin.prop,\n                                   fontsize=15, ha='right', va='center')\ntitle1_text = axs['title'].text(0.01, 0.65, 'Bruno Fernandes', fontsize=25,\n                                fontproperties=robotto_bold.prop,\n                                ha='left', va='center', color='#e4dded')\ntitle2_text = axs['title'].text(0.01, 0.25, 'Manchester United', fontsize=20,\n                                fontproperties=robotto_thin.prop,\n                                ha='left', va='center', color='#cc2a3f')\ntitle3_text = axs['title'].text(0.99, 0.65, 'Radar Chart', fontsize=25,\n                                fontproperties=robotto_bold.prop,\n                                ha='right', va='center', color='#e4dded')\ntitle4_text = axs['title'].text(0.99, 0.25, 'Midfielder', fontsize=20,\n                                fontproperties=robotto_thin.prop,\n                                ha='right', va='center', color='#cc2a3f')\n\nfig.set_facecolor('#121212')"
      ]
    },
    {
      "cell_type": "markdown",
      "metadata": {},
      "source": [
        "## Ben Eine Theme\nThe theme below is inspired by the artist\n[Ben Eine](https://beneine.co.uk/).\n\n"
      ]
    },
    {
      "cell_type": "code",
      "execution_count": null,
      "metadata": {
        "collapsed": false
      },
      "outputs": [],
      "source": [
        "# creating the figure using the grid function from mplsoccer:\nfig, axs = grid(figheight=14, grid_height=0.915, title_height=0.06, endnote_height=0.025,\n                title_space=0, endnote_space=0, grid_key='radar', axis=False)\n\n# plot the radar\nradar.setup_axis(ax=axs['radar'], facecolor='None')\nrings_inner = radar.draw_circles(ax=axs['radar'], facecolor='#5bc8ef', edgecolor='#b7ebff',\n                                 # you can also vary the linewidths\n                                 # here we gradually increase the blue concentric circles\n                                 linewidth=[0, 1, 2])\nradar_output = radar.draw_radar(bruno_values, ax=axs['radar'],\n                                kwargs_radar={'facecolor': '#fa4554'},\n                                kwargs_rings={'facecolor': '#d298c4'})\nradar_poly, rings_outer, vertices = radar_output\nrange_labels = radar.draw_range_labels(ax=axs['radar'], fontsize=25, color='#f0f6f6',\n                                       fontproperties=robotto_thin.prop)\nparam_labels = radar.draw_param_labels(ax=axs['radar'], fontsize=25, color='#f0f6f6',\n                                       fontproperties=robotto_thin.prop)\naxs['radar'].scatter(vertices[:, 0], vertices[:, 1], c='#eeb743', edgecolors='#070707',\n                     marker='D', s=220, zorder=2)\n\n# adding the endnote and title text (these axes range from 0-1, i.e. 0, 0 is the bottom left)\n# Note we are slightly offsetting the text from the edges by 0.01 (1%, e.g. 0.99)\nendnote_text = axs['endnote'].text(0.99, 0.5, 'The theme is inspired by Ben Eine', fontsize=15,\n                                   fontproperties=robotto_thin.prop, ha='right',\n                                   va='center', color='#f0f6f6')\ntitle1_text = axs['title'].text(0.01, 0.65, 'Bruno Fernandes', fontsize=25,\n                                fontproperties=robotto_bold.prop, ha='left',\n                                va='center', color='#eeb743')\ntitle2_text = axs['title'].text(0.01, 0.25, 'Manchester United', fontsize=20,\n                                fontproperties=robotto_thin.prop, ha='left',\n                                va='center', color='#f0f6f6')\ntitle3_text = axs['title'].text(0.99, 0.65, 'Radar Chart', fontsize=25,\n                                fontproperties=robotto_bold.prop, ha='right',\n                                va='center', color='#eeb743')\ntitle4_text = axs['title'].text(0.99, 0.25, 'Midfielder', fontsize=20,\n                                fontproperties=robotto_thin.prop, ha='right',\n                                va='center', color='#f0f6f6')\n\nfig.set_facecolor('#070707')"
      ]
    },
    {
      "cell_type": "markdown",
      "metadata": {},
      "source": [
        "## Camille Walala theme\nThe theme below is inspired by the London based artist\n[Camille Walala](https://www.camillewalala.com/). It uses two types of\nhatching to create the radar.\n\n"
      ]
    },
    {
      "cell_type": "code",
      "execution_count": null,
      "metadata": {
        "collapsed": false
      },
      "outputs": [],
      "source": [
        "# creating the figure using the grid function from mplsoccer:\nfig, axs = grid(figheight=14, grid_height=0.915, title_height=0.06, endnote_height=0.025,\n                title_space=0, endnote_space=0, grid_key='radar', axis=False)\n\n# we are creating a new radar object with more rings, integer rounding, and a larger center circle\nradar2 = Radar(params=['Speed', 'Agility', 'Strength', 'Passing', 'Dribbles'],\n               min_range=[0, 0, 0, 0, 0],\n               max_range=[5, 5, 5, 5, 5],\n               # here we make the labels integers instead of floats\n               round_int=[True, True, True, True, True],\n               # make the center circle x2 larger than the concentric circles\n               center_circle_radius=2,\n               # the number of rings has been chosen to divide the max_range evenly\n               num_rings=5)\n\n# plot the radar\nradar2.setup_axis(ax=axs['radar'], facecolor='None')\nrings_inner = radar2.draw_circles(ax=axs['radar'], facecolor='#f77b83', edgecolor='#fe2837')\nradar_output = radar2.draw_radar(values=[5, 2, 4, 3, 1], ax=axs['radar'],\n                                 kwargs_radar={'facecolor': '#f9c728', 'hatch': '.', 'alpha': 1},\n                                 kwargs_rings={'facecolor': '#e6dedc', 'edgecolor': '#1a1414',\n                                               'hatch': '/', 'alpha': 1})\n# draw the radar again but without a facecolor ('None') and an edgecolor\n# we draw it again so that we can choose a different edgecolor from the radar\nradar_output2 = radar2.draw_radar(values=[5, 2, 4, 3, 1], ax=axs['radar'],\n                                  kwargs_radar={'facecolor': 'None', 'edgecolor': '#646366'},\n                                  kwargs_rings={'facecolor': 'None'})\n# draw the labels\nrange_labels = radar2.draw_range_labels(ax=axs['radar'], fontproperties=serif_extra_light.prop,\n                                        fontsize=25)\nparam_labels = radar2.draw_param_labels(ax=axs['radar'], fontproperties=serif_regular.prop,\n                                        fontsize=25)\n\n# adding the endnote and title text (these axes range from 0-1, i.e. 0, 0 is the bottom left)\n# Note we are slightly offsetting the text from the edges by 0.01 (1%, e.g. 0.99)\nendnote_text = axs['endnote'].text(0.99, 0.5, 'The theme is inspired by Camille Walala',\n                                   fontproperties=serif_extra_light.prop, fontsize=15,\n                                   ha='right', va='center')\ntitle1_text = axs['title'].text(0.01, 0.65, 'Player name', fontsize=20,\n                                fontproperties=rubik_regular.prop, ha='left', va='center')\ntitle2_text = axs['title'].text(0.01, 0.25, 'Player team', fontsize=15,\n                                fontproperties=rubik_regular.prop, ha='left',\n                                va='center', color='#fa1b38')\ntitle3_text = axs['title'].text(0.99, 0.65, 'Radar Chart', fontsize=20,\n                                fontproperties=rubik_regular.prop, ha='right', va='center')\ntitle4_text = axs['title'].text(0.99, 0.25, 'Position', fontsize=15,\n                                fontproperties=rubik_regular.prop, ha='right',\n                                va='center', color='#fa1b38')\n\nfig.set_facecolor('#f2dad2')\n\nplt.show()  # If you are using a Jupyter notebook you do not need this line"
      ]
    }
  ],
  "metadata": {
    "kernelspec": {
      "display_name": "Python 3",
      "language": "python",
      "name": "python3"
    },
    "language_info": {
      "codemirror_mode": {
        "name": "ipython",
        "version": 3
      },
      "file_extension": ".py",
      "mimetype": "text/x-python",
      "name": "python",
      "nbconvert_exporter": "python",
      "pygments_lexer": "ipython3",
      "version": "3.11.0"
    }
  },
  "nbformat": 4,
  "nbformat_minor": 0
}
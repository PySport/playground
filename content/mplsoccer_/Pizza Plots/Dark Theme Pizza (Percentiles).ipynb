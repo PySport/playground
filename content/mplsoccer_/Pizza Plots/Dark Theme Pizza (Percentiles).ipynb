{
  "cells": [
    {
      "cell_type": "markdown",
      "metadata": {},
      "source": [
        "## *Setup required for Playground*\n",
        "\n",
        "The online playground requires a little bit of code to run first."
      ]
    },
    {
      "cell_type": "code",
      "execution_count": null,
      "metadata": {},
      "outputs": [],
      "source": [
        "import micropip\n",
        "await micropip.install('pyodide-http==0.0.6')\n",
        "await micropip.install('mplsoccer')\n",
        "await micropip.install('highlight_text')\n",
        "await micropip.install('pandas')\n",
        "await micropip.install('requests')\n",
        "\n",
        "import pyodide_http\n",
        "pyodide_http.patch_all()"
      ]
    },
    {
      "cell_type": "markdown",
      "metadata": {},
      "source": [
        "Original notebook can be found [here](https://mplsoccer.readthedocs.io/en/latest/_downloads/ae815be842e8c446d525f74cbf497cfe/plot_pizza_dark_theme.ipynb)"
      ]
    },
    {
      "cell_type": "code",
      "execution_count": null,
      "metadata": {
        "collapsed": false
      },
      "outputs": [],
      "source": [
        "%matplotlib inline"
      ]
    },
    {
      "cell_type": "markdown",
      "metadata": {},
      "source": [
        "\n# Dark Theme Pizza (Percentiles)\n\n* Author: [slothfulwave612](https://twitter.com/slothfulwave612)\n\n* ``mplsoccer``, ``py_pizza`` module helps one to plot pizza charts in a few lines of code.\n\n* The design idea is inspired by [Tom Worville](https://twitter.com/Worville), [Football Slices](https://twitter.com/FootballSlices) and [Soma Zero FC](https://twitter.com/somazerofc)\n\n* We have re-written [Soumyajit Bose's](https://twitter.com/Soumyaj15209314)  pizza chart code to enable greater customisation.\n\nHere we plot a pizza chart with a dark theme.\n"
      ]
    },
    {
      "cell_type": "code",
      "execution_count": null,
      "metadata": {
        "collapsed": false
      },
      "outputs": [],
      "source": [
        "from urllib.request import urlopen\n\nimport matplotlib.pyplot as plt\nfrom PIL import Image\n\nfrom mplsoccer import PyPizza, add_image, FontManager"
      ]
    },
    {
      "cell_type": "markdown",
      "metadata": {},
      "source": [
        "## Load some fonts\nWe will use mplsoccer's FontManager to load some fonts from Google Fonts.\nWe borrowed the FontManager from the excellent\n[ridge_map library](https://github.com/ColCarroll/ridge_map).\n\n"
      ]
    },
    {
      "cell_type": "code",
      "execution_count": null,
      "metadata": {
        "collapsed": false
      },
      "outputs": [],
      "source": [
        "font_normal = FontManager('https://raw.githubusercontent.com/google/fonts/main/apache/roboto/'\n                          'Roboto%5Bwdth,wght%5D.ttf')\nfont_italic = FontManager('https://raw.githubusercontent.com/google/fonts/main/apache/roboto/'\n                          'Roboto-Italic%5Bwdth,wght%5D.ttf')\nfont_bold = FontManager('https://raw.githubusercontent.com/google/fonts/main/apache/robotoslab/'\n                        'RobotoSlab%5Bwght%5D.ttf')"
      ]
    },
    {
      "cell_type": "markdown",
      "metadata": {},
      "source": [
        "## Load Image\nLoad a cropped image of Frenkie de Jong.\n\n"
      ]
    },
    {
      "cell_type": "code",
      "execution_count": null,
      "metadata": {
        "collapsed": false
      },
      "outputs": [],
      "source": [
        "URL = \"https://raw.githubusercontent.com/andrewRowlinson/mplsoccer-assets/main/fdj_cropped.png\"\nfdj_cropped = Image.open(urlopen(URL))"
      ]
    },
    {
      "cell_type": "markdown",
      "metadata": {},
      "source": [
        "## Dark Theme\nBelow is an example code for dark theme.\n\n"
      ]
    },
    {
      "cell_type": "code",
      "execution_count": null,
      "metadata": {
        "collapsed": false
      },
      "outputs": [],
      "source": [
        "# parameter list\nparams = [\"Non-Penalty Goals\", \"npxG\", \"xA\", \"Open Play\\nShot Creating Actions\",\n          \"\\nPenalty Area\\nEntries\", \"Touches\\nper Turnover\", \"Progressive\\nPasses\",\n          \"Progressive\\nCarries\", \"Final 1/3 Passes\", \"Final 1/3 Carries\", \"pAdj\\nPressure Regains\",\n          \"pAdj\\nTackles Made\", \"pAdj\\nInterceptions\", \"Recoveries\", \"Aerial Win %\"]\n\n# value list\n# The values are taken from the excellent fbref website (supplied by StatsBomb)\nvalues = [70, 77, 74, 68, 60, 96, 89, 97, 92, 94, 16, 19, 56, 53, 94]\n\n# color for the slices and text\nslice_colors = [\"#1A78CF\"] * 5 + [\"#FF9300\"] * 5 + [\"#D70232\"] * 5\ntext_colors = [\"#000000\"] * 10 + [\"#F2F2F2\"] * 5\n\n# instantiate PyPizza class\nbaker = PyPizza(\n    params=params,                  # list of parameters\n    background_color=\"#222222\",     # background color\n    straight_line_color=\"#000000\",  # color for straight lines\n    straight_line_lw=1,             # linewidth for straight lines\n    last_circle_color=\"#000000\",    # color for last line\n    last_circle_lw=1,               # linewidth of last circle\n    other_circle_lw=0,              # linewidth for other circles\n    inner_circle_size=20            # size of inner circle\n)\n\n# plot pizza\nfig, ax = baker.make_pizza(\n    values,                          # list of values\n    figsize=(8, 8.5),                # adjust the figsize according to your need\n    color_blank_space=\"same\",        # use the same color to fill blank space\n    slice_colors=slice_colors,       # color for individual slices\n    value_colors=text_colors,        # color for the value-text\n    value_bck_colors=slice_colors,   # color for the blank spaces\n    blank_alpha=0.4,                 # alpha for blank-space colors\n    kwargs_slices=dict(\n        edgecolor=\"#000000\", zorder=2, linewidth=1\n    ),                               # values to be used when plotting slices\n    kwargs_params=dict(\n        color=\"#F2F2F2\", fontsize=11,\n        fontproperties=font_normal.prop, va=\"center\"\n    ),                               # values to be used when adding parameter labels\n    kwargs_values=dict(\n        color=\"#F2F2F2\", fontsize=11,\n        fontproperties=font_normal.prop, zorder=3,\n        bbox=dict(\n            edgecolor=\"#000000\", facecolor=\"cornflowerblue\",\n            boxstyle=\"round,pad=0.2\", lw=1\n        )\n    )                                # values to be used when adding parameter-values labels\n)\n\n# add title\nfig.text(\n    0.515, 0.975, \"Frenkie de Jong - FC Barcelona\", size=16,\n    ha=\"center\", fontproperties=font_bold.prop, color=\"#F2F2F2\"\n)\n\n# add subtitle\nfig.text(\n    0.515, 0.955,\n    \"Percentile Rank vs Top-Five League Midfielders | Season 2020-21\",\n    size=13,\n    ha=\"center\", fontproperties=font_bold.prop, color=\"#F2F2F2\"\n)\n\n# add credits\nCREDIT_1 = \"data: statsbomb viz fbref\"\nCREDIT_2 = \"inspired by: @Worville, @FootballSlices, @somazerofc & @Soumyaj15209314\"\n\nfig.text(\n    0.99, 0.02, f\"{CREDIT_1}\\n{CREDIT_2}\", size=9,\n    fontproperties=font_italic.prop, color=\"#F2F2F2\",\n    ha=\"right\"\n)\n\n# add text\nfig.text(\n    0.34, 0.93, \"Attacking        Possession       Defending\", size=14,\n    fontproperties=font_bold.prop, color=\"#F2F2F2\"\n)\n\n# add rectangles\nfig.patches.extend([\n    plt.Rectangle(\n        (0.31, 0.9225), 0.025, 0.021, fill=True, color=\"#1a78cf\",\n        transform=fig.transFigure, figure=fig\n    ),\n    plt.Rectangle(\n        (0.462, 0.9225), 0.025, 0.021, fill=True, color=\"#ff9300\",\n        transform=fig.transFigure, figure=fig\n    ),\n    plt.Rectangle(\n        (0.632, 0.9225), 0.025, 0.021, fill=True, color=\"#d70232\",\n        transform=fig.transFigure, figure=fig\n    ),\n])\n\n# add image\nax_image = add_image(\n    fdj_cropped, fig, left=0.4478, bottom=0.4315, width=0.13, height=0.127\n)   # these values might differ when you are plotting\n\nplt.show()"
      ]
    }
  ],
  "metadata": {
    "kernelspec": {
      "display_name": "Python 3",
      "language": "python",
      "name": "python3"
    },
    "language_info": {
      "codemirror_mode": {
        "name": "ipython",
        "version": 3
      },
      "file_extension": ".py",
      "mimetype": "text/x-python",
      "name": "python",
      "nbconvert_exporter": "python",
      "pygments_lexer": "ipython3",
      "version": "3.10.6"
    }
  },
  "nbformat": 4,
  "nbformat_minor": 0
}
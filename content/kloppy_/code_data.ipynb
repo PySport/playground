{
 "cells": [
  {
   "cell_type": "markdown",
   "metadata": {},
   "source": [
    "## *Setup required for Playground*\n",
    "\n",
    "The online playground requires a little bit of code to run first."
   ]
  },
  {
   "cell_type": "code",
   "execution_count": null,
   "metadata": {},
   "outputs": [],
   "source": [
    "import piplite\n",
    "await piplite.install('kloppy')\n",
    "await piplite.install('pandas')"
   ]
  },
  {
   "cell_type": "markdown",
   "metadata": {},
   "source": [
    "# Code data\n",
    "\n",
    "Apart from event- and tracking data analytics often use code data. This type of data can be collected by hand using tools like SportsCode. \n",
    "\n",
    "Kloppy allows easy read AND write functionallity for the codes in SportsCode XML format. "
   ]
  },
  {
   "cell_type": "markdown",
   "metadata": {},
   "source": [
    "## Reading XML file"
   ]
  },
  {
   "cell_type": "code",
   "execution_count": null,
   "metadata": {},
   "outputs": [],
   "source": [
    "from kloppy import sportscode"
   ]
  },
  {
   "cell_type": "code",
   "execution_count": null,
   "metadata": {},
   "outputs": [],
   "source": [
    "with open(\"file.xml\", \"w\") as fp:\n",
    "    fp.write(\"\"\"<?xml version=\"1.0\"?>\n",
    "<file>\n",
    "    <ALL_INSTANCES>\n",
    "        <instance>\n",
    "            <ID>P1</ID>\n",
    "            <start>3.6</start>\n",
    "            <end>9.7</end>\n",
    "            <code>PASS</code>\n",
    "            <label>\n",
    "                <group>Team</group>\n",
    "                <text>Henkie</text>\n",
    "            </label>\n",
    "            <label>\n",
    "                <group>Packing.Value</group>\n",
    "                <text>1</text>\n",
    "            </label>\n",
    "            <label>\n",
    "                <group>Receiver</group>\n",
    "                <text>Klaas N&#xF8;me</text>\n",
    "            </label>\n",
    "        </instance>\n",
    "        <instance>\n",
    "            <ID>P2</ID>\n",
    "            <start>68.3</start>\n",
    "            <end>74.5</end>\n",
    "            <code>PASS</code>\n",
    "            <label>\n",
    "                <group>Team</group>\n",
    "                <text>Henkie</text>\n",
    "            </label>\n",
    "            <label>\n",
    "                <group>Packing.Value</group>\n",
    "                <text>3</text>\n",
    "            </label>\n",
    "            <label>\n",
    "                <group>Receiver</group>\n",
    "                <text>Piet</text>\n",
    "            </label>\n",
    "        </instance>\n",
    "        <instance>\n",
    "            <ID>P3</ID>\n",
    "            <start>103.6</start>\n",
    "            <end>109.6</end>\n",
    "            <code>SHOT</code>\n",
    "            <label>\n",
    "                <group>Team</group>\n",
    "                <text>Henkie</text>\n",
    "            </label>\n",
    "            <label>\n",
    "                <group>Expected.Goal.Value</group>\n",
    "                <text>0.13</text>\n",
    "            </label>\n",
    "        </instance>\n",
    "    </ALL_INSTANCES>\n",
    "</file>\"\"\")\n",
    "    \n",
    "code_dataset = sportscode.load(\"file.xml\")\n"
   ]
  },
  {
   "cell_type": "code",
   "execution_count": null,
   "metadata": {},
   "outputs": [],
   "source": [
    "code_dataset.to_pandas()"
   ]
  },
  {
   "cell_type": "markdown",
   "metadata": {},
   "source": [
    "The code dataset also allows filtering the codes"
   ]
  },
  {
   "cell_type": "code",
   "execution_count": null,
   "metadata": {},
   "outputs": [],
   "source": [
    "passes = code_dataset.filter(lambda code: code.code == 'PASS')\n",
    "passes.to_pandas()"
   ]
  },
  {
   "cell_type": "markdown",
   "metadata": {},
   "source": [
    "## Writing XML file"
   ]
  },
  {
   "cell_type": "code",
   "execution_count": null,
   "metadata": {},
   "outputs": [],
   "source": [
    "sportscode.save(passes, \"file.xml\")\n",
    "\n",
    "with open(\"file.xml\", \"r\") as fp:\n",
    "    print(fp.read())"
   ]
  },
  {
   "cell_type": "markdown",
   "metadata": {},
   "source": [
    "## Converting event dataset into XML dataset"
   ]
  },
  {
   "cell_type": "code",
   "execution_count": null,
   "metadata": {},
   "outputs": [],
   "source": [
    "from kloppy import statsbomb\n",
    "\n",
    "dataset = statsbomb.load_open_data()"
   ]
  },
  {
   "cell_type": "code",
   "execution_count": null,
   "metadata": {},
   "outputs": [],
   "source": [
    "from kloppy.domain import Code, CodeDataset, EventType\n",
    "\n",
    "dataset_shots = dataset.filter(\n",
    "    lambda event: event.event_type == EventType.SHOT\n",
    ")\n",
    "\n",
    "code_dataset = (\n",
    "    CodeDataset\n",
    "    .from_dataset(\n",
    "        dataset_shots,\n",
    "        lambda event: Code(\n",
    "            code_id=None,  # make it auto increment on write\n",
    "            code=event.event_name,\n",
    "            period=event.period,\n",
    "            timestamp=max(0, event.timestamp - 7),\n",
    "            end_timestamp=event.timestamp + 5,\n",
    "            labels={\n",
    "                'Player': str(event.player),\n",
    "                'Team': str(event.team)\n",
    "            },\n",
    "            \n",
    "            # In the future next two won't be needed anymore\n",
    "            ball_owning_team=None,\n",
    "            ball_state=None\n",
    "        )\n",
    "    )\n",
    ")"
   ]
  },
  {
   "cell_type": "code",
   "execution_count": null,
   "metadata": {},
   "outputs": [],
   "source": [
    "code_dataset.to_pandas()"
   ]
  },
  {
   "cell_type": "code",
   "execution_count": null,
   "metadata": {},
   "outputs": [],
   "source": [
    "sportscode.save(code_dataset, \"file.xml\")\n",
    "\n",
    "with open(\"file.xml\", \"r\") as fp:\n",
    "    print(fp.read())"
   ]
  },
  {
   "cell_type": "code",
   "execution_count": null,
   "metadata": {},
   "outputs": [],
   "source": [
    "import os\n",
    "os.unlink(\"file.xml\")"
   ]
  },
  {
   "cell_type": "code",
   "execution_count": null,
   "metadata": {},
   "outputs": [],
   "source": []
  }
 ],
 "metadata": {
  "kernelspec": {
   "display_name": "kloppy-venv",
   "language": "python",
   "name": "kloppy-venv"
  },
  "language_info": {
   "codemirror_mode": {
    "name": "ipython",
    "version": 3
   },
   "file_extension": ".py",
   "mimetype": "text/x-python",
   "name": "python",
   "nbconvert_exporter": "python",
   "pygments_lexer": "ipython3",
   "version": "3.8.9"
  }
 },
 "nbformat": 4,
 "nbformat_minor": 4
}

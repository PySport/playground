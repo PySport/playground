{
 "cells": [
  {
   "cell_type": "markdown",
   "metadata": {},
   "source": [
    "## *Setup required for Playground*\n",
    "\n",
    "The online playground requires a little bit of code to run first."
   ]
  },
  {
   "cell_type": "code",
   "execution_count": null,
   "metadata": {},
   "outputs": [],
   "source": [
    "import piplite\n",
    "await piplite.install('kloppy')\n",
    "await piplite.install('pandas')\n",
    "\n",
    "import pyodide_http"
   ]
  },
  {
   "cell_type": "markdown",
   "metadata": {},
   "source": [
    "# State\n",
    "\n",
    "While working with event data it can be convenient to also use the current score. This can be used to determine if a team is winning, losing or drawing. A more generic name for the score is 'state'. \n",
    "\n",
    "In this quickstart we'll look at how to use the `add_state` method of kloppy to add state to the events for later use.\n",
    "\n",
    "## Loading some statsbomb data\n",
    "\n",
    "First we'll load Barcelona - Deportivo Alaves from the statsbomb open-data project."
   ]
  },
  {
   "cell_type": "code",
   "execution_count": null,
   "metadata": {},
   "outputs": [],
   "source": [
    "from kloppy import statsbomb\n",
    "from kloppy.domain import EventType\n",
    "\n",
    "dataset = statsbomb.load_open_data()\n",
    "print([team.name for team in dataset.metadata.teams])\n",
    "print(dataset.events[0].state)"
   ]
  },
  {
   "cell_type": "markdown",
   "metadata": {},
   "source": [
    "## Add state - score\n",
    "\n",
    "kloppy contains some default state builders: score, lineup and sequence. Let's have a look at the `score` state builder. "
   ]
  },
  {
   "cell_type": "code",
   "execution_count": null,
   "metadata": {},
   "outputs": [],
   "source": [
    "dataset = dataset.add_state('score')\n",
    "\n",
    "dataset.events[0].state"
   ]
  },
  {
   "cell_type": "markdown",
   "metadata": {},
   "source": [
    "As you can see `state` is now filled with a score object. The object contains two attributes: `home` and `away`. Every event contains a score object which is automatically updated when a goal is scored.\n",
    "\n",
    "Now lets have a look at how we can use the score state. First we filter on only shots."
   ]
  },
  {
   "cell_type": "code",
   "execution_count": null,
   "metadata": {},
   "outputs": [],
   "source": [
    "dataset = dataset.filter(lambda event: event.event_type == EventType.SHOT)\n",
    "shots = dataset.events\n",
    "len(shots)"
   ]
  },
  {
   "cell_type": "code",
   "execution_count": null,
   "metadata": {},
   "outputs": [],
   "source": [
    "for shot in shots:\n",
    "    print(shot.state['score'], shot.player.team, '-', shot.player, '-', shot.result)"
   ]
  },
  {
   "cell_type": "code",
   "execution_count": null,
   "metadata": {},
   "outputs": [],
   "source": [
    "dataframe = dataset.to_df(\n",
    "    \"*\",\n",
    "    home_score=lambda event: event.state['score'].home,\n",
    "    away_score=lambda event: event.state['score'].away\n",
    ")\n",
    "dataframe"
   ]
  },
  {
   "cell_type": "markdown",
   "metadata": {},
   "source": [
    "Now filter the dataframe. We only want to see shots when we are winning by at least two goals difference."
   ]
  },
  {
   "cell_type": "code",
   "execution_count": null,
   "metadata": {},
   "outputs": [],
   "source": [
    "dataframe[dataframe['home_score'] - dataframe['away_score'] >= 2]"
   ]
  },
  {
   "cell_type": "markdown",
   "metadata": {},
   "source": [
    "## Add state - lineup\n",
    "\n",
    "We are able to add more state. In this example we'll look at adding lineup state."
   ]
  },
  {
   "cell_type": "code",
   "execution_count": null,
   "metadata": {},
   "outputs": [],
   "source": [
    "from kloppy import statsbomb\n",
    "from kloppy.domain import EventType\n",
    "\n",
    "dataset = statsbomb.load_open_data()\n",
    "\n",
    "home_team, away_team = dataset.metadata.teams"
   ]
  },
  {
   "cell_type": "markdown",
   "metadata": {},
   "source": [
    "Arturo Vidal is a substitute on the side of Barcelona. We add lineup to all events so we are able to filter out events where Arturo Vidal is on the pitch."
   ]
  },
  {
   "cell_type": "code",
   "execution_count": null,
   "metadata": {},
   "outputs": [],
   "source": [
    "arturo_vidal = home_team.get_player_by_id(8206)"
   ]
  },
  {
   "cell_type": "code",
   "execution_count": null,
   "metadata": {},
   "outputs": [],
   "source": [
    "dataframe = (\n",
    "    dataset\n",
    "    .add_state('lineup')\n",
    "    .filter(lambda event: arturo_vidal in event.state['lineup'].players)\n",
    "    .to_df()\n",
    ")"
   ]
  },
  {
   "cell_type": "code",
   "execution_count": null,
   "metadata": {},
   "outputs": [],
   "source": [
    "print(f\"time on pitch: {dataframe['timestamp'].max() - dataframe['timestamp'].min()} seconds\")\n"
   ]
  },
  {
   "cell_type": "code",
   "execution_count": null,
   "metadata": {},
   "outputs": [],
   "source": [
    "dataframe = (\n",
    "    dataset\n",
    "    .add_state('lineup')\n",
    "    .filter(lambda event: event.event_type == EventType.PASS and event.team == home_team)\n",
    "    .to_df(\n",
    "        \"*\",\n",
    "        vidal_on_pitch=lambda event: arturo_vidal in event.state['lineup'].players\n",
    "    )\n",
    ")"
   ]
  },
  {
   "cell_type": "code",
   "execution_count": null,
   "metadata": {},
   "outputs": [],
   "source": [
    "dataframe = dataframe.groupby(['vidal_on_pitch'])['success'].agg(['sum', 'count'])\n",
    "dataframe['percentage'] = dataframe['sum'] / dataframe['count'] * 100\n",
    "dataframe"
   ]
  },
  {
   "cell_type": "markdown",
   "metadata": {},
   "source": [
    "## Add state - formation\n",
    "\n",
    "In this example we'll look at adding formation state to all shots."
   ]
  },
  {
   "cell_type": "code",
   "execution_count": null,
   "metadata": {},
   "outputs": [],
   "source": [
    "from kloppy import statsbomb\n",
    "from kloppy.domain import EventType\n",
    "\n",
    "\n",
    "dataset = statsbomb.load_open_data()\n",
    "\n",
    "dataframe = (\n",
    "    dataset\n",
    "    .add_state('formation')\n",
    "    .filter(\n",
    "        lambda event: event.event_type == EventType.SHOT\n",
    "    )\n",
    "    .to_df(\n",
    "        \"*\",\n",
    "        Team=lambda event: str(event.team),\n",
    "        Formation=lambda event: str(\n",
    "            event.state['formation'].home \n",
    "            if event.team == dataset.metadata.teams[0] \n",
    "            else event.state['formation'].away\n",
    "        )\n",
    "    )\n",
    ")"
   ]
  },
  {
   "cell_type": "code",
   "execution_count": null,
   "metadata": {},
   "outputs": [],
   "source": [
    "dataframe_stats = (\n",
    "    dataframe\n",
    "    .groupby(['Team', 'Formation'])['success']\n",
    "    .agg(['sum', 'count'])\n",
    ")\n",
    "dataframe_stats['Percentage'] = (\n",
    "    dataframe_stats['sum'] \n",
    "    / dataframe_stats['count'] \n",
    "    * 100\n",
    ")\n",
    "dataframe_stats.rename(\n",
    "    columns={\n",
    "        'sum': 'Goals',\n",
    "        'count': 'Shots'\n",
    "    }\n",
    ")"
   ]
  }
 ],
 "metadata": {
  "kernelspec": {
   "display_name": "kloppy-venv",
   "language": "python",
   "name": "kloppy-venv"
  },
  "language_info": {
   "codemirror_mode": {
    "name": "ipython",
    "version": 3
   },
   "file_extension": ".py",
   "mimetype": "text/x-python",
   "name": "python",
   "nbconvert_exporter": "python",
   "pygments_lexer": "ipython3",
   "version": "3.10.13"
  },
  "toc": {
   "base_numbering": 1,
   "nav_menu": {},
   "number_sections": true,
   "sideBar": true,
   "skip_h1_title": false,
   "title_cell": "Table of Contents",
   "title_sidebar": "Contents",
   "toc_cell": false,
   "toc_position": {},
   "toc_section_display": true,
   "toc_window_display": false
  }
 },
 "nbformat": 4,
 "nbformat_minor": 4
}

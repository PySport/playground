{
 "cells": [
  {
   "cell_type": "markdown",
   "id": "1508af13",
   "metadata": {},
   "source": [
    "## *Setup required for Playground*\n",
    "\n",
    "The online playground requires a little bit of code to run first."
   ]
  },
  {
   "cell_type": "code",
   "execution_count": null,
   "id": "2284ffc5",
   "metadata": {},
   "outputs": [],
   "source": [
    "import piplite\n",
    "await piplite.install('kloppy')\n",
    "await piplite.install('pandas')\n",
    "\n",
    "import pyodide_http"
   ]
  },
  {
   "cell_type": "markdown",
   "id": "d5e58e18",
   "metadata": {},
   "source": [
    "# Navigating\n",
    "\n",
    "Kloppy 3.2 adds some powerfull tools to navigate through you event data. In this tutorial you will learn how to use them.\n",
    "\n",
    "\n",
    "## Dataset\n",
    "\n",
    "On dataset level it's possible to use `filter`, `find` and `find_all`. All these functions access the same argument for finding the right events.\n",
    "You can pass a string or a function. In case of a string is must be either 'event_type', 'event_type.result' or '.result'. Some examples: 'shot.goal', 'pass' or '.complete'.\n",
    "\n",
    "Lets have a look at how these work.\n",
    "\n",
    "\n"
   ]
  },
  {
   "cell_type": "code",
   "execution_count": null,
   "id": "c910dd35",
   "metadata": {},
   "outputs": [],
   "source": [
    "from kloppy import statsbomb\n",
    "\n",
    "# Load a Statsbomb open data dataset\n",
    "dataset = statsbomb.load_open_data()\n",
    "\n",
    "# Create a new dataset which contains all goals\n",
    "filtered_dataset = dataset.filter('shot.goal')\n",
    "\n",
    "# Show the results\n",
    "filtered_dataset.to_df()"
   ]
  },
  {
   "cell_type": "markdown",
   "id": "6fe919e7",
   "metadata": {},
   "source": [
    "The filtered dataset doesn't contain any events other than goals. Lets validate that. When we try to find all passes we should get an empty list"
   ]
  },
  {
   "cell_type": "code",
   "execution_count": null,
   "id": "57aac560",
   "metadata": {},
   "outputs": [],
   "source": [
    "passes = filtered_dataset.find_all('pass')\n",
    "len(passes)"
   ]
  },
  {
   "cell_type": "markdown",
   "id": "4cd3edb8",
   "metadata": {},
   "source": [
    "The original dataset does contain passes, right?"
   ]
  },
  {
   "cell_type": "code",
   "execution_count": null,
   "id": "45de2f06",
   "metadata": {},
   "outputs": [],
   "source": [
    "passes = dataset.find_all('pass')\n",
    "len(passes)"
   ]
  },
  {
   "cell_type": "markdown",
   "id": "3239a684",
   "metadata": {},
   "source": [
    "Now we already touched the `find_all` method. This method accepts the same argument. The difference is that `find_all` returns a list of events, where `filter` returns a new Dataset. The `find` method return the first matching event or None when it cannot find one."
   ]
  },
  {
   "cell_type": "code",
   "execution_count": null,
   "id": "2df283f7",
   "metadata": {},
   "outputs": [],
   "source": [
    "dataset.find('shot')"
   ]
  },
  {
   "cell_type": "code",
   "execution_count": null,
   "id": "7c432ca0",
   "metadata": {},
   "outputs": [],
   "source": [
    "print(filtered_dataset.find('pass'))"
   ]
  },
  {
   "cell_type": "markdown",
   "id": "4b5120a9",
   "metadata": {},
   "source": [
    "## Event\n",
    "\n",
    "On Event level there are also some new methods for navigating. The `prev` and `next` methods are added. These allow you to quickly find previous or next events. But those two methods also accept the filter argument like the Dataset methods do. This makes useful to find a certain type of event instead of just the one before/after.\n",
    "\n",
    "Lets have look at how this works"
   ]
  },
  {
   "cell_type": "code",
   "execution_count": null,
   "id": "31fd93a8",
   "metadata": {},
   "outputs": [],
   "source": [
    "# Load a Statsbomb open data dataset\n",
    "dataset = statsbomb.load_open_data()\n",
    "\n",
    "first_goal = dataset.find('shot.goal')\n",
    "first_goal"
   ]
  },
  {
   "cell_type": "code",
   "execution_count": null,
   "id": "98dda35c",
   "metadata": {},
   "outputs": [],
   "source": [
    "# Lets previous and next events\n",
    "print(first_goal.prev())\n",
    "print(first_goal)\n",
    "print(first_goal.next())"
   ]
  },
  {
   "cell_type": "markdown",
   "id": "9be4a6a1",
   "metadata": {},
   "source": [
    "But what if we want to find the last complete pass before the goal?"
   ]
  },
  {
   "cell_type": "code",
   "execution_count": null,
   "id": "841fa959",
   "metadata": {},
   "outputs": [],
   "source": [
    "first_goal.prev('pass.complete')"
   ]
  },
  {
   "cell_type": "markdown",
   "id": "b7026192",
   "metadata": {},
   "source": [
    "Or when we don't care about the event type, but want to make sure it's complete.."
   ]
  },
  {
   "cell_type": "code",
   "execution_count": null,
   "id": "16aad417",
   "metadata": {},
   "outputs": [],
   "source": [
    "first_goal.prev('.complete')\n",
    "    "
   ]
  },
  {
   "cell_type": "markdown",
   "id": "9b5514bd",
   "metadata": {},
   "source": [
    "## Related events\n",
    "\n",
    "Some vendors include `related_events` in their data. The related events can be accessed via `get_related_events` method, or by `related_pass`, `related_carry`, etc for each event type.\n",
    "\n",
    "The `get_related_events` returns a list which can be empty. The `related_pass` methods return an Event or None when that type is not specified."
   ]
  },
  {
   "cell_type": "code",
   "execution_count": null,
   "id": "963e687d",
   "metadata": {},
   "outputs": [],
   "source": [
    "carry_event = first_goal.prev('carry')\n",
    "carry_event.get_related_events()"
   ]
  },
  {
   "cell_type": "code",
   "execution_count": null,
   "id": "7d2c3377",
   "metadata": {},
   "outputs": [],
   "source": [
    "print(carry_event.related_pass())"
   ]
  },
  {
   "cell_type": "code",
   "execution_count": null,
   "id": "3e53ee99",
   "metadata": {},
   "outputs": [],
   "source": [
    "print(carry_event.related_take_on())"
   ]
  },
  {
   "cell_type": "code",
   "execution_count": null,
   "id": "2ed402bd",
   "metadata": {},
   "outputs": [],
   "source": []
  }
 ],
 "metadata": {
  "kernelspec": {
   "display_name": "kloppy-venv",
   "language": "python",
   "name": "kloppy-venv"
  },
  "language_info": {
   "codemirror_mode": {
    "name": "ipython",
    "version": 3
   },
   "file_extension": ".py",
   "mimetype": "text/x-python",
   "name": "python",
   "nbconvert_exporter": "python",
   "pygments_lexer": "ipython3",
   "version": "3.10.13"
  }
 },
 "nbformat": 4,
 "nbformat_minor": 5
}

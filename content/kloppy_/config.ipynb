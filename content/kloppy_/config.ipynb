{
 "cells": [
  {
   "cell_type": "markdown",
   "id": "ec1fc014",
   "metadata": {},
   "source": [
    "## *Setup required for Playground*\n",
    "\n",
    "The online playground requires a little bit of code to run first."
   ]
  },
  {
   "cell_type": "code",
   "execution_count": null,
   "id": "1165e9f2",
   "metadata": {},
   "outputs": [],
   "source": [
    "import piplite\n",
    "await piplite.install('kloppy')\n",
    "import pyodide_http"
   ]
  },
  {
   "cell_type": "markdown",
   "id": "20bb72b7",
   "metadata": {},
   "source": [
    "# Config\n",
    "\n",
    "Kloppy 3.3 adds support for setting global configuration. This makes it possible to set the coordinate system for all `load` calls, setting the cache directory (or disabling the cache) and passing settings to adapters.\n"
   ]
  },
  {
   "cell_type": "code",
   "execution_count": null,
   "id": "e8979b51",
   "metadata": {},
   "outputs": [],
   "source": [
    "from kloppy.config import get_config, set_config, config_context"
   ]
  },
  {
   "cell_type": "markdown",
   "id": "85c33f79",
   "metadata": {},
   "source": [
    "## Get config\n",
    "\n",
    "You can get all configuration variable or just a single one using `get_config`."
   ]
  },
  {
   "cell_type": "code",
   "execution_count": null,
   "id": "b70b22c9",
   "metadata": {},
   "outputs": [],
   "source": [
    "get_config()"
   ]
  },
  {
   "cell_type": "code",
   "execution_count": null,
   "id": "9d75b69b",
   "metadata": {},
   "outputs": [],
   "source": [
    "get_config(\"coordinate_system\")"
   ]
  },
  {
   "cell_type": "markdown",
   "id": "07f1ce9b",
   "metadata": {},
   "source": [
    "## Set config\n",
    "\n",
    "Using `set_config` you can set the value for a single config variable. This value will be used for all calls to kloppy."
   ]
  },
  {
   "cell_type": "code",
   "execution_count": null,
   "id": "1ba6227a",
   "metadata": {},
   "outputs": [],
   "source": [
    "from kloppy import statsbomb\n",
    "\n",
    "set_config(\"coordinate_system\", \"opta\")\n",
    "\n",
    "dataset = statsbomb.load_open_data()\n",
    "\n",
    "dataset.metadata.coordinate_system"
   ]
  },
  {
   "cell_type": "markdown",
   "id": "471839e3",
   "metadata": {},
   "source": [
    "## Config context\n",
    "\n",
    "Inspired by pandas kloppy allows you to set config variables for a context (using a context manager). Config set using `config_context` will be reverted to to original values when python exists the context"
   ]
  },
  {
   "cell_type": "code",
   "execution_count": null,
   "id": "6fc5b89c",
   "metadata": {},
   "outputs": [],
   "source": [
    "print(f\"Before context: {get_config('coordinate_system')}\")\n",
    "with config_context(\"coordinate_system\", \"statsbomb\"):\n",
    "    print(f\"Within context: {get_config('coordinate_system')}\")\n",
    "    dataset = statsbomb.load_open_data()\n",
    "    \n",
    "print(f\"After context: {get_config('coordinate_system')}\")\n",
    "dataset.metadata.coordinate_system"
   ]
  }
 ],
 "metadata": {
  "kernelspec": {
   "display_name": "kloppy-venv",
   "language": "python",
   "name": "kloppy-venv"
  },
  "language_info": {
   "codemirror_mode": {
    "name": "ipython",
    "version": 3
   },
   "file_extension": ".py",
   "mimetype": "text/x-python",
   "name": "python",
   "nbconvert_exporter": "python",
   "pygments_lexer": "ipython3",
   "version": "3.10.13"
  }
 },
 "nbformat": 4,
 "nbformat_minor": 5
}

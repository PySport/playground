{
 "cells": [
  {
   "cell_type": "markdown",
   "metadata": {},
   "source": [
    "## *Setup required for Playground*\n",
    "\n",
    "The online playground requires a little bit of code to run first. "
   ]
  },
  {
   "cell_type": "code",
   "execution_count": null,
   "metadata": {},
   "outputs": [],
   "source": [
    "import piplite\n",
    "await piplite.install('kloppy')\n",
    "await piplite.install('pandas')"
   ]
  },
  {
   "cell_type": "markdown",
   "metadata": {},
   "source": [
    "# Event data\n",
    "\n",
    "One of the main benefits of working with kloppy is that it loads metadata with the event data. This metadata includes teams (name, ground and provider id) and players (name, jersey number, optional position and provider id). Using this metadata, it becomes very easy to create an analysis that is usable by humans, because it includes names instead of only numbers.\n",
    "\n",
    "This section shows how metadata is organized and some use-cases."
   ]
  },
  {
   "cell_type": "markdown",
   "metadata": {},
   "source": [
    "## Loading statsbomb data\n",
    "\n",
    "The datasets module of kloppy makes it trivial to load statsbomb data. Keep in mind that by using the data you accept the license of the open-data project.\n"
   ]
  },
  {
   "cell_type": "code",
   "execution_count": null,
   "metadata": {
    "scrolled": true
   },
   "outputs": [],
   "source": [
    "from kloppy import statsbomb\n",
    "\n",
    "dataset = statsbomb.load_open_data(event_types=[\"pass\", \"shot\"])"
   ]
  },
  {
   "cell_type": "markdown",
   "metadata": {},
   "source": [
    "## Exploring metadata\n",
    "\n",
    "kloppy always loads the metadata for you and makes it available at the `metadata` property. "
   ]
  },
  {
   "cell_type": "code",
   "execution_count": null,
   "metadata": {},
   "outputs": [],
   "source": [
    "metadata = dataset.metadata\n",
    "home_team, away_team = metadata.teams"
   ]
  },
  {
   "cell_type": "markdown",
   "metadata": {},
   "source": [
    "After loading the data, the metadata can be used to iterate over teams and players. By default `metadata.teams` contain `[HomeTeam, AwayTeam]`. `Team` and `Player` entities have the `__str__` magic method implemented to help you cast it to a string. When you want to "
   ]
  },
  {
   "cell_type": "code",
   "execution_count": null,
   "metadata": {},
   "outputs": [],
   "source": [
    "print(f\"{home_team.ground} - {home_team}\")\n",
    "print(f\"{away_team.ground} - {away_team}\")"
   ]
  },
  {
   "cell_type": "code",
   "execution_count": null,
   "metadata": {},
   "outputs": [],
   "source": [
    "[f\"{player} ({player.jersey_no})\" for player in home_team.players]\n"
   ]
  },
  {
   "cell_type": "code",
   "execution_count": null,
   "metadata": {},
   "outputs": [],
   "source": [
    "# get provider id for team\n",
    "f\"statsbomb team id: {home_team.team_id} - {away_team.team_id}\""
   ]
  },
  {
   "cell_type": "code",
   "execution_count": null,
   "metadata": {},
   "outputs": [],
   "source": [
    "# same for the players\n",
    "[f\"{player} id={player.player_id}\" for player in metadata.teams[0].players]\n"
   ]
  },
  {
   "cell_type": "code",
   "execution_count": null,
   "metadata": {},
   "outputs": [],
   "source": [
    "# get player from first event\n",
    "player = dataset.events[0].player\n",
    "print(player)\n",
    "print(player.team)\n",
    "print(f\"Teams are comparable? {player.team == away_team}\")"
   ]
  },
  {
   "cell_type": "markdown",
   "metadata": {},
   "source": [
    "The `Team` and `Player` entities also contain the magic methods to use those keys in dictionaries or use them in sets. This makes it easy to do some calculations, and show the results without mapping the player_id to a name."
   ]
  },
  {
   "cell_type": "code",
   "execution_count": null,
   "metadata": {},
   "outputs": [],
   "source": [
    "from collections import defaultdict\n",
    "\n",
    "passes_per_player = defaultdict(list)\n",
    "for event in dataset.events:\n",
    "    if event.event_name == \"pass\":\n",
    "        passes_per_player[event.player].append(event)\n",
    "        \n",
    "for player, passes in passes_per_player.items():\n",
    "    print(f\"{player} has {len(passes)} passes\")"
   ]
  },
  {
   "cell_type": "markdown",
   "metadata": {},
   "source": [
    "Now let's filter on home_team."
   ]
  },
  {
   "cell_type": "code",
   "execution_count": null,
   "metadata": {},
   "outputs": [],
   "source": [
    "for player, passes in passes_per_player.items():\n",
    "    if player.team == home_team:\n",
    "        print(f\"{player} has {len(passes)} passes\")"
   ]
  },
  {
   "cell_type": "markdown",
   "metadata": {},
   "source": [
    "## Use metadata when transforming to pandas dataframe\n",
    "\n",
    "The metadata can also be used when transforming a dataset to a pandas dataframe. The `additional_columns` argument should be passed to `to_pandas`. "
   ]
  },
  {
   "cell_type": "code",
   "execution_count": null,
   "metadata": {},
   "outputs": [],
   "source": [
    "\n",
    "dataframe = dataset.to_pandas(\n",
    "    additional_columns={\n",
    "        'player_name': lambda event: str(event.player),\n",
    "        'team_name': lambda event: str(event.player.team)\n",
    "    }\n",
    ")\n",
    "\n",
    "dataframe[[\n",
    "    'event_id', 'event_type', 'result', 'timestamp', 'player_id', \n",
    "    'player_name', 'team_name'\n",
    "]].head()"
   ]
  },
  {
   "cell_type": "markdown",
   "metadata": {},
   "source": [
    "## Attribute transformers\n",
    "\n",
    "Attribute transformer make it possible to add predefined attributes to a dataset. The attributes are calculated during export to a pandas DataFrame. Kloppy does provide some Transformers like one to calculate the angle to the goal, and one to calculate the distance to the goal. When you need additional Transformers you can write your one by providing a `Callable` to `to_df`. "
   ]
  },
  {
   "cell_type": "code",
   "execution_count": null,
   "metadata": {},
   "outputs": [],
   "source": [
    "from kloppy import statsbomb\n",
    "\n",
    "from kloppy.domain.services.transformers.attribute import (\n",
    "    BodyPartTransformer, AngleToGoalTransformer, DistanceToGoalTransformer\n",
    ")\n",
    "\n",
    "dataset = statsbomb.load_open_data(\n",
    "    event_types=[\"pass\", \"shot\"], \n",
    "    coordinates=\"statsbomb\"\n",
    ")\n",
    "\n",
    "dataset.to_df(\n",
    "    AngleToGoalTransformer(),\n",
    "    DistanceToGoalTransformer()\n",
    ")"
   ]
  },
  {
   "cell_type": "code",
   "execution_count": null,
   "metadata": {},
   "outputs": [],
   "source": [
    "event = dataset.events[0]\n",
    "\n",
    "transformer = BodyPartTransformer(encoding=\"one-hot\")\n",
    "print(transformer(event))\n",
    "\n",
    "\n",
    "transformer = AngleToGoalTransformer()\n",
    "transformer(event)"
   ]
  },
  {
   "cell_type": "markdown",
   "metadata": {},
   "source": [
    "## Wildcard\n",
    "\n",
    "When you want to export a set of attributes you can specify a wildcard pattern. This pattern is matched against all default (exported by the `Default` Transformer) attributes."
   ]
  },
  {
   "cell_type": "code",
   "execution_count": null,
   "metadata": {},
   "outputs": [],
   "source": [
    "dataset.to_df(\n",
    "    'period_id',\n",
    "    'timestamp',\n",
    "    '*coordinates*',\n",
    ")"
   ]
  },
  {
   "cell_type": "markdown",
   "metadata": {},
   "source": [
    "## User-defined Transformers\n",
    "\n",
    "Transformers are nothing more than a function which accepts a `Event` and returns `Dict` (`Callable[[Event], Dict])`). The Transformers provided by kloppy are actually classes that define a `__call__` method. You can also use a `lambda` function or any other function to transform attributes.\n",
    "\n",
    "When you use named attributes (specified using a keyword argument) the returned value can be any type (`Callable[[Event], Any]`). "
   ]
  },
  {
   "cell_type": "code",
   "execution_count": null,
   "metadata": {},
   "outputs": [],
   "source": [
    "import random\n",
    "\n",
    "dataset.to_df(\n",
    "    # Unnamed transformer must always be defined as a Callable. The function must return a Dictionary\n",
    "    lambda event: {'period': event.period.id, 'timestamp': event.timestamp},\n",
    "    \n",
    "    # Named transformer can be specified as a constant\n",
    "    some_columns=1234,\n",
    "    \n",
    "    # Or as a callable\n",
    "    other_column=lambda x: random.randint(0, 255)\n",
    ")"
   ]
  },
  {
   "cell_type": "markdown",
   "metadata": {},
   "source": [
    "## to_records\n",
    "\n",
    "Under the hood the `to_df` method uses the `to_records` method. "
   ]
  },
  {
   "cell_type": "code",
   "execution_count": null,
   "metadata": {},
   "outputs": [],
   "source": [
    "records = dataset.to_records(\n",
    "    # Unnamed transformer must always be defined as a Callable. The function must return a Dictionary\n",
    "    lambda event: {'period': event.period.id, 'timestamp': event.timestamp},\n",
    "    \n",
    "    # Named transformer can be specified as a constant\n",
    "    some_columns=1234,\n",
    "    \n",
    "    # Or as a callable\n",
    "    other_column=lambda x: random.randint(0, 255)\n",
    ")\n",
    "records[:10]"
   ]
  }
 ],
 "metadata": {
  "kernelspec": {
   "display_name": "kloppy-venv",
   "language": "python",
   "name": "kloppy-venv"
  },
  "language_info": {
   "codemirror_mode": {
    "name": "ipython",
    "version": 3
   },
   "file_extension": ".py",
   "mimetype": "text/x-python",
   "name": "python",
   "nbconvert_exporter": "python",
   "pygments_lexer": "ipython3",
   "version": "3.8.9"
  },
  "toc": {
   "base_numbering": 1,
   "nav_menu": {},
   "number_sections": true,
   "sideBar": true,
   "skip_h1_title": false,
   "title_cell": "Table of Contents",
   "title_sidebar": "Contents",
   "toc_cell": false,
   "toc_position": {},
   "toc_section_display": true,
   "toc_window_display": false
  }
 },
 "nbformat": 4,
 "nbformat_minor": 4
}
